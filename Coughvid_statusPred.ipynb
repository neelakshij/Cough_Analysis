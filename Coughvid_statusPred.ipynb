{
 "cells": [
  {
   "cell_type": "markdown",
   "id": "554ccc87",
   "metadata": {},
   "source": [
    "data: coughvid dataset with status classification as labels\n",
    "Features: Log-Mel-Spectogram and derivatives \n",
    "ML model:  \n",
    "accuracy:   \n",
    "\n"
   ]
  },
  {
   "cell_type": "code",
   "execution_count": 1,
   "id": "6ef54905",
   "metadata": {},
   "outputs": [],
   "source": [
    "# import libraries\n",
    "import os\n",
    "import pandas as pd\n",
    "import numpy as np\n",
    "import seaborn as sns\n",
    "import matplotlib.pyplot as plt\n",
    "%matplotlib inline\n",
    "import librosa\n",
    "import subprocess\n",
    "from pathlib import Path\n",
    "from scipy.stats import kurtosis, skew"
   ]
  },
  {
   "cell_type": "code",
   "execution_count": 2,
   "id": "a93fc07c",
   "metadata": {},
   "outputs": [
    {
     "name": "stdout",
     "output_type": "stream",
     "text": [
      "(34434, 51)\n"
     ]
    }
   ],
   "source": [
    "# import metadata file and check status column\n",
    "df = pd.read_csv('./coughvid_20211012/metadata_compiled.csv', index_col=[0])\n",
    "print(df.shape)"
   ]
  },
  {
   "cell_type": "code",
   "execution_count": 3,
   "id": "a1e14ef7",
   "metadata": {},
   "outputs": [
    {
     "name": "stdout",
     "output_type": "stream",
     "text": [
      "True\n"
     ]
    },
    {
     "data": {
      "text/plain": [
       "13770"
      ]
     },
     "execution_count": 3,
     "metadata": {},
     "output_type": "execute_result"
    }
   ],
   "source": [
    "# check for NaN values in Severity column\n",
    "print(df['status'].isnull().values.any())\n",
    "df['status'].isnull().values.sum()"
   ]
  },
  {
   "cell_type": "code",
   "execution_count": 4,
   "id": "a71b4188",
   "metadata": {},
   "outputs": [
    {
     "name": "stdout",
     "output_type": "stream",
     "text": [
      "(20664, 51)\n",
      "confirming nanvalues:  0\n"
     ]
    }
   ],
   "source": [
    "# drop NaN values\n",
    "withoutNan_df = df.dropna(subset=['status'])\n",
    "print(withoutNan_df.shape)\n",
    "\n",
    "# confirming\n",
    "print(\"confirming nanvalues: \",withoutNan_df['status'].isnull().values.sum())"
   ]
  },
  {
   "cell_type": "code",
   "execution_count": 5,
   "id": "5833603f",
   "metadata": {},
   "outputs": [
    {
     "data": {
      "text/plain": [
       "healthy        15476\n",
       "symptomatic     3873\n",
       "COVID-19        1315\n",
       "Name: status, dtype: int64"
      ]
     },
     "execution_count": 5,
     "metadata": {},
     "output_type": "execute_result"
    }
   ],
   "source": [
    "withoutNan_df.status.value_counts()"
   ]
  },
  {
   "cell_type": "code",
   "execution_count": 6,
   "id": "6a19b9ac",
   "metadata": {},
   "outputs": [
    {
     "name": "stdout",
     "output_type": "stream",
     "text": [
      "(20664, 2)\n"
     ]
    },
    {
     "data": {
      "text/html": [
       "<div>\n",
       "<style scoped>\n",
       "    .dataframe tbody tr th:only-of-type {\n",
       "        vertical-align: middle;\n",
       "    }\n",
       "\n",
       "    .dataframe tbody tr th {\n",
       "        vertical-align: top;\n",
       "    }\n",
       "\n",
       "    .dataframe thead th {\n",
       "        text-align: right;\n",
       "    }\n",
       "</style>\n",
       "<table border=\"1\" class=\"dataframe\">\n",
       "  <thead>\n",
       "    <tr style=\"text-align: right;\">\n",
       "      <th></th>\n",
       "      <th>uuid</th>\n",
       "      <th>status</th>\n",
       "    </tr>\n",
       "  </thead>\n",
       "  <tbody>\n",
       "    <tr>\n",
       "      <th>1</th>\n",
       "      <td>00039425-7f3a-42aa-ac13-834aaa2b6b92</td>\n",
       "      <td>healthy</td>\n",
       "    </tr>\n",
       "    <tr>\n",
       "      <th>2</th>\n",
       "      <td>0007c6f1-5441-40e6-9aaf-a761d8f2da3b</td>\n",
       "      <td>healthy</td>\n",
       "    </tr>\n",
       "    <tr>\n",
       "      <th>3</th>\n",
       "      <td>00098cdb-4da1-4aa7-825a-4f1b9abc214b</td>\n",
       "      <td>healthy</td>\n",
       "    </tr>\n",
       "    <tr>\n",
       "      <th>4</th>\n",
       "      <td>0009eb28-d8be-4dc1-92bb-907e53bc5c7a</td>\n",
       "      <td>healthy</td>\n",
       "    </tr>\n",
       "    <tr>\n",
       "      <th>6</th>\n",
       "      <td>001328dc-ea5d-4847-9ccf-c5aa2a3f2d0f</td>\n",
       "      <td>healthy</td>\n",
       "    </tr>\n",
       "  </tbody>\n",
       "</table>\n",
       "</div>"
      ],
      "text/plain": [
       "                                   uuid   status\n",
       "1  00039425-7f3a-42aa-ac13-834aaa2b6b92  healthy\n",
       "2  0007c6f1-5441-40e6-9aaf-a761d8f2da3b  healthy\n",
       "3  00098cdb-4da1-4aa7-825a-4f1b9abc214b  healthy\n",
       "4  0009eb28-d8be-4dc1-92bb-907e53bc5c7a  healthy\n",
       "6  001328dc-ea5d-4847-9ccf-c5aa2a3f2d0f  healthy"
      ]
     },
     "execution_count": 6,
     "metadata": {},
     "output_type": "execute_result"
    }
   ],
   "source": [
    "df_id_status = withoutNan_df[[\"uuid\",\"status\"]]\n",
    "print(df_id_status.shape)\n",
    "df_id_status.head()"
   ]
  },
  {
   "cell_type": "code",
   "execution_count": null,
   "id": "836d17ef",
   "metadata": {},
   "outputs": [],
   "source": [
    "### load data and extract features"
   ]
  },
  {
   "cell_type": "code",
   "execution_count": 55,
   "id": "7370a38e",
   "metadata": {},
   "outputs": [],
   "source": [
    "# features to extract\n",
    "def extract_audio_feature(y,sr):\n",
    "    features =[]\n",
    "    \n",
    "    # extract features  \n",
    "    msp = librosa.feature.melspectrogram(y=y, sr=sr, n_mels=64, fmax=8000)\n",
    "    log_msp = librosa.power_to_db(msp)\n",
    "    log_msp_d1 = librosa.feature.delta(log_msp)\n",
    "    log_msp_d2 = librosa.feature.delta(log_msp, order=2)\n",
    "        \n",
    "    features = np.hstack([log_msp.mean(axis=1),log_msp_d1.mean(axis=1),log_msp_d2.mean(axis=1)])\n",
    "    \n",
    "    return features"
   ]
  },
  {
   "cell_type": "code",
   "execution_count": 57,
   "id": "cb8fd8a9",
   "metadata": {
    "scrolled": false
   },
   "outputs": [
    {
     "name": "stdout",
     "output_type": "stream",
     "text": [
      " Processed 20664/20664 audio samples"
     ]
    }
   ],
   "source": [
    "# load audio using uuid and extract features\n",
    "opath =  \"./needAudio/\"\n",
    "\n",
    "# status labels\n",
    "labels_dict = {\n",
    "     '0':'COVID-19',\n",
    "     '1':'healthy',\n",
    "     '2':'symptomatic'\n",
    "}\n",
    "# key and val emotion list\n",
    "key_l = list(labels_dict.keys())\n",
    "val_l = list(labels_dict.values())\n",
    "\n",
    "dfids, labels, features_stat = [], [], []\n",
    "\n",
    "# progress counter\n",
    "file_count = 0\n",
    "\n",
    "for index, ids in enumerate(df_id_status.uuid):\n",
    "       \n",
    "    filepath = opath+ids+'.wav'\n",
    "    # load audio\n",
    "    y, sr = librosa.load(path, mono=True, sr=None)\n",
    "    \n",
    "    if y.shape[0]<1000:\n",
    "        continue\n",
    "        \n",
    "    ftr = extract_audio_feature(y,sr)\n",
    "    features_stat.append(ftr)\n",
    "    \n",
    "    dfids.append(ids)\n",
    "     #labels.append((df1.status).iloc[index])  #string label values\n",
    "    \n",
    "    # get severity label from the sample file in numeric values\n",
    "    lbl_str = (df_id_status.status).iloc[index]\n",
    "    lbl_num = int(key_l[val_l.index(lbl_str)])\n",
    "    labels.append(lbl_num)\n",
    "    \n",
    "    file_count += 1\n",
    "    # keep track of data loader's progress\n",
    "    print('\\r'+f' Processed {file_count}/{len(withoutNan_df)} audio samples',end='')"
   ]
  },
  {
   "cell_type": "code",
   "execution_count": 58,
   "id": "a8954c0c",
   "metadata": {
    "scrolled": true
   },
   "outputs": [
    {
     "name": "stdout",
     "output_type": "stream",
     "text": [
      "features np array shape:  (20664, 192)\n"
     ]
    }
   ],
   "source": [
    "dt = np.array(features_stat)\n",
    "print(\"features np array shape: \",dt.shape)"
   ]
  },
  {
   "cell_type": "code",
   "execution_count": 59,
   "id": "2b10e662",
   "metadata": {},
   "outputs": [
    {
     "name": "stdout",
     "output_type": "stream",
     "text": [
      "(20664,)\n",
      "(20664,)\n"
     ]
    },
    {
     "data": {
      "text/plain": [
       "((20664, 1), (20664, 1))"
      ]
     },
     "execution_count": 59,
     "metadata": {},
     "output_type": "execute_result"
    }
   ],
   "source": [
    "dfids = np.asarray(dfids)\n",
    "print(dfids.shape)\n",
    "df_ids = np.reshape(dfids,(len(dfids),1))\n",
    "\n",
    "labels = np.asarray(labels)\n",
    "print(labels.shape)\n",
    "df_lbl = np.reshape(labels,(len(labels),1))\n",
    "\n",
    "df_ids.shape, df_lbl.shape"
   ]
  },
  {
   "cell_type": "code",
   "execution_count": 60,
   "id": "752c6cdb",
   "metadata": {},
   "outputs": [
    {
     "name": "stdout",
     "output_type": "stream",
     "text": [
      "(20664, 194)\n",
      "(20664, 194)\n"
     ]
    },
    {
     "data": {
      "text/html": [
       "<div>\n",
       "<style scoped>\n",
       "    .dataframe tbody tr th:only-of-type {\n",
       "        vertical-align: middle;\n",
       "    }\n",
       "\n",
       "    .dataframe tbody tr th {\n",
       "        vertical-align: top;\n",
       "    }\n",
       "\n",
       "    .dataframe thead th {\n",
       "        text-align: right;\n",
       "    }\n",
       "</style>\n",
       "<table border=\"1\" class=\"dataframe\">\n",
       "  <thead>\n",
       "    <tr style=\"text-align: right;\">\n",
       "      <th></th>\n",
       "      <th>0</th>\n",
       "      <th>1</th>\n",
       "      <th>2</th>\n",
       "      <th>3</th>\n",
       "      <th>4</th>\n",
       "      <th>5</th>\n",
       "      <th>6</th>\n",
       "      <th>7</th>\n",
       "      <th>8</th>\n",
       "      <th>9</th>\n",
       "      <th>...</th>\n",
       "      <th>184</th>\n",
       "      <th>185</th>\n",
       "      <th>186</th>\n",
       "      <th>187</th>\n",
       "      <th>188</th>\n",
       "      <th>189</th>\n",
       "      <th>190</th>\n",
       "      <th>191</th>\n",
       "      <th>192</th>\n",
       "      <th>193</th>\n",
       "    </tr>\n",
       "  </thead>\n",
       "  <tbody>\n",
       "    <tr>\n",
       "      <th>0</th>\n",
       "      <td>00039425-7f3a-42aa-ac13-834aaa2b6b92</td>\n",
       "      <td>-46.836376</td>\n",
       "      <td>-44.678955</td>\n",
       "      <td>-40.739243</td>\n",
       "      <td>-37.124218</td>\n",
       "      <td>-35.00893</td>\n",
       "      <td>-32.390892</td>\n",
       "      <td>-25.596382</td>\n",
       "      <td>-21.496511</td>\n",
       "      <td>-21.678574</td>\n",
       "      <td>...</td>\n",
       "      <td>2.5999844e-10</td>\n",
       "      <td>-6.499961e-10</td>\n",
       "      <td>7.7999535e-10</td>\n",
       "      <td>3.1199814e-09</td>\n",
       "      <td>-1.169993e-09</td>\n",
       "      <td>3.3799799e-09</td>\n",
       "      <td>5.199969e-10</td>\n",
       "      <td>2.5999844e-10</td>\n",
       "      <td>5.199969e-10</td>\n",
       "      <td>1</td>\n",
       "    </tr>\n",
       "    <tr>\n",
       "      <th>1</th>\n",
       "      <td>0007c6f1-5441-40e6-9aaf-a761d8f2da3b</td>\n",
       "      <td>-46.836376</td>\n",
       "      <td>-44.678955</td>\n",
       "      <td>-40.739243</td>\n",
       "      <td>-37.124218</td>\n",
       "      <td>-35.00893</td>\n",
       "      <td>-32.390892</td>\n",
       "      <td>-25.596382</td>\n",
       "      <td>-21.496511</td>\n",
       "      <td>-21.678574</td>\n",
       "      <td>...</td>\n",
       "      <td>2.5999844e-10</td>\n",
       "      <td>-6.499961e-10</td>\n",
       "      <td>7.7999535e-10</td>\n",
       "      <td>3.1199814e-09</td>\n",
       "      <td>-1.169993e-09</td>\n",
       "      <td>3.3799799e-09</td>\n",
       "      <td>5.199969e-10</td>\n",
       "      <td>2.5999844e-10</td>\n",
       "      <td>5.199969e-10</td>\n",
       "      <td>1</td>\n",
       "    </tr>\n",
       "    <tr>\n",
       "      <th>2</th>\n",
       "      <td>00098cdb-4da1-4aa7-825a-4f1b9abc214b</td>\n",
       "      <td>-46.836376</td>\n",
       "      <td>-44.678955</td>\n",
       "      <td>-40.739243</td>\n",
       "      <td>-37.124218</td>\n",
       "      <td>-35.00893</td>\n",
       "      <td>-32.390892</td>\n",
       "      <td>-25.596382</td>\n",
       "      <td>-21.496511</td>\n",
       "      <td>-21.678574</td>\n",
       "      <td>...</td>\n",
       "      <td>2.5999844e-10</td>\n",
       "      <td>-6.499961e-10</td>\n",
       "      <td>7.7999535e-10</td>\n",
       "      <td>3.1199814e-09</td>\n",
       "      <td>-1.169993e-09</td>\n",
       "      <td>3.3799799e-09</td>\n",
       "      <td>5.199969e-10</td>\n",
       "      <td>2.5999844e-10</td>\n",
       "      <td>5.199969e-10</td>\n",
       "      <td>1</td>\n",
       "    </tr>\n",
       "    <tr>\n",
       "      <th>3</th>\n",
       "      <td>0009eb28-d8be-4dc1-92bb-907e53bc5c7a</td>\n",
       "      <td>-46.836376</td>\n",
       "      <td>-44.678955</td>\n",
       "      <td>-40.739243</td>\n",
       "      <td>-37.124218</td>\n",
       "      <td>-35.00893</td>\n",
       "      <td>-32.390892</td>\n",
       "      <td>-25.596382</td>\n",
       "      <td>-21.496511</td>\n",
       "      <td>-21.678574</td>\n",
       "      <td>...</td>\n",
       "      <td>2.5999844e-10</td>\n",
       "      <td>-6.499961e-10</td>\n",
       "      <td>7.7999535e-10</td>\n",
       "      <td>3.1199814e-09</td>\n",
       "      <td>-1.169993e-09</td>\n",
       "      <td>3.3799799e-09</td>\n",
       "      <td>5.199969e-10</td>\n",
       "      <td>2.5999844e-10</td>\n",
       "      <td>5.199969e-10</td>\n",
       "      <td>1</td>\n",
       "    </tr>\n",
       "    <tr>\n",
       "      <th>4</th>\n",
       "      <td>001328dc-ea5d-4847-9ccf-c5aa2a3f2d0f</td>\n",
       "      <td>-46.836376</td>\n",
       "      <td>-44.678955</td>\n",
       "      <td>-40.739243</td>\n",
       "      <td>-37.124218</td>\n",
       "      <td>-35.00893</td>\n",
       "      <td>-32.390892</td>\n",
       "      <td>-25.596382</td>\n",
       "      <td>-21.496511</td>\n",
       "      <td>-21.678574</td>\n",
       "      <td>...</td>\n",
       "      <td>2.5999844e-10</td>\n",
       "      <td>-6.499961e-10</td>\n",
       "      <td>7.7999535e-10</td>\n",
       "      <td>3.1199814e-09</td>\n",
       "      <td>-1.169993e-09</td>\n",
       "      <td>3.3799799e-09</td>\n",
       "      <td>5.199969e-10</td>\n",
       "      <td>2.5999844e-10</td>\n",
       "      <td>5.199969e-10</td>\n",
       "      <td>1</td>\n",
       "    </tr>\n",
       "  </tbody>\n",
       "</table>\n",
       "<p>5 rows × 194 columns</p>\n",
       "</div>"
      ],
      "text/plain": [
       "                                    0           1           2           3    \\\n",
       "0  00039425-7f3a-42aa-ac13-834aaa2b6b92  -46.836376  -44.678955  -40.739243   \n",
       "1  0007c6f1-5441-40e6-9aaf-a761d8f2da3b  -46.836376  -44.678955  -40.739243   \n",
       "2  00098cdb-4da1-4aa7-825a-4f1b9abc214b  -46.836376  -44.678955  -40.739243   \n",
       "3  0009eb28-d8be-4dc1-92bb-907e53bc5c7a  -46.836376  -44.678955  -40.739243   \n",
       "4  001328dc-ea5d-4847-9ccf-c5aa2a3f2d0f  -46.836376  -44.678955  -40.739243   \n",
       "\n",
       "          4          5           6           7           8           9    ...  \\\n",
       "0  -37.124218  -35.00893  -32.390892  -25.596382  -21.496511  -21.678574  ...   \n",
       "1  -37.124218  -35.00893  -32.390892  -25.596382  -21.496511  -21.678574  ...   \n",
       "2  -37.124218  -35.00893  -32.390892  -25.596382  -21.496511  -21.678574  ...   \n",
       "3  -37.124218  -35.00893  -32.390892  -25.596382  -21.496511  -21.678574  ...   \n",
       "4  -37.124218  -35.00893  -32.390892  -25.596382  -21.496511  -21.678574  ...   \n",
       "\n",
       "             184            185            186            187            188  \\\n",
       "0  2.5999844e-10  -6.499961e-10  7.7999535e-10  3.1199814e-09  -1.169993e-09   \n",
       "1  2.5999844e-10  -6.499961e-10  7.7999535e-10  3.1199814e-09  -1.169993e-09   \n",
       "2  2.5999844e-10  -6.499961e-10  7.7999535e-10  3.1199814e-09  -1.169993e-09   \n",
       "3  2.5999844e-10  -6.499961e-10  7.7999535e-10  3.1199814e-09  -1.169993e-09   \n",
       "4  2.5999844e-10  -6.499961e-10  7.7999535e-10  3.1199814e-09  -1.169993e-09   \n",
       "\n",
       "             189           190            191           192 193  \n",
       "0  3.3799799e-09  5.199969e-10  2.5999844e-10  5.199969e-10   1  \n",
       "1  3.3799799e-09  5.199969e-10  2.5999844e-10  5.199969e-10   1  \n",
       "2  3.3799799e-09  5.199969e-10  2.5999844e-10  5.199969e-10   1  \n",
       "3  3.3799799e-09  5.199969e-10  2.5999844e-10  5.199969e-10   1  \n",
       "4  3.3799799e-09  5.199969e-10  2.5999844e-10  5.199969e-10   1  \n",
       "\n",
       "[5 rows x 194 columns]"
      ]
     },
     "execution_count": 60,
     "metadata": {},
     "output_type": "execute_result"
    }
   ],
   "source": [
    "# be careful, first column is uuid for refernce and last column is severity labels\n",
    "all_col = np.hstack(([df_ids, dt, df_lbl]))\n",
    "print(all_col.shape)\n",
    "\n",
    "df_dt = pd.DataFrame(all_col)\n",
    "print(df_dt.shape)\n",
    "df_dt.head()"
   ]
  },
  {
   "cell_type": "code",
   "execution_count": 61,
   "id": "09129407",
   "metadata": {},
   "outputs": [],
   "source": [
    "# save df\n",
    "#df_dt.to_csv('df_statusPred_mean-log-mel-spectogram-coughvid.csv', index=False)"
   ]
  },
  {
   "cell_type": "code",
   "execution_count": null,
   "id": "bc8dccd3",
   "metadata": {},
   "outputs": [],
   "source": []
  },
  {
   "cell_type": "code",
   "execution_count": 96,
   "id": "f92a45ec",
   "metadata": {},
   "outputs": [],
   "source": [
    "# sklearn\n",
    "\n",
    "from sklearn.model_selection import train_test_split\n",
    "from sklearn.preprocessing import StandardScaler\n",
    "from sklearn.neural_network import MLPClassifier\n",
    "from sklearn import svm, metrics\n",
    "from sklearn.svm import SVC\n",
    "from sklearn.ensemble import RandomForestClassifier\n",
    "from sklearn import neighbors\n",
    "\n",
    "from sklearn.model_selection import StratifiedKFold, cross_val_score\n",
    "from sklearn.metrics import confusion_matrix, classification_report, precision_score \n",
    "from sklearn.metrics import recall_score, f1_score, balanced_accuracy_score, accuracy_score\n",
    "from sklearn.metrics import cohen_kappa_score, matthews_corrcoef\n"
   ]
  },
  {
   "cell_type": "code",
   "execution_count": null,
   "id": "894b4e7d",
   "metadata": {},
   "outputs": [],
   "source": [
    "###  Analysis of Log-Mel-Spectogram + 1st & 2nd order derivatives with mean stat measures for \"Status\""
   ]
  },
  {
   "cell_type": "code",
   "execution_count": 63,
   "id": "77c821f8",
   "metadata": {},
   "outputs": [],
   "source": [
    "# ML analysis :  remember, first col is uuid\n",
    "scaler = StandardScaler().fit(df_dt.iloc[:,1:-1].values)\n",
    "X = scaler.transform(df_dt.iloc[:,1:-1].values)\n",
    "y = df_dt.iloc[:,-1].values\n",
    "\n",
    "skf = StratifiedKFold(n_splits=10, random_state=None, shuffle=True)"
   ]
  },
  {
   "cell_type": "code",
   "execution_count": 71,
   "id": "46375937",
   "metadata": {},
   "outputs": [
    {
     "name": "stdout",
     "output_type": "stream",
     "text": [
      "with SVM: 0.10075617819503553\n"
     ]
    },
    {
     "data": {
      "text/plain": [
       "array([0.18722787, 0.06337687, 0.06337687, 0.06337687, 0.18731849,\n",
       "       0.18731849, 0.06389158, 0.06389158, 0.06389158, 0.06389158])"
      ]
     },
     "execution_count": 71,
     "metadata": {},
     "output_type": "execute_result"
    }
   ],
   "source": [
    "# check with SVM\n",
    "\n",
    "clf = SVC(decision_function_shape='ovo',C=1, gamma='scale' ,kernel='rbf', class_weight=None)  \n",
    "\n",
    "scores = cross_val_score(clf, X, y, scoring='accuracy', cv=skf)        \n",
    "print('with SVM:', scores.mean())\n",
    "scores"
   ]
  },
  {
   "cell_type": "code",
   "execution_count": 68,
   "id": "501687b4",
   "metadata": {},
   "outputs": [
    {
     "name": "stdout",
     "output_type": "stream",
     "text": [
      "with SVM: 0.7489353511198659\n"
     ]
    },
    {
     "data": {
      "text/plain": [
       "array([0.74891147, 0.74891147, 0.74891147, 0.74891147, 0.74927396,\n",
       "       0.74927396, 0.74878993, 0.74878993, 0.74878993, 0.74878993])"
      ]
     },
     "execution_count": 68,
     "metadata": {},
     "output_type": "execute_result"
    }
   ],
   "source": [
    "# check with SVM\n",
    "\n",
    "clf = SVC(decision_function_shape='ovo',C=21, gamma='scale' ,kernel='poly', degree=5, class_weight=None)  \n",
    "\n",
    "scores = cross_val_score(clf, X, y, scoring='accuracy', cv=skf)        \n",
    "print('with SVM:', scores.mean())\n",
    "scores"
   ]
  },
  {
   "cell_type": "code",
   "execution_count": 73,
   "id": "bc49fd01",
   "metadata": {},
   "outputs": [
    {
     "name": "stdout",
     "output_type": "stream",
     "text": [
      "with SVM: 0.7489353511198659\n"
     ]
    },
    {
     "data": {
      "text/plain": [
       "array([0.74891147, 0.74891147, 0.74891147, 0.74891147, 0.74927396,\n",
       "       0.74927396, 0.74878993, 0.74878993, 0.74878993, 0.74878993])"
      ]
     },
     "execution_count": 73,
     "metadata": {},
     "output_type": "execute_result"
    }
   ],
   "source": [
    "# check with SVM\n",
    "\n",
    "clf = SVC(decision_function_shape='ovo',C=5, gamma='scale', kernel='poly', degree=3)  \n",
    "\n",
    "scores = cross_val_score(clf, X, y, scoring='accuracy', cv=skf)        \n",
    "print('with SVM:', scores.mean())\n",
    "scores"
   ]
  },
  {
   "cell_type": "code",
   "execution_count": 70,
   "id": "1c069b59",
   "metadata": {},
   "outputs": [
    {
     "name": "stdout",
     "output_type": "stream",
     "text": [
      "with SVM: 0.7489353511198659\n"
     ]
    },
    {
     "data": {
      "text/plain": [
       "array([0.74891147, 0.74891147, 0.74891147, 0.74891147, 0.74927396,\n",
       "       0.74927396, 0.74878993, 0.74878993, 0.74878993, 0.74878993])"
      ]
     },
     "execution_count": 70,
     "metadata": {},
     "output_type": "execute_result"
    }
   ],
   "source": [
    "# check with SVM\n",
    "\n",
    "clf = SVC(decision_function_shape='ovo',C=3, gamma='scale' ,kernel='rbf', class_weight=None)  \n",
    "\n",
    "scores = cross_val_score(clf, X, y, scoring='accuracy', cv=skf)        \n",
    "print('with SVM:', scores.mean())\n",
    "scores"
   ]
  },
  {
   "cell_type": "code",
   "execution_count": 84,
   "id": "6f92eb36",
   "metadata": {},
   "outputs": [
    {
     "name": "stdout",
     "output_type": "stream",
     "text": [
      "with SVC, 20% test accuracy:  0.7524800387127994\n"
     ]
    }
   ],
   "source": [
    "# check with SVM using split sets to create model\n",
    "\n",
    "X_train, X_test, y_train, y_test = train_test_split(X,y,test_size=0.2, random_state=1, shuffle=True)\n",
    "\n",
    "clf = SVC(decision_function_shape='ovo',C=5, gamma='scale', kernel='poly', degree=3)  \n",
    " \n",
    "clf.fit(X_train, y_train)\n",
    "preds = clf.predict(X_test)\n",
    "val_acc = accuracy_score(y_test, preds)\n",
    "print(\"with SVC, 20% test accuracy: \",val_acc)"
   ]
  },
  {
   "cell_type": "code",
   "execution_count": 86,
   "id": "389f6a0b",
   "metadata": {},
   "outputs": [],
   "source": [
    "# save model\n",
    "import pickle\n",
    "filename = 'Coughvid_statusPred_svc_model.sav'\n",
    "#pickle.dump(clf, open(filename, 'wb'))"
   ]
  },
  {
   "cell_type": "code",
   "execution_count": 92,
   "id": "bdd56515",
   "metadata": {},
   "outputs": [
    {
     "name": "stdout",
     "output_type": "stream",
     "text": [
      "0.6461998951806727\n"
     ]
    }
   ],
   "source": [
    "# finding f1-score\n",
    "f1score = f1_score(y_true=y_test, y_pred=preds,average='weighted')\n",
    "print(f1score)"
   ]
  },
  {
   "cell_type": "code",
   "execution_count": 97,
   "id": "5c2b1a74",
   "metadata": {},
   "outputs": [
    {
     "name": "stdout",
     "output_type": "stream",
     "text": [
      "0.3333333333333333\n"
     ]
    }
   ],
   "source": [
    "# finding balanced accuracy\n",
    "bal_acc = balanced_accuracy_score(y_true=y_test, y_pred=preds)\n",
    "print(bal_acc)"
   ]
  },
  {
   "cell_type": "code",
   "execution_count": null,
   "id": "619ea5c9",
   "metadata": {},
   "outputs": [],
   "source": [
    "#  -------------------- below is MelSpectogram+derivatives with mean"
   ]
  },
  {
   "cell_type": "code",
   "execution_count": 87,
   "id": "9acc57f5",
   "metadata": {},
   "outputs": [
    {
     "name": "stdout",
     "output_type": "stream",
     "text": [
      "with MLP: 0.7489353511198659\n"
     ]
    },
    {
     "data": {
      "text/plain": [
       "array([0.74891147, 0.74891147, 0.74891147, 0.74891147, 0.74927396,\n",
       "       0.74927396, 0.74878993, 0.74878993, 0.74878993, 0.74878993])"
      ]
     },
     "execution_count": 87,
     "metadata": {},
     "output_type": "execute_result"
    }
   ],
   "source": [
    "# apply MLP\n",
    "mlpc = MLPClassifier(solver='adam', alpha=1e-5, hidden_layer_sizes=(512,256,128,64,32),activation='relu')\n",
    "\n",
    "scores = cross_val_score(mlpc, X, y, scoring='accuracy', cv=skf)        \n",
    "print('with MLP:', scores.mean())\n",
    "scores"
   ]
  },
  {
   "cell_type": "code",
   "execution_count": 88,
   "id": "d7f6132f",
   "metadata": {},
   "outputs": [
    {
     "name": "stdout",
     "output_type": "stream",
     "text": [
      "with RF: 0.7489353511198659\n"
     ]
    },
    {
     "data": {
      "text/plain": [
       "array([0.74891147, 0.74891147, 0.74891147, 0.74891147, 0.74927396,\n",
       "       0.74927396, 0.74878993, 0.74878993, 0.74878993, 0.74878993])"
      ]
     },
     "execution_count": 88,
     "metadata": {},
     "output_type": "execute_result"
    }
   ],
   "source": [
    "# apply RF\n",
    "rfc = RandomForestClassifier(bootstrap = True, max_depth=20, min_samples_split=3, min_samples_leaf=3, \n",
    "                             max_features='log2', n_estimators=1900)\n",
    "scores = cross_val_score(rfc, X, y, scoring='accuracy', cv=skf)        \n",
    "print('with RF:', scores.mean())\n",
    "scores"
   ]
  },
  {
   "cell_type": "code",
   "execution_count": 89,
   "id": "5fdc9124",
   "metadata": {},
   "outputs": [
    {
     "name": "stdout",
     "output_type": "stream",
     "text": [
      "with KNN: 0.7489353511198659\n"
     ]
    },
    {
     "data": {
      "text/plain": [
       "array([0.74891147, 0.74891147, 0.74891147, 0.74891147, 0.74927396,\n",
       "       0.74927396, 0.74878993, 0.74878993, 0.74878993, 0.74878993])"
      ]
     },
     "execution_count": 89,
     "metadata": {},
     "output_type": "execute_result"
    }
   ],
   "source": [
    "# apply KNN\n",
    "knn = neighbors.KNeighborsClassifier(algorithm='kd_tree', leaf_size= 30, n_neighbors= 7, weights= 'uniform')\n",
    "scores = cross_val_score(knn, X, y, scoring='accuracy', cv=skf)        \n",
    "print('with KNN:', scores.mean())\n",
    "scores"
   ]
  },
  {
   "cell_type": "code",
   "execution_count": null,
   "id": "51600df6",
   "metadata": {},
   "outputs": [],
   "source": []
  }
 ],
 "metadata": {
  "kernelspec": {
   "display_name": "Python 3 (ipykernel)",
   "language": "python",
   "name": "python3"
  },
  "language_info": {
   "codemirror_mode": {
    "name": "ipython",
    "version": 3
   },
   "file_extension": ".py",
   "mimetype": "text/x-python",
   "name": "python",
   "nbconvert_exporter": "python",
   "pygments_lexer": "ipython3",
   "version": "3.10.0"
  }
 },
 "nbformat": 4,
 "nbformat_minor": 5
}
