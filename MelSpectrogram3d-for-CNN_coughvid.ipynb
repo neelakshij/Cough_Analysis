{
 "cells": [
  {
   "cell_type": "markdown",
   "id": "6265c1c2",
   "metadata": {
    "id": "554ccc87"
   },
   "source": [
    "### Feature: MelSpectogram, first order derivative and second order derivatives as 3-d matrix.\n",
    "\n",
    "This work used cleaned_df created by Dharvi and train-test split as shown by Shibendra.\n"
   ]
  },
  {
   "cell_type": "code",
   "execution_count": 1,
   "id": "0f225f9b",
   "metadata": {
    "colab": {
     "background_save": true
    },
    "id": "6ef54905"
   },
   "outputs": [],
   "source": [
    "# import libraries\n",
    "import os\n",
    "import pandas as pd\n",
    "import numpy as np\n",
    "import librosa\n",
    "import random\n",
    "\n",
    "import seaborn as sns\n",
    "import matplotlib.pyplot as plt\n",
    "%matplotlib inline\n",
    "\n",
    "from sklearn.model_selection import train_test_split\n",
    "from sklearn.metrics import confusion_matrix, accuracy_score, classification_report\n",
    "from sklearn.preprocessing import LabelEncoder, StandardScaler\n",
    "\n",
    "import random\n",
    "import tensorflow as tf\n",
    "#from tensorflow_addons.image import sparse_image_warp"
   ]
  },
  {
   "cell_type": "code",
   "execution_count": 15,
   "id": "1b2e6d7c",
   "metadata": {
    "colab": {
     "background_save": true,
     "base_uri": "https://localhost:8080/",
     "height": 497
    },
    "executionInfo": {
     "elapsed": 18,
     "status": "error",
     "timestamp": 1686956106288,
     "user": {
      "displayName": "neelakshi j",
      "userId": "15520115196069041521"
     },
     "user_tz": 180
    },
    "id": "a93fc07c",
    "outputId": "27faeef0-f8f2-4b93-9d1a-bd1e478eec82"
   },
   "outputs": [
    {
     "name": "stdout",
     "output_type": "stream",
     "text": [
      "(2587, 17)\n",
      "(2449, 17)\n"
     ]
    },
    {
     "data": {
      "text/plain": [
       "mild           1691\n",
       "pseudocough     526\n",
       "severe          230\n",
       "Name: severity, dtype: int64"
      ]
     },
     "execution_count": 15,
     "metadata": {},
     "output_type": "execute_result"
    }
   ],
   "source": [
    "# import cleaned data file and check severity column\n",
    "df_cleanedData =  pd.read_csv('cleaned_coughvid_data.csv')\n",
    "print(df_cleanedData.shape)\n",
    "\n",
    "# drop records where severity==unknown\n",
    "df = df_cleanedData[df_cleanedData.severity != 'unknown']\n",
    "print(df.shape)\n",
    "df['severity'].value_counts()"
   ]
  },
  {
   "cell_type": "code",
   "execution_count": 16,
   "id": "d737af54",
   "metadata": {},
   "outputs": [
    {
     "name": "stdout",
     "output_type": "stream",
     "text": [
      "True\n"
     ]
    },
    {
     "data": {
      "text/plain": [
       "2"
      ]
     },
     "execution_count": 16,
     "metadata": {},
     "output_type": "execute_result"
    }
   ],
   "source": [
    "# check for NaN values in Severity column\n",
    "print(df['severity'].isnull().values.any())\n",
    "df['severity'].isnull().values.sum()"
   ]
  },
  {
   "cell_type": "code",
   "execution_count": 18,
   "id": "231d8001",
   "metadata": {},
   "outputs": [
    {
     "data": {
      "text/plain": [
       "(2447, 17)"
      ]
     },
     "execution_count": 18,
     "metadata": {},
     "output_type": "execute_result"
    }
   ],
   "source": [
    "# drop NaN values\n",
    "withoutNan_df = df.dropna(subset=['severity'])\n",
    "withoutNan_df.shape"
   ]
  },
  {
   "cell_type": "code",
   "execution_count": 19,
   "id": "bfe0014f",
   "metadata": {},
   "outputs": [
    {
     "data": {
      "text/plain": [
       "0"
      ]
     },
     "execution_count": 19,
     "metadata": {},
     "output_type": "execute_result"
    }
   ],
   "source": [
    "withoutNan_df['severity'].isnull().values.sum()"
   ]
  },
  {
   "cell_type": "code",
   "execution_count": 20,
   "id": "696b7502",
   "metadata": {},
   "outputs": [
    {
     "data": {
      "text/html": [
       "<div>\n",
       "<style scoped>\n",
       "    .dataframe tbody tr th:only-of-type {\n",
       "        vertical-align: middle;\n",
       "    }\n",
       "\n",
       "    .dataframe tbody tr th {\n",
       "        vertical-align: top;\n",
       "    }\n",
       "\n",
       "    .dataframe thead th {\n",
       "        text-align: right;\n",
       "    }\n",
       "</style>\n",
       "<table border=\"1\" class=\"dataframe\">\n",
       "  <thead>\n",
       "    <tr style=\"text-align: right;\">\n",
       "      <th></th>\n",
       "      <th>uuid</th>\n",
       "      <th>cough_detected</th>\n",
       "      <th>age</th>\n",
       "      <th>gender</th>\n",
       "      <th>respiratory_condition</th>\n",
       "      <th>fever_muscle_pain</th>\n",
       "      <th>status</th>\n",
       "      <th>status_SSL</th>\n",
       "      <th>cough_type</th>\n",
       "      <th>dyspnea</th>\n",
       "      <th>wheezing</th>\n",
       "      <th>stridor</th>\n",
       "      <th>choking</th>\n",
       "      <th>congestion</th>\n",
       "      <th>nothing</th>\n",
       "      <th>diagnosis</th>\n",
       "      <th>severity</th>\n",
       "    </tr>\n",
       "  </thead>\n",
       "  <tbody>\n",
       "    <tr>\n",
       "      <th>0</th>\n",
       "      <td>01567151-7bb2-45ee-9aa8-a1332b5941ea</td>\n",
       "      <td>0.9820</td>\n",
       "      <td>NaN</td>\n",
       "      <td>NaN</td>\n",
       "      <td>NaN</td>\n",
       "      <td>NaN</td>\n",
       "      <td>NaN</td>\n",
       "      <td>NaN</td>\n",
       "      <td>dry</td>\n",
       "      <td>False</td>\n",
       "      <td>False</td>\n",
       "      <td>False</td>\n",
       "      <td>True</td>\n",
       "      <td>False</td>\n",
       "      <td>False</td>\n",
       "      <td>COVID-19</td>\n",
       "      <td>0</td>\n",
       "    </tr>\n",
       "    <tr>\n",
       "      <th>1</th>\n",
       "      <td>018b40a1-c109-459a-9e31-86cbd2cb3918</td>\n",
       "      <td>0.9869</td>\n",
       "      <td>NaN</td>\n",
       "      <td>NaN</td>\n",
       "      <td>NaN</td>\n",
       "      <td>NaN</td>\n",
       "      <td>NaN</td>\n",
       "      <td>NaN</td>\n",
       "      <td>wet</td>\n",
       "      <td>False</td>\n",
       "      <td>False</td>\n",
       "      <td>False</td>\n",
       "      <td>False</td>\n",
       "      <td>False</td>\n",
       "      <td>True</td>\n",
       "      <td>lower_infection</td>\n",
       "      <td>0</td>\n",
       "    </tr>\n",
       "    <tr>\n",
       "      <th>2</th>\n",
       "      <td>01ff40e8-63e6-4570-a463-9778ea30cad7</td>\n",
       "      <td>0.9686</td>\n",
       "      <td>24.0</td>\n",
       "      <td>other</td>\n",
       "      <td>False</td>\n",
       "      <td>False</td>\n",
       "      <td>symptomatic</td>\n",
       "      <td>NaN</td>\n",
       "      <td>dry</td>\n",
       "      <td>False</td>\n",
       "      <td>False</td>\n",
       "      <td>False</td>\n",
       "      <td>False</td>\n",
       "      <td>False</td>\n",
       "      <td>True</td>\n",
       "      <td>healthy_cough</td>\n",
       "      <td>1</td>\n",
       "    </tr>\n",
       "    <tr>\n",
       "      <th>3</th>\n",
       "      <td>0379c586-c500-483c-83a6-95b63afe6931</td>\n",
       "      <td>0.9916</td>\n",
       "      <td>63.0</td>\n",
       "      <td>male</td>\n",
       "      <td>True</td>\n",
       "      <td>False</td>\n",
       "      <td>COVID-19</td>\n",
       "      <td>NaN</td>\n",
       "      <td>dry</td>\n",
       "      <td>False</td>\n",
       "      <td>False</td>\n",
       "      <td>False</td>\n",
       "      <td>False</td>\n",
       "      <td>False</td>\n",
       "      <td>True</td>\n",
       "      <td>healthy_cough</td>\n",
       "      <td>1</td>\n",
       "    </tr>\n",
       "    <tr>\n",
       "      <th>4</th>\n",
       "      <td>038592cb-c8db-4f55-8052-e20059146cb5</td>\n",
       "      <td>0.9824</td>\n",
       "      <td>28.0</td>\n",
       "      <td>male</td>\n",
       "      <td>False</td>\n",
       "      <td>False</td>\n",
       "      <td>healthy</td>\n",
       "      <td>NaN</td>\n",
       "      <td>dry</td>\n",
       "      <td>False</td>\n",
       "      <td>False</td>\n",
       "      <td>False</td>\n",
       "      <td>False</td>\n",
       "      <td>False</td>\n",
       "      <td>True</td>\n",
       "      <td>COVID-19</td>\n",
       "      <td>0</td>\n",
       "    </tr>\n",
       "  </tbody>\n",
       "</table>\n",
       "</div>"
      ],
      "text/plain": [
       "                                   uuid  cough_detected   age gender  \\\n",
       "0  01567151-7bb2-45ee-9aa8-a1332b5941ea          0.9820   NaN    NaN   \n",
       "1  018b40a1-c109-459a-9e31-86cbd2cb3918          0.9869   NaN    NaN   \n",
       "2  01ff40e8-63e6-4570-a463-9778ea30cad7          0.9686  24.0  other   \n",
       "3  0379c586-c500-483c-83a6-95b63afe6931          0.9916  63.0   male   \n",
       "4  038592cb-c8db-4f55-8052-e20059146cb5          0.9824  28.0   male   \n",
       "\n",
       "  respiratory_condition fever_muscle_pain       status status_SSL cough_type  \\\n",
       "0                   NaN               NaN          NaN        NaN        dry   \n",
       "1                   NaN               NaN          NaN        NaN        wet   \n",
       "2                 False             False  symptomatic        NaN        dry   \n",
       "3                  True             False     COVID-19        NaN        dry   \n",
       "4                 False             False      healthy        NaN        dry   \n",
       "\n",
       "   dyspnea  wheezing  stridor  choking  congestion  nothing        diagnosis  \\\n",
       "0    False     False    False     True       False    False         COVID-19   \n",
       "1    False     False    False    False       False     True  lower_infection   \n",
       "2    False     False    False    False       False     True    healthy_cough   \n",
       "3    False     False    False    False       False     True    healthy_cough   \n",
       "4    False     False    False    False       False     True         COVID-19   \n",
       "\n",
       "   severity  \n",
       "0         0  \n",
       "1         0  \n",
       "2         1  \n",
       "3         1  \n",
       "4         0  "
      ]
     },
     "execution_count": 20,
     "metadata": {},
     "output_type": "execute_result"
    }
   ],
   "source": [
    "# convert labels categoricals to numericals\n",
    "severity_label_map = {\"mild\":0, \"pseudocough\":1, \"severe\": 2}\n",
    "withoutNan_df = withoutNan_df.replace({\"severity\": severity_label_map})\n",
    "withoutNan_df.head()"
   ]
  },
  {
   "cell_type": "code",
   "execution_count": 21,
   "id": "8268cc30",
   "metadata": {},
   "outputs": [
    {
     "data": {
      "text/html": [
       "<div>\n",
       "<style scoped>\n",
       "    .dataframe tbody tr th:only-of-type {\n",
       "        vertical-align: middle;\n",
       "    }\n",
       "\n",
       "    .dataframe tbody tr th {\n",
       "        vertical-align: top;\n",
       "    }\n",
       "\n",
       "    .dataframe thead th {\n",
       "        text-align: right;\n",
       "    }\n",
       "</style>\n",
       "<table border=\"1\" class=\"dataframe\">\n",
       "  <thead>\n",
       "    <tr style=\"text-align: right;\">\n",
       "      <th></th>\n",
       "      <th>uuid</th>\n",
       "      <th>severity</th>\n",
       "    </tr>\n",
       "  </thead>\n",
       "  <tbody>\n",
       "    <tr>\n",
       "      <th>274</th>\n",
       "      <td>7876c549-066a-4ea1-a82e-45772114f964</td>\n",
       "      <td>0</td>\n",
       "    </tr>\n",
       "    <tr>\n",
       "      <th>1076</th>\n",
       "      <td>d801aaa2-a086-4213-a552-7dd6fbf53943</td>\n",
       "      <td>0</td>\n",
       "    </tr>\n",
       "    <tr>\n",
       "      <th>1820</th>\n",
       "      <td>f99a8315-236c-483b-8222-449dea88604a</td>\n",
       "      <td>0</td>\n",
       "    </tr>\n",
       "    <tr>\n",
       "      <th>925</th>\n",
       "      <td>99e55cd3-f001-4c4d-98e8-c9e4e7a3410b</td>\n",
       "      <td>0</td>\n",
       "    </tr>\n",
       "    <tr>\n",
       "      <th>2376</th>\n",
       "      <td>b986fda8-71e3-4de9-8702-5cc2c82b5faa</td>\n",
       "      <td>0</td>\n",
       "    </tr>\n",
       "    <tr>\n",
       "      <th>405</th>\n",
       "      <td>b4cb0e7d-ee40-4088-8e82-21a910caa86a</td>\n",
       "      <td>0</td>\n",
       "    </tr>\n",
       "  </tbody>\n",
       "</table>\n",
       "</div>"
      ],
      "text/plain": [
       "                                      uuid  severity\n",
       "274   7876c549-066a-4ea1-a82e-45772114f964         0\n",
       "1076  d801aaa2-a086-4213-a552-7dd6fbf53943         0\n",
       "1820  f99a8315-236c-483b-8222-449dea88604a         0\n",
       "925   99e55cd3-f001-4c4d-98e8-c9e4e7a3410b         0\n",
       "2376  b986fda8-71e3-4de9-8702-5cc2c82b5faa         0\n",
       "405   b4cb0e7d-ee40-4088-8e82-21a910caa86a         0"
      ]
     },
     "execution_count": 21,
     "metadata": {},
     "output_type": "execute_result"
    }
   ],
   "source": [
    "# get uuid and lebels as required-df \n",
    "reqdf = withoutNan_df[[\"uuid\",\"severity\"]]\n",
    "reqdf.sample(6)"
   ]
  },
  {
   "cell_type": "code",
   "execution_count": 22,
   "id": "a5530d9b",
   "metadata": {},
   "outputs": [
    {
     "data": {
      "text/plain": [
       "((2447, 1), (2447,))"
      ]
     },
     "execution_count": 22,
     "metadata": {},
     "output_type": "execute_result"
    }
   ],
   "source": [
    "# assign uuid as X and severity as y\n",
    "\n",
    "X = reqdf.drop([\"severity\"], axis=1)\n",
    "y = reqdf[\"severity\"]\n",
    "X.shape, y.shape"
   ]
  },
  {
   "cell_type": "code",
   "execution_count": 23,
   "id": "86d7e71f",
   "metadata": {},
   "outputs": [
    {
     "name": "stdout",
     "output_type": "stream",
     "text": [
      "training set size:  (1712, 1) (1712,)\n",
      "validation set size:  (367, 1) (367,)\n",
      "test set size:  (368, 1) (368,)\n"
     ]
    }
   ],
   "source": [
    "# generate train-validation-test sets as 70-15-15%\n",
    "\n",
    "X_train,X_test,y_train,y_test=train_test_split(X,y,test_size=0.3,random_state=0)\n",
    "\n",
    "# split test sets into validation and test sets\n",
    "X_val,X_test,y_val,y_test=train_test_split(X_test,y_test,test_size=0.5,random_state=0)\n",
    "\n",
    "print(\"training set size: \",X_train.shape, y_train.shape)\n",
    "print(\"validation set size: \",X_val.shape, y_val.shape)\n",
    "print(\"test set size: \",X_test.shape, y_test.shape)"
   ]
  },
  {
   "cell_type": "code",
   "execution_count": 24,
   "id": "a57e27a6",
   "metadata": {},
   "outputs": [
    {
     "data": {
      "text/plain": [
       "0    1194\n",
       "1     366\n",
       "2     152\n",
       "Name: severity, dtype: int64"
      ]
     },
     "execution_count": 24,
     "metadata": {},
     "output_type": "execute_result"
    }
   ],
   "source": [
    "# prepare dataframe of splitted sets\n",
    "df_train = X_train.assign(severity = y_train)\n",
    "df_train.severity.value_counts()"
   ]
  },
  {
   "cell_type": "code",
   "execution_count": 25,
   "id": "de9a93a6",
   "metadata": {},
   "outputs": [
    {
     "data": {
      "text/plain": [
       "0    251\n",
       "1     79\n",
       "2     37\n",
       "Name: severity, dtype: int64"
      ]
     },
     "execution_count": 25,
     "metadata": {},
     "output_type": "execute_result"
    }
   ],
   "source": [
    "df_validation = X_val.assign(severity = y_val)\n",
    "df_validation.severity.value_counts()"
   ]
  },
  {
   "cell_type": "code",
   "execution_count": 26,
   "id": "f7a06641",
   "metadata": {},
   "outputs": [
    {
     "data": {
      "text/plain": [
       "0    246\n",
       "1     81\n",
       "2     41\n",
       "Name: severity, dtype: int64"
      ]
     },
     "execution_count": 26,
     "metadata": {},
     "output_type": "execute_result"
    }
   ],
   "source": [
    "df_test = X_test.assign(severity = y_test)\n",
    "df_test.severity.value_counts()"
   ]
  },
  {
   "cell_type": "markdown",
   "id": "9bb81597",
   "metadata": {},
   "source": [
    "Extract features for all three sets and save"
   ]
  },
  {
   "cell_type": "code",
   "execution_count": 97,
   "id": "081f1ae3",
   "metadata": {
    "id": "7370a38e"
   },
   "outputs": [],
   "source": [
    "# features to extract: Log-Melspectogram and first two order derivatives together as a 3-d matrix\n",
    "def extract_audio_feature(path):\n",
    "    # found maximum shape of MSP and created temp matrix to pad zeros\n",
    "    feature_matrix = np.zeros((64,316,3))\n",
    "   \n",
    "    # load audio\n",
    "    y, sr = librosa.load(path, sr=16000)\n",
    "       \n",
    "    # extract features and derivatives of selected features\n",
    "    msp = librosa.feature.melspectrogram(y=y, sr=sr, n_mels=64, fmax=8000)\n",
    "    lg_msp = np.log(msp + 1e-9) # add small number to avoid log(0)\n",
    "    msp_d1 = librosa.feature.delta(lg_msp)\n",
    "    msp_d2 = librosa.feature.delta(lg_msp, order=2)\n",
    "\n",
    "    # all MSP and derivatives will have exact 64 mel freq hence instead of \"0:msp.shape[0]\" we can consider default range\n",
    "    feature_matrix[:, 0:msp.shape[1], 0] = lg_msp\n",
    "    feature_matrix[:, 0:msp_d1.shape[1], 1] = msp_d1\n",
    "    feature_matrix[:, 0:msp_d2.shape[1], 2] = msp_d2\n",
    "\n",
    "    return feature_matrix"
   ]
  },
  {
   "cell_type": "code",
   "execution_count": 98,
   "id": "c69458bd",
   "metadata": {
    "id": "cb8fd8a9",
    "outputId": "cfe60e3b-4d0b-4aca-d4ef-20ff959fcfe0"
   },
   "outputs": [
    {
     "name": "stdout",
     "output_type": "stream",
     "text": [
      " Processed 1712/1712 audio samples"
     ]
    }
   ],
   "source": [
    "# generate MelSpectogram for all three sets and save those \n",
    "\n",
    "# df_train:\n",
    "\n",
    "ftr_train = np.zeros((64,316,3,len(df_train)))\n",
    "\n",
    "# load audio using uuid and extract features\n",
    "opath =  \"./wavFiles/\"\n",
    "\n",
    "labels = []\n",
    "\n",
    "# progress counter\n",
    "file_count = 0\n",
    "\n",
    "for index, ids in enumerate(df_train.uuid):\n",
    "    labels.append((df_train.severity).iloc[index])\n",
    "\n",
    "    filepath = opath+ids+'.wav'\n",
    "    msp_mat = extract_audio_feature(filepath)\n",
    "    ftr_train[:,:,:,index]=msp_mat\n",
    "\n",
    "    file_count += 1\n",
    "    # keep track of data loader's progress\n",
    "    print('\\r'+f' Processed {file_count}/{len(df_train)} audio samples',end='')"
   ]
  },
  {
   "cell_type": "code",
   "execution_count": 99,
   "id": "89b85398",
   "metadata": {},
   "outputs": [
    {
     "name": "stdout",
     "output_type": "stream",
     "text": [
      " Processed 367/367 audio samples"
     ]
    }
   ],
   "source": [
    "# generate MelSpectogram for all three sets and save those \n",
    "\n",
    "# df_validation:\n",
    "\n",
    "ftr_validation = np.zeros((64,316,3,len(df_validation)))\n",
    "\n",
    "# load audio using uuid and extract features\n",
    "opath =  \"./wavFiles/\"\n",
    "\n",
    "labels = []\n",
    "\n",
    "# progress counter\n",
    "file_count = 0\n",
    "\n",
    "for index, ids in enumerate(df_validation.uuid):\n",
    "    labels.append((df_validation.severity).iloc[index])\n",
    "\n",
    "    filepath = opath+ids+'.wav'\n",
    "    msp_mat = extract_audio_feature(filepath)\n",
    "    ftr_validation[:,:,:,index]=msp_mat\n",
    "\n",
    "    file_count += 1\n",
    "    # keep track of data loader's progress\n",
    "    print('\\r'+f' Processed {file_count}/{len(df_validation)} audio samples',end='')"
   ]
  },
  {
   "cell_type": "code",
   "execution_count": 100,
   "id": "2e0a3ce2",
   "metadata": {},
   "outputs": [
    {
     "name": "stdout",
     "output_type": "stream",
     "text": [
      " Processed 368/368 audio samples"
     ]
    }
   ],
   "source": [
    "# generate MelSpectogram for all three sets and save those \n",
    "\n",
    "# df_test:\n",
    "\n",
    "ftr_test = np.zeros((64,316,3,len(df_test)))\n",
    "\n",
    "# load audio using uuid and extract features\n",
    "opath =  \"./wavFiles/\"\n",
    "\n",
    "labels = []\n",
    "\n",
    "# progress counter\n",
    "file_count = 0\n",
    "\n",
    "for index, ids in enumerate(df_test.uuid):\n",
    "    labels.append((df_test.severity).iloc[index])\n",
    "\n",
    "    filepath = opath+ids+'.wav'\n",
    "    msp_mat = extract_audio_feature(filepath)\n",
    "    ftr_test[:,:,:,index]=msp_mat\n",
    "\n",
    "    file_count += 1\n",
    "    # keep track of data loader's progress\n",
    "    print('\\r'+f' Processed {file_count}/{len(df_test)} audio samples',end='')"
   ]
  },
  {
   "cell_type": "code",
   "execution_count": 101,
   "id": "ff53665e",
   "metadata": {},
   "outputs": [],
   "source": [
    "# save df_train, df_validation, df_test along with their respective features: log-mel-spectogram and derivatives\n",
    "\n",
    "#df_train.to_csv('df_train.csv')\n",
    "#df_validation.to_csv('df_validation.csv')\n",
    "#df_test.to_csv('df_test.csv')\n",
    "\n",
    "#np.save(\"ftr_train.npy\",ftr_train)\n",
    "#np.save(\"ftr_validation.npy\",ftr_validation)\n",
    "#np.save(\"ftr_test.npy\",ftr_test)"
   ]
  },
  {
   "cell_type": "markdown",
   "id": "109489f0",
   "metadata": {},
   "source": [
    "### Load dataframes of train, validation and test sets and respective feature matrices"
   ]
  },
  {
   "cell_type": "code",
   "execution_count": 2,
   "id": "84d7a8b5",
   "metadata": {},
   "outputs": [],
   "source": [
    "# load dataframes of train, validation and test sets \n",
    "df_train = pd.read_csv('df_train.csv')\n",
    "df_validation = pd.read_csv('df_validation.csv')\n",
    "df_test = pd.read_csv('df_test.csv')\n",
    "\n",
    "# load respective feature matrices\n",
    "feature_train = np.load(\"ftr_train.npy\")\n",
    "feature_validation = np.load(\"ftr_validation.npy\")\n",
    "feature_test = np.load(\"ftr_test.npy\")"
   ]
  },
  {
   "cell_type": "code",
   "execution_count": 3,
   "id": "99da766b",
   "metadata": {},
   "outputs": [
    {
     "name": "stdout",
     "output_type": "stream",
     "text": [
      "(1712, 3) (367, 3) (368, 3)\n",
      "(64, 316, 3, 1712) (64, 316, 3, 367) (64, 316, 3, 368)\n"
     ]
    }
   ],
   "source": [
    "# check dimentions\n",
    "print(df_train.shape, df_validation.shape, df_test.shape)\n",
    "print(feature_train.shape, feature_validation.shape, feature_test.shape)"
   ]
  },
  {
   "cell_type": "markdown",
   "id": "0239da8c",
   "metadata": {},
   "source": [
    "### Train set contains samples per labels:\n",
    "\n",
    "1194 for mild (0), 366 for psuedocough (1), and 152 for severe (2).\n",
    "\n",
    "### Let's augment log-mel-spectograms for psuedocough by 100% and for severe by 300% using SpecAugment method.\n",
    "\n",
    "For SpecAugment method, \n",
    "Refer: SpecAugment: A Simple Data Augmentation Method for Automatic Speech Recognition Park, Daniel S. and Chan, William and Zhang, Yu and Chiu, Chung-Cheng and Zoph, Barret and Cubuk, Ekin D. and Le, Quoc V. Interspeech 2019 \n",
    "<https://www.isca-speech.org/archive/pdfs/interspeech_2019/park19e_interspeech.pdf>\n",
    "\n",
    "Other resource: https://github.com/pyyush/SpecAugment/tree/master"
   ]
  },
  {
   "cell_type": "code",
   "execution_count": 38,
   "id": "9fbcb868",
   "metadata": {},
   "outputs": [],
   "source": [
    "# Feature augmentation functions:\n",
    "\n",
    "# frequency masking\n",
    "def freq_masking(msp):\n",
    "    v = msp.shape[0] # no. of mel bins (=64)\n",
    "    num_freq_mask = 1 \n",
    "    F = 12   # freq_mask parameter\n",
    "       \n",
    "    # apply number of frequency masks to the log mel spectrogram\n",
    "    for i in range(num_freq_mask):\n",
    "        f = int(np.random.uniform(0, F)) # [0, F)\n",
    "        f0 = random.randint(0, v - f) # [0, v - f)\n",
    "        msp[f0:f0+f, :] = 0\n",
    "            \n",
    "    return msp\n",
    "\n",
    "\n",
    "# time masking\n",
    "def time_masking(msp, num_time_mask):\n",
    "    tau = msp.shape[1] # time frames\n",
    "    #num_time_mask = 1\n",
    "    T = 15  #Time Mask parameter  \n",
    "        \n",
    "    # apply numbeer of time masks to the log mel spectrogram\n",
    "    for i in range(num_time_mask):\n",
    "        t = int(np.random.uniform(0,T)) # [0, T)\n",
    "        t0 = random.randint(0, tau - t) # [0, tau - t)\n",
    "        msp[:, t0:t0+t] = 0\n",
    "            \n",
    "    return msp"
   ]
  },
  {
   "cell_type": "code",
   "execution_count": 42,
   "id": "6706ad0c",
   "metadata": {},
   "outputs": [
    {
     "name": "stdout",
     "output_type": "stream",
     "text": [
      " Processed 822/822 audio samples822 822\n"
     ]
    }
   ],
   "source": [
    "'''\n",
    "Need to augment only for labels == 1 and 2. \n",
    "    if label == 1: augment once either time or freq masking\n",
    "    if label == 2: augment with time, freq and third one with two times with time masking and once with freq masking,\n",
    "    as time axis is almost 5 times larger than frequency axis\n",
    "Input to augment features: log-mel-spectogram which is first dimentional matrix\n",
    "Output: augmented log-mel-spectogram. Find derivatives and create new augmented matrix. \n",
    "Add as a new feature along with uuid and labels by creating new augment train df.\n",
    "'''\n",
    "aug_id = []\n",
    "aug_lbl = []\n",
    "counter = 0\n",
    "augLen = 366+(152*3) # df_train.severity==1 + 2* df_train.severity==2\n",
    "ftr_train_aug = np.zeros((64,316,3,augLen))\n",
    "\n",
    "for index, ids in enumerate(df_train.uuid):\n",
    "\n",
    "    lbl = (df_train.severity).iloc[index]\n",
    "    \n",
    "    if lbl==0:\n",
    "        continue\n",
    "    \n",
    "    if lbl==1:\n",
    "        lmsp = feature_train[:,:,1,index]\n",
    "        \n",
    "        choice = random.uniform(0, 1)\n",
    "        if choice > 0.5:\n",
    "            new_lmsp = time_masking(lmsp, num_time_mask=1)\n",
    "        else:\n",
    "            new_lmsp = freq_masking(lmsp)\n",
    "        \n",
    "        # find derivatives of masked lmsp\n",
    "        lmsp_d1 = librosa.feature.delta(new_lmsp)\n",
    "        lmsp_d2 = librosa.feature.delta(new_lmsp, order=2)\n",
    "        \n",
    "        ftr_train_aug[:, 0:new_lmsp.shape[1], 0, counter] = new_lmsp\n",
    "        ftr_train_aug[:, 0:lmsp_d1.shape[1], 1, counter] = lmsp_d1\n",
    "        ftr_train_aug[:, 0:lmsp_d2.shape[1], 2, counter] = lmsp_d2\n",
    "        \n",
    "        aug_name = ids+'-'+str(counter)\n",
    "        aug_id.append(aug_name)\n",
    "        aug_lbl.append(lbl)\n",
    "        counter=counter+1\n",
    "    \n",
    "    if lbl==2:\n",
    "        lmsp = feature_train[:,:,1,index]\n",
    "        \n",
    "        # apply time masking\n",
    "        new_lmsp_tm = time_masking(lmsp, num_time_mask=1)\n",
    "            \n",
    "        # find derivatives of masked lmsp\n",
    "        lmsp_d1 = librosa.feature.delta(new_lmsp_tm)\n",
    "        lmsp_d2 = librosa.feature.delta(new_lmsp_tm, order=2)\n",
    "        \n",
    "        ftr_train_aug[:, 0:new_lmsp_tm.shape[1], 0, counter] = new_lmsp_tm\n",
    "        ftr_train_aug[:, 0:lmsp_d1.shape[1], 1, counter] = lmsp_d1\n",
    "        ftr_train_aug[:, 0:lmsp_d2.shape[1], 2, counter] = lmsp_d2\n",
    "        \n",
    "        aug_name = ids+'-'+str(counter)\n",
    "        aug_id.append(aug_name)\n",
    "        aug_lbl.append(lbl)\n",
    "        counter=counter+1\n",
    "        \n",
    "        # apply freq masking\n",
    "        new_lmsp_freq = freq_masking(lmsp)\n",
    "        \n",
    "        # find derivatives of masked lmsp\n",
    "        lmsp_d1 = librosa.feature.delta(new_lmsp_freq)\n",
    "        lmsp_d2 = librosa.feature.delta(new_lmsp_freq, order=2)\n",
    "        \n",
    "        ftr_train_aug[:, 0:new_lmsp_freq.shape[1], 0, counter] = new_lmsp_freq\n",
    "        ftr_train_aug[:, 0:lmsp_d1.shape[1], 1, counter] = lmsp_d1\n",
    "        ftr_train_aug[:, 0:lmsp_d2.shape[1], 2, counter] = lmsp_d2\n",
    "        \n",
    "        aug_name = ids+'-'+str(counter)\n",
    "        aug_id.append(aug_name)\n",
    "        aug_lbl.append(lbl)\n",
    "        counter=counter+1\n",
    "        \n",
    "        # apply time masking two times and freq masking once\n",
    "        new_lmsp_time = time_masking(lmsp, num_time_mask=2)\n",
    "        new_lmsp_frequency = freq_masking(lmsp)\n",
    "        new_mat = new_lmsp_time + new_lmsp_frequency\n",
    "        \n",
    "        # find derivatives of masked lmsp\n",
    "        lmsp_d1 = librosa.feature.delta(new_mat)\n",
    "        lmsp_d2 = librosa.feature.delta(new_mat, order=2)\n",
    "        \n",
    "        ftr_train_aug[:, 0:new_mat.shape[1], 0, counter] = new_mat\n",
    "        ftr_train_aug[:, 0:lmsp_d1.shape[1], 1, counter] = lmsp_d1\n",
    "        ftr_train_aug[:, 0:lmsp_d2.shape[1], 2, counter] = lmsp_d2\n",
    "        \n",
    "        aug_name = ids+'-'+str(counter)\n",
    "        aug_id.append(aug_name)\n",
    "        aug_lbl.append(lbl)\n",
    "        counter=counter+1\n",
    "        \n",
    "    print('\\r'+f' Processed {counter}/{augLen} audio samples',end='')\n",
    "    \n",
    "print(len(aug_id), len(aug_lbl))"
   ]
  },
  {
   "cell_type": "code",
   "execution_count": 43,
   "id": "882da44b",
   "metadata": {},
   "outputs": [],
   "source": [
    "# save aug feature matrices\n",
    "#np.save(\"ftr_train_aug.npy\",ftr_train_aug)"
   ]
  },
  {
   "cell_type": "code",
   "execution_count": 50,
   "id": "c5e0377f",
   "metadata": {},
   "outputs": [
    {
     "data": {
      "text/html": [
       "<div>\n",
       "<style scoped>\n",
       "    .dataframe tbody tr th:only-of-type {\n",
       "        vertical-align: middle;\n",
       "    }\n",
       "\n",
       "    .dataframe tbody tr th {\n",
       "        vertical-align: top;\n",
       "    }\n",
       "\n",
       "    .dataframe thead th {\n",
       "        text-align: right;\n",
       "    }\n",
       "</style>\n",
       "<table border=\"1\" class=\"dataframe\">\n",
       "  <thead>\n",
       "    <tr style=\"text-align: right;\">\n",
       "      <th></th>\n",
       "      <th>uuid</th>\n",
       "      <th>severity</th>\n",
       "    </tr>\n",
       "  </thead>\n",
       "  <tbody>\n",
       "    <tr>\n",
       "      <th>0</th>\n",
       "      <td>2ef79bd0-5d88-4583-a45d-a6570dfbd4c7-0</td>\n",
       "      <td>1</td>\n",
       "    </tr>\n",
       "    <tr>\n",
       "      <th>1</th>\n",
       "      <td>e4bbd7fa-3767-48e3-97cf-c5e14881314f-1</td>\n",
       "      <td>1</td>\n",
       "    </tr>\n",
       "    <tr>\n",
       "      <th>2</th>\n",
       "      <td>ffedc843-bfc2-4ad6-a749-2bc86bdac84a-2</td>\n",
       "      <td>1</td>\n",
       "    </tr>\n",
       "    <tr>\n",
       "      <th>3</th>\n",
       "      <td>c5f4b9fe-04cd-441b-801f-ae24db6b2fc7-3</td>\n",
       "      <td>1</td>\n",
       "    </tr>\n",
       "    <tr>\n",
       "      <th>4</th>\n",
       "      <td>a0e0ce03-2778-46f2-8b5f-aa46c503f392-4</td>\n",
       "      <td>1</td>\n",
       "    </tr>\n",
       "  </tbody>\n",
       "</table>\n",
       "</div>"
      ],
      "text/plain": [
       "                                     uuid  severity\n",
       "0  2ef79bd0-5d88-4583-a45d-a6570dfbd4c7-0         1\n",
       "1  e4bbd7fa-3767-48e3-97cf-c5e14881314f-1         1\n",
       "2  ffedc843-bfc2-4ad6-a749-2bc86bdac84a-2         1\n",
       "3  c5f4b9fe-04cd-441b-801f-ae24db6b2fc7-3         1\n",
       "4  a0e0ce03-2778-46f2-8b5f-aa46c503f392-4         1"
      ]
     },
     "execution_count": 50,
     "metadata": {},
     "output_type": "execute_result"
    }
   ],
   "source": [
    "# convert df of aug_id and aug_lbl\n",
    "\n",
    "aug_df_train = pd.DataFrame({'uuid': aug_id,'severity':aug_lbl})\n",
    "aug_df_train.head()"
   ]
  },
  {
   "cell_type": "code",
   "execution_count": 51,
   "id": "9a7fbb40",
   "metadata": {},
   "outputs": [],
   "source": [
    "# Save augmentated df\n",
    "#aug_df_train.to_csv('aug_df_train.csv')"
   ]
  },
  {
   "cell_type": "code",
   "execution_count": 98,
   "id": "27f2aab4",
   "metadata": {},
   "outputs": [
    {
     "data": {
      "text/html": [
       "<div>\n",
       "<style scoped>\n",
       "    .dataframe tbody tr th:only-of-type {\n",
       "        vertical-align: middle;\n",
       "    }\n",
       "\n",
       "    .dataframe tbody tr th {\n",
       "        vertical-align: top;\n",
       "    }\n",
       "\n",
       "    .dataframe thead th {\n",
       "        text-align: right;\n",
       "    }\n",
       "</style>\n",
       "<table border=\"1\" class=\"dataframe\">\n",
       "  <thead>\n",
       "    <tr style=\"text-align: right;\">\n",
       "      <th></th>\n",
       "      <th>Unnamed: 0</th>\n",
       "      <th>uuid</th>\n",
       "      <th>severity</th>\n",
       "    </tr>\n",
       "  </thead>\n",
       "  <tbody>\n",
       "    <tr>\n",
       "      <th>0</th>\n",
       "      <td>149</td>\n",
       "      <td>47566b56-c2aa-48d5-a0be-92506fc53eab</td>\n",
       "      <td>0</td>\n",
       "    </tr>\n",
       "    <tr>\n",
       "      <th>1</th>\n",
       "      <td>1317</td>\n",
       "      <td>35647ec0-1566-4df0-ae5d-27b0357ece7c</td>\n",
       "      <td>0</td>\n",
       "    </tr>\n",
       "    <tr>\n",
       "      <th>2</th>\n",
       "      <td>1950</td>\n",
       "      <td>2ba1edda-3fc6-43f6-91b6-4e5c766425a3</td>\n",
       "      <td>0</td>\n",
       "    </tr>\n",
       "    <tr>\n",
       "      <th>3</th>\n",
       "      <td>265</td>\n",
       "      <td>74536842-b3dc-4f8f-b232-0333419d7ca2</td>\n",
       "      <td>0</td>\n",
       "    </tr>\n",
       "    <tr>\n",
       "      <th>4</th>\n",
       "      <td>1198</td>\n",
       "      <td>046545bc-7f2c-4425-9be2-ffc22bba515e</td>\n",
       "      <td>0</td>\n",
       "    </tr>\n",
       "  </tbody>\n",
       "</table>\n",
       "</div>"
      ],
      "text/plain": [
       "   Unnamed: 0                                  uuid  severity\n",
       "0         149  47566b56-c2aa-48d5-a0be-92506fc53eab         0\n",
       "1        1317  35647ec0-1566-4df0-ae5d-27b0357ece7c         0\n",
       "2        1950  2ba1edda-3fc6-43f6-91b6-4e5c766425a3         0\n",
       "3         265  74536842-b3dc-4f8f-b232-0333419d7ca2         0\n",
       "4        1198  046545bc-7f2c-4425-9be2-ffc22bba515e         0"
      ]
     },
     "execution_count": 98,
     "metadata": {},
     "output_type": "execute_result"
    }
   ],
   "source": [
    "# does this unnamed first column are indices from train-test split?\n",
    "df_train.head()"
   ]
  },
  {
   "cell_type": "code",
   "execution_count": 99,
   "id": "7407f1ad",
   "metadata": {},
   "outputs": [
    {
     "data": {
      "text/html": [
       "<div>\n",
       "<style scoped>\n",
       "    .dataframe tbody tr th:only-of-type {\n",
       "        vertical-align: middle;\n",
       "    }\n",
       "\n",
       "    .dataframe tbody tr th {\n",
       "        vertical-align: top;\n",
       "    }\n",
       "\n",
       "    .dataframe thead th {\n",
       "        text-align: right;\n",
       "    }\n",
       "</style>\n",
       "<table border=\"1\" class=\"dataframe\">\n",
       "  <thead>\n",
       "    <tr style=\"text-align: right;\">\n",
       "      <th></th>\n",
       "      <th>uuid</th>\n",
       "      <th>severity</th>\n",
       "    </tr>\n",
       "  </thead>\n",
       "  <tbody>\n",
       "    <tr>\n",
       "      <th>0</th>\n",
       "      <td>47566b56-c2aa-48d5-a0be-92506fc53eab</td>\n",
       "      <td>0</td>\n",
       "    </tr>\n",
       "    <tr>\n",
       "      <th>1</th>\n",
       "      <td>35647ec0-1566-4df0-ae5d-27b0357ece7c</td>\n",
       "      <td>0</td>\n",
       "    </tr>\n",
       "    <tr>\n",
       "      <th>2</th>\n",
       "      <td>2ba1edda-3fc6-43f6-91b6-4e5c766425a3</td>\n",
       "      <td>0</td>\n",
       "    </tr>\n",
       "    <tr>\n",
       "      <th>3</th>\n",
       "      <td>74536842-b3dc-4f8f-b232-0333419d7ca2</td>\n",
       "      <td>0</td>\n",
       "    </tr>\n",
       "    <tr>\n",
       "      <th>4</th>\n",
       "      <td>046545bc-7f2c-4425-9be2-ffc22bba515e</td>\n",
       "      <td>0</td>\n",
       "    </tr>\n",
       "  </tbody>\n",
       "</table>\n",
       "</div>"
      ],
      "text/plain": [
       "                                   uuid  severity\n",
       "0  47566b56-c2aa-48d5-a0be-92506fc53eab         0\n",
       "1  35647ec0-1566-4df0-ae5d-27b0357ece7c         0\n",
       "2  2ba1edda-3fc6-43f6-91b6-4e5c766425a3         0\n",
       "3  74536842-b3dc-4f8f-b232-0333419d7ca2         0\n",
       "4  046545bc-7f2c-4425-9be2-ffc22bba515e         0"
      ]
     },
     "execution_count": 99,
     "metadata": {},
     "output_type": "execute_result"
    }
   ],
   "source": [
    "df_train = df_train.iloc[: , 1:]\n",
    "df_train.head()"
   ]
  },
  {
   "cell_type": "code",
   "execution_count": 100,
   "id": "01cbaee3",
   "metadata": {},
   "outputs": [
    {
     "data": {
      "text/plain": [
       "((367, 2), (368, 2))"
      ]
     },
     "execution_count": 100,
     "metadata": {},
     "output_type": "execute_result"
    }
   ],
   "source": [
    "# do the same for validation and test sets df\n",
    "df_validation = df_validation.iloc[: , 1:]\n",
    "df_test = df_test.iloc[:, 1:]\n",
    "df_validation.shape, df_test.shape"
   ]
  },
  {
   "cell_type": "markdown",
   "id": "cf3aed77",
   "metadata": {},
   "source": [
    "I have appended augmented df and features below the original df and matrix."
   ]
  },
  {
   "cell_type": "code",
   "execution_count": 110,
   "id": "97502074",
   "metadata": {
    "scrolled": true
   },
   "outputs": [
    {
     "name": "stderr",
     "output_type": "stream",
     "text": [
      "C:\\Users\\neela\\AppData\\Local\\Temp\\ipykernel_19368\\128734534.py:1: FutureWarning: The frame.append method is deprecated and will be removed from pandas in a future version. Use pandas.concat instead.\n",
      "  merged_df = df_train.append(aug_df_train, ignore_index=True)\n"
     ]
    },
    {
     "data": {
      "text/html": [
       "<div>\n",
       "<style scoped>\n",
       "    .dataframe tbody tr th:only-of-type {\n",
       "        vertical-align: middle;\n",
       "    }\n",
       "\n",
       "    .dataframe tbody tr th {\n",
       "        vertical-align: top;\n",
       "    }\n",
       "\n",
       "    .dataframe thead th {\n",
       "        text-align: right;\n",
       "    }\n",
       "</style>\n",
       "<table border=\"1\" class=\"dataframe\">\n",
       "  <thead>\n",
       "    <tr style=\"text-align: right;\">\n",
       "      <th></th>\n",
       "      <th>uuid</th>\n",
       "      <th>severity</th>\n",
       "    </tr>\n",
       "  </thead>\n",
       "  <tbody>\n",
       "    <tr>\n",
       "      <th>0</th>\n",
       "      <td>47566b56-c2aa-48d5-a0be-92506fc53eab</td>\n",
       "      <td>0</td>\n",
       "    </tr>\n",
       "    <tr>\n",
       "      <th>1</th>\n",
       "      <td>35647ec0-1566-4df0-ae5d-27b0357ece7c</td>\n",
       "      <td>0</td>\n",
       "    </tr>\n",
       "    <tr>\n",
       "      <th>2</th>\n",
       "      <td>2ba1edda-3fc6-43f6-91b6-4e5c766425a3</td>\n",
       "      <td>0</td>\n",
       "    </tr>\n",
       "    <tr>\n",
       "      <th>3</th>\n",
       "      <td>74536842-b3dc-4f8f-b232-0333419d7ca2</td>\n",
       "      <td>0</td>\n",
       "    </tr>\n",
       "    <tr>\n",
       "      <th>4</th>\n",
       "      <td>046545bc-7f2c-4425-9be2-ffc22bba515e</td>\n",
       "      <td>0</td>\n",
       "    </tr>\n",
       "    <tr>\n",
       "      <th>...</th>\n",
       "      <td>...</td>\n",
       "      <td>...</td>\n",
       "    </tr>\n",
       "    <tr>\n",
       "      <th>2529</th>\n",
       "      <td>ce0c319b-da2c-4f90-9050-108a8156acb5-817</td>\n",
       "      <td>2</td>\n",
       "    </tr>\n",
       "    <tr>\n",
       "      <th>2530</th>\n",
       "      <td>f87d25cd-c9b0-409c-be18-39a7f80f2ff0-818</td>\n",
       "      <td>1</td>\n",
       "    </tr>\n",
       "    <tr>\n",
       "      <th>2531</th>\n",
       "      <td>e4242c29-1213-4960-b792-565fae299403-819</td>\n",
       "      <td>1</td>\n",
       "    </tr>\n",
       "    <tr>\n",
       "      <th>2532</th>\n",
       "      <td>2a49d183-60b0-4ccf-8147-876cc291670f-820</td>\n",
       "      <td>1</td>\n",
       "    </tr>\n",
       "    <tr>\n",
       "      <th>2533</th>\n",
       "      <td>7e3d9f84-ec39-4775-919b-fdab4aaac541-821</td>\n",
       "      <td>1</td>\n",
       "    </tr>\n",
       "  </tbody>\n",
       "</table>\n",
       "<p>2534 rows × 2 columns</p>\n",
       "</div>"
      ],
      "text/plain": [
       "                                          uuid  severity\n",
       "0         47566b56-c2aa-48d5-a0be-92506fc53eab         0\n",
       "1         35647ec0-1566-4df0-ae5d-27b0357ece7c         0\n",
       "2         2ba1edda-3fc6-43f6-91b6-4e5c766425a3         0\n",
       "3         74536842-b3dc-4f8f-b232-0333419d7ca2         0\n",
       "4         046545bc-7f2c-4425-9be2-ffc22bba515e         0\n",
       "...                                        ...       ...\n",
       "2529  ce0c319b-da2c-4f90-9050-108a8156acb5-817         2\n",
       "2530  f87d25cd-c9b0-409c-be18-39a7f80f2ff0-818         1\n",
       "2531  e4242c29-1213-4960-b792-565fae299403-819         1\n",
       "2532  2a49d183-60b0-4ccf-8147-876cc291670f-820         1\n",
       "2533  7e3d9f84-ec39-4775-919b-fdab4aaac541-821         1\n",
       "\n",
       "[2534 rows x 2 columns]"
      ]
     },
     "execution_count": 110,
     "metadata": {},
     "output_type": "execute_result"
    }
   ],
   "source": [
    "merged_df = df_train.append(aug_df_train, ignore_index=True)\n",
    "merged_df"
   ]
  },
  {
   "cell_type": "code",
   "execution_count": 117,
   "id": "0e1dc912",
   "metadata": {},
   "outputs": [
    {
     "data": {
      "text/plain": [
       "((64, 316, 3, 1712), (64, 316, 3, 822))"
      ]
     },
     "execution_count": 117,
     "metadata": {},
     "output_type": "execute_result"
    }
   ],
   "source": [
    "# Now need to arrange feature matrices as per shuffled array so labels will be consistent.\n",
    "feature_train.shape, ftr_train_aug.shape"
   ]
  },
  {
   "cell_type": "code",
   "execution_count": 124,
   "id": "6a2afb5b",
   "metadata": {},
   "outputs": [],
   "source": [
    "merged_ftr = np.zeros((64,316,3,2534))\n",
    "merged_ftr[:,:,:,0:1712] = feature_train\n",
    "merged_ftr[:,:,:,1712:] = ftr_train_aug"
   ]
  },
  {
   "cell_type": "code",
   "execution_count": 128,
   "id": "73e69054",
   "metadata": {},
   "outputs": [],
   "source": [
    "# save merged df and features\n",
    "#np.save(\"merged_ftr.npy\",merged_ftr)\n",
    "\n",
    "#merged_df.to_csv('merged_df.csv')"
   ]
  },
  {
   "cell_type": "code",
   "execution_count": null,
   "id": "3737630b",
   "metadata": {},
   "outputs": [],
   "source": [
    "#===================================================================="
   ]
  },
  {
   "cell_type": "code",
   "execution_count": null,
   "id": "db5d2253",
   "metadata": {},
   "outputs": [],
   "source": [
    "# For analysis:\n",
    "X_train = merged_ftr\n",
    "y_train = merged_df['severity']\n",
    "\n",
    "X_val = feature_validation\n",
    "y_val = df_validation['severity']\n",
    "\n",
    "X_test = feature_test\n",
    "y_test = df_test['severity']\n"
   ]
  },
  {
   "cell_type": "code",
   "execution_count": null,
   "id": "ba3d2579",
   "metadata": {},
   "outputs": [],
   "source": []
  },
  {
   "cell_type": "code",
   "execution_count": null,
   "id": "b31e13d0",
   "metadata": {},
   "outputs": [],
   "source": []
  },
  {
   "cell_type": "markdown",
   "id": "2eb82ef4",
   "metadata": {},
   "source": [
    "#### Now need to prepare training set ready for analysis. Need to shuffle and mix together df_train nd aug_df_train. Also respective features. For this, one idea is to shuffle indices.\n",
    "\n",
    "\"aug_df_train\" uuid ends with number that is 4th dimention for respective log-mel-spectogram feature matrix. \n",
    "Feature can be extracted from \"ftr_train_aug\" for \"uuid\" ends with '8' as ftr_train_aug[:,:,:,8]\n",
    "\n",
    "Creating df with suffled indices is easy but creating feature matrix is tricky.\n"
   ]
  },
  {
   "cell_type": "code",
   "execution_count": 112,
   "id": "cc589b71",
   "metadata": {},
   "outputs": [
    {
     "name": "stdout",
     "output_type": "stream",
     "text": [
      "(2534,)\n"
     ]
    }
   ],
   "source": [
    "# create indices for combining df_train and augmented df. Shuffle indices and then join df and features\n",
    "total_len = len(aug_df_train) + len(df_train)\n",
    "indices = np.arange(total_len) # as end number isn't included in a sequence\n",
    "shuffled_indices = random.sample(list(indices), len(indices))\n",
    "shuffled_indices = np.asarray(shuffled_indices)\n",
    "print(shuffled_indices.shape)"
   ]
  },
  {
   "cell_type": "code",
   "execution_count": 113,
   "id": "08dc1f1e",
   "metadata": {},
   "outputs": [
    {
     "data": {
      "text/html": [
       "<div>\n",
       "<style scoped>\n",
       "    .dataframe tbody tr th:only-of-type {\n",
       "        vertical-align: middle;\n",
       "    }\n",
       "\n",
       "    .dataframe tbody tr th {\n",
       "        vertical-align: top;\n",
       "    }\n",
       "\n",
       "    .dataframe thead th {\n",
       "        text-align: right;\n",
       "    }\n",
       "</style>\n",
       "<table border=\"1\" class=\"dataframe\">\n",
       "  <thead>\n",
       "    <tr style=\"text-align: right;\">\n",
       "      <th></th>\n",
       "      <th>uuid</th>\n",
       "      <th>severity</th>\n",
       "    </tr>\n",
       "  </thead>\n",
       "  <tbody>\n",
       "    <tr>\n",
       "      <th>39</th>\n",
       "      <td>f66386d5-f2e2-4b9b-8f00-35e51858446b</td>\n",
       "      <td>1</td>\n",
       "    </tr>\n",
       "    <tr>\n",
       "      <th>1347</th>\n",
       "      <td>6cd0a8d6-8e94-4ff2-8ad6-ed18ae2b207c</td>\n",
       "      <td>0</td>\n",
       "    </tr>\n",
       "    <tr>\n",
       "      <th>179</th>\n",
       "      <td>8396e93f-96ff-4fa3-8ef9-41c4d0ee191e</td>\n",
       "      <td>1</td>\n",
       "    </tr>\n",
       "    <tr>\n",
       "      <th>534</th>\n",
       "      <td>7c1b43d9-49f7-41ee-a347-2971c161ac7a</td>\n",
       "      <td>0</td>\n",
       "    </tr>\n",
       "    <tr>\n",
       "      <th>2083</th>\n",
       "      <td>d9b4a30f-682d-4889-b65f-b359f4ebc74d-371</td>\n",
       "      <td>2</td>\n",
       "    </tr>\n",
       "    <tr>\n",
       "      <th>...</th>\n",
       "      <td>...</td>\n",
       "      <td>...</td>\n",
       "    </tr>\n",
       "    <tr>\n",
       "      <th>1870</th>\n",
       "      <td>5d29532f-943b-4726-aca8-21191eeba327-158</td>\n",
       "      <td>1</td>\n",
       "    </tr>\n",
       "    <tr>\n",
       "      <th>221</th>\n",
       "      <td>98fb6294-d339-4c83-8ff5-2bbcf82e35e0</td>\n",
       "      <td>0</td>\n",
       "    </tr>\n",
       "    <tr>\n",
       "      <th>2504</th>\n",
       "      <td>a7197322-5d2f-4661-8c48-01e39f06a234-792</td>\n",
       "      <td>1</td>\n",
       "    </tr>\n",
       "    <tr>\n",
       "      <th>2034</th>\n",
       "      <td>d6ee9da5-ff1d-4677-9ab2-da397e3267c4-322</td>\n",
       "      <td>1</td>\n",
       "    </tr>\n",
       "    <tr>\n",
       "      <th>2056</th>\n",
       "      <td>583b78b9-ac37-4921-9865-fd6f683ad3e9-344</td>\n",
       "      <td>2</td>\n",
       "    </tr>\n",
       "  </tbody>\n",
       "</table>\n",
       "<p>2534 rows × 2 columns</p>\n",
       "</div>"
      ],
      "text/plain": [
       "                                          uuid  severity\n",
       "39        f66386d5-f2e2-4b9b-8f00-35e51858446b         1\n",
       "1347      6cd0a8d6-8e94-4ff2-8ad6-ed18ae2b207c         0\n",
       "179       8396e93f-96ff-4fa3-8ef9-41c4d0ee191e         1\n",
       "534       7c1b43d9-49f7-41ee-a347-2971c161ac7a         0\n",
       "2083  d9b4a30f-682d-4889-b65f-b359f4ebc74d-371         2\n",
       "...                                        ...       ...\n",
       "1870  5d29532f-943b-4726-aca8-21191eeba327-158         1\n",
       "221       98fb6294-d339-4c83-8ff5-2bbcf82e35e0         0\n",
       "2504  a7197322-5d2f-4661-8c48-01e39f06a234-792         1\n",
       "2034  d6ee9da5-ff1d-4677-9ab2-da397e3267c4-322         1\n",
       "2056  583b78b9-ac37-4921-9865-fd6f683ad3e9-344         2\n",
       "\n",
       "[2534 rows x 2 columns]"
      ]
     },
     "execution_count": 113,
     "metadata": {},
     "output_type": "execute_result"
    }
   ],
   "source": [
    "# as per shuffled_indices, newdf has shuffled merged_df\n",
    "newdf=merged_df.iloc[shuffled_indices] #0:2534\n",
    "newdf"
   ]
  }
 ],
 "metadata": {
  "colab": {
   "name": "",
   "version": ""
  },
  "kernelspec": {
   "display_name": "Python 3 (ipykernel)",
   "language": "python",
   "name": "python3"
  },
  "language_info": {
   "codemirror_mode": {
    "name": "ipython",
    "version": 3
   },
   "file_extension": ".py",
   "mimetype": "text/x-python",
   "name": "python",
   "nbconvert_exporter": "python",
   "pygments_lexer": "ipython3",
   "version": "3.10.9"
  }
 },
 "nbformat": 4,
 "nbformat_minor": 5
}
