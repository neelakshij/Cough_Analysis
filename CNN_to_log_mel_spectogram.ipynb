{
  "cells": [
    {
      "cell_type": "markdown",
      "metadata": {
        "id": "view-in-github",
        "colab_type": "text"
      },
      "source": [
        "<a href=\"https://colab.research.google.com/github/neelakshij/Cough_Analysis/blob/main/CNN_to_log_mel_spectogram.ipynb\" target=\"_parent\"><img src=\"https://colab.research.google.com/assets/colab-badge.svg\" alt=\"Open In Colab\"/></a>"
      ]
    },
    {
      "cell_type": "markdown",
      "id": "fa8ea4a6",
      "metadata": {
        "id": "fa8ea4a6"
      },
      "source": [
        "### model log-mel-spectogram and its derivatives with CNN\n",
        "\n",
        "training set: df_train.csv & ftr_train.npy\n",
        "augmented training set for labels psuedocough(==1) and sever(==2): auf_df_train.csv & ftr_train_aug.npy  \n",
        "training set with augmented values: merged_df.csv & merged_ftr.npy\n",
        "\n",
        "validation set: df_validation.csv & ftr_validation.npy\n",
        "\n",
        "test set: df_test.csv & ftr_test.npy\n",
        "\n",
        "Refered links: https://github.com/vrwilm/accent-detection/blob/main/4.2_MelSpectogram%2BCNN_LANG_SET2.ipynb"
      ]
    },
    {
      "cell_type": "code",
      "source": [
        "# mount our Google Drive to our working directory through extension\n",
        "import os\n",
        "from google.colab import drive\n",
        "\n",
        "MOUNTPOINT = \"/content/gdrive\"\n",
        "DATADIR = os.path.join(MOUNTPOINT, \"MyDrive\")\n",
        "drive.mount(MOUNTPOINT)"
      ],
      "metadata": {
        "id": "qgeGePbgCnC0",
        "colab": {
          "base_uri": "https://localhost:8080/"
        },
        "outputId": "28e7b1f4-efc8-4ce3-c35c-3960491a0a37"
      },
      "id": "qgeGePbgCnC0",
      "execution_count": 2,
      "outputs": [
        {
          "output_type": "stream",
          "name": "stdout",
          "text": [
            "Drive already mounted at /content/gdrive; to attempt to forcibly remount, call drive.mount(\"/content/gdrive\", force_remount=True).\n"
          ]
        }
      ]
    },
    {
      "cell_type": "code",
      "execution_count": 4,
      "id": "3d3888a2",
      "metadata": {
        "id": "3d3888a2"
      },
      "outputs": [],
      "source": [
        "# import libraries\n",
        "import pandas as pd\n",
        "import numpy as np\n",
        "\n",
        "import seaborn as sns\n",
        "import matplotlib.pyplot as plt\n",
        "%matplotlib inline\n",
        "\n",
        "from sklearn.model_selection import train_test_split\n",
        "from sklearn.metrics import confusion_matrix, accuracy_score, classification_report\n",
        "from sklearn.preprocessing import LabelEncoder, StandardScaler\n",
        "\n",
        "import tensorflow as tf\n",
        "from tensorflow.keras.utils import to_categorical\n",
        "from tensorflow.keras import layers\n",
        "from tensorflow.keras.models import Sequential\n",
        "from tensorflow.keras.initializers import Constant\n",
        "from tensorflow.keras.optimizers import Adam\n",
        "from tensorflow.keras.callbacks import EarlyStopping\n",
        "from tensorflow.keras.layers import Conv2D, Dense, Flatten, MaxPooling2D, AveragePooling2D, BatchNormalization, Dropout\n",
        "from tensorflow.keras.optimizers import Adam,RMSprop,Nadam,Adadelta"
      ]
    },
    {
      "cell_type": "code",
      "execution_count": 5,
      "id": "28d85796",
      "metadata": {
        "id": "28d85796",
        "outputId": "b43f06fd-ac13-4490-e6cb-07234ed36452",
        "colab": {
          "base_uri": "https://localhost:8080/"
        }
      },
      "outputs": [
        {
          "output_type": "stream",
          "name": "stdout",
          "text": [
            "(1712, 3) (822, 3) (2534, 3) (367, 3) (368, 3)\n",
            "(64, 316, 3, 1712) (64, 316, 3, 822) (64, 316, 3, 367) (64, 316, 3, 368)\n"
          ]
        }
      ],
      "source": [
        "# load dataframes of train, validation and test sets\n",
        "# need to append drive link... \"19OqxLCsvKLiBrdQeI9833GrLOpfge30f\n",
        "df_train = pd.read_csv('/content/gdrive/MyDrive/omdenaLC-CoughSeverityDetection/files/df_train.csv')\n",
        "df_train_augmented = pd.read_csv('/content/gdrive/MyDrive/omdenaLC-CoughSeverityDetection/files/aug_df_train.csv')\n",
        "df_merged = pd.read_csv('/content/gdrive/MyDrive/omdenaLC-CoughSeverityDetection/files/merged_df.csv') # df_train + df for augmented features\n",
        "df_validation = pd.read_csv('/content/gdrive/MyDrive/omdenaLC-CoughSeverityDetection/files/df_validation.csv')\n",
        "df_test = pd.read_csv('/content/gdrive/MyDrive/omdenaLC-CoughSeverityDetection/files/df_test.csv')\n",
        "\n",
        "# load respective feature matrices\n",
        "feature_train = np.load(\"/content/gdrive/MyDrive/omdenaLC-CoughSeverityDetection/files/ftr_train.npy\")\n",
        "feature_train_augmented = np.load(\"/content/gdrive/MyDrive/omdenaLC-CoughSeverityDetection/files/ftr_train_aug.npy\")\n",
        "#feature_merged = np.load(\"/content/gdrive/MyDrive/omdenaLC-CoughSeverityDetection/files/merged_train_ftr.npy\")  # feature_train + augmented features\n",
        "feature_validation = np.load(\"/content/gdrive/MyDrive/omdenaLC-CoughSeverityDetection/files/ftr_validation.npy\")\n",
        "feature_test = np.load(\"/content/gdrive/MyDrive/omdenaLC-CoughSeverityDetection/files/ftr_test.npy\")\n",
        "\n",
        "# check dimentions\n",
        "print(df_train.shape, df_train_augmented.shape, df_merged.shape, df_validation.shape, df_test.shape)\n",
        "print(feature_train.shape, feature_train_augmented.shape, feature_validation.shape, feature_test.shape)"
      ]
    },
    {
      "cell_type": "code",
      "source": [
        "# merged (train+augmented_train) feature set\n",
        "merged_ftr = np.zeros((64,316,3,2534))\n",
        "merged_ftr[:,:,:,0:1712] = feature_train\n",
        "merged_ftr[:,:,:,1712:] = feature_train_augmented"
      ],
      "metadata": {
        "id": "F4QgTVzJz4eD"
      },
      "id": "F4QgTVzJz4eD",
      "execution_count": 6,
      "outputs": []
    },
    {
      "cell_type": "code",
      "source": [
        "#np.save(\"/content/gdrive/MyDrive/omdenaLC-CoughSeverityDetection/files/merged_train_ftr.npy\",merged_ftr)"
      ],
      "metadata": {
        "id": "7vr2Ms-31vgI"
      },
      "id": "7vr2Ms-31vgI",
      "execution_count": 7,
      "outputs": []
    },
    {
      "cell_type": "code",
      "execution_count": 7,
      "id": "5257aed5",
      "metadata": {
        "id": "5257aed5",
        "outputId": "b9a403e9-8120-4f59-9ae3-89f2d73b4f42",
        "colab": {
          "base_uri": "https://localhost:8080/"
        }
      },
      "outputs": [
        {
          "output_type": "execute_result",
          "data": {
            "text/plain": [
              "(2534, 64, 316, 3)"
            ]
          },
          "metadata": {},
          "execution_count": 7
        }
      ],
      "source": [
        "# need to reshape mergerd features matrix\n",
        "X_merged = merged_ftr.reshape((2534,64,316,3))\n",
        "X_merged.shape"
      ]
    },
    {
      "cell_type": "code",
      "execution_count": 8,
      "id": "b009f62c",
      "metadata": {
        "id": "b009f62c",
        "outputId": "fa9205ab-ec85-4b94-823f-acde58605ab3",
        "colab": {
          "base_uri": "https://localhost:8080/"
        }
      },
      "outputs": [
        {
          "output_type": "stream",
          "name": "stdout",
          "text": [
            "(367, 64, 316, 3) (368, 64, 316, 3)\n"
          ]
        }
      ],
      "source": [
        "# need to reshape validation and test features matrices\n",
        "ftr_val = feature_validation.reshape((feature_validation.shape[-1],64,316,3))\n",
        "ftr_test = feature_test.reshape((feature_test.shape[-1],64,316,3))\n",
        "print(ftr_val.shape, ftr_test.shape)"
      ]
    },
    {
      "cell_type": "code",
      "execution_count": 9,
      "id": "5d41a62b",
      "metadata": {
        "id": "5d41a62b",
        "outputId": "47390342-6967-47c7-a27e-b513bf390700",
        "colab": {
          "base_uri": "https://localhost:8080/"
        }
      },
      "outputs": [
        {
          "output_type": "execute_result",
          "data": {
            "text/plain": [
              "(2534, 64, 316, 3)"
            ]
          },
          "metadata": {},
          "execution_count": 9
        }
      ],
      "source": [
        "# To normalize X_merged: need to do seperately for log-mel-spectogram and derivatives.\n",
        "# So need to normalize data per channel\n",
        "\n",
        "# create three instances of StandardScaler as each matrix contains three different feature.\n",
        "# also we need these to scale validation and test datasets.\n",
        "scaler0 = StandardScaler()\n",
        "scaler1 = StandardScaler()\n",
        "scaler2 = StandardScaler()\n",
        "scaler = [scaler0,scaler1,scaler2]\n",
        "# to save normalized features\n",
        "normalized_features = np.zeros((2534,64,316,3))\n",
        "\n",
        "# looping over number of samples\n",
        "for i in range(X_merged.shape[0]):\n",
        "    for ch in range(3):\n",
        "        ch_mat = scaler[ch].fit_transform(X_merged[i,:,:,ch])\n",
        "        normalized_features[i,:,:,ch] = ch_mat\n",
        "\n",
        "normalized_features.shape"
      ]
    },
    {
      "cell_type": "code",
      "execution_count": 10,
      "id": "dab29796",
      "metadata": {
        "id": "dab29796",
        "outputId": "a87dd94e-fa70-40d1-deb2-a8da50c48698",
        "colab": {
          "base_uri": "https://localhost:8080/"
        }
      },
      "outputs": [
        {
          "output_type": "stream",
          "name": "stdout",
          "text": [
            "(367, 64, 316, 3) (368, 64, 316, 3)\n"
          ]
        }
      ],
      "source": [
        "# similarly normalize validation and test feature datasets using scalers used to fit training dataset\n",
        "\n",
        "normalized_ftr_val = np.zeros(ftr_val.shape)\n",
        "# looping over number of samples in validation set\n",
        "for i in range(ftr_val.shape[0]):\n",
        "    for ch in range(3):\n",
        "        ch_mat = scaler[ch].fit_transform(ftr_val[i,:,:,ch])\n",
        "        normalized_ftr_val[i,:,:,ch] = ch_mat\n",
        "\n",
        "normalized_ftr_test = np.zeros(ftr_test.shape)\n",
        "# looping over number of samples in test set\n",
        "for i in range(ftr_test.shape[0]):\n",
        "    for ch in range(3):\n",
        "        ch_mat = scaler[ch].fit_transform(ftr_test[i,:,:,ch])\n",
        "        normalized_ftr_test[i,:,:,ch] = ch_mat\n",
        "\n",
        "print(normalized_ftr_val.shape, normalized_ftr_test.shape )"
      ]
    },
    {
      "cell_type": "code",
      "execution_count": 11,
      "id": "ae4b7bce",
      "metadata": {
        "id": "ae4b7bce",
        "outputId": "dac03744-6cbc-4554-f6d4-bc6a499f321f",
        "colab": {
          "base_uri": "https://localhost:8080/"
        }
      },
      "outputs": [
        {
          "output_type": "stream",
          "name": "stdout",
          "text": [
            "trainSet:  (2534, 64, 316, 3) (2534,)\n",
            "validationSet:  (367, 64, 316, 3) (367,)\n",
            "testSet:  (368, 64, 316, 3) (368,)\n"
          ]
        }
      ],
      "source": [
        "X_train = normalized_features\n",
        "y_train = df_merged['severity']\n",
        "\n",
        "X_val = normalized_ftr_val\n",
        "y_val = df_validation['severity']\n",
        "\n",
        "X_test = normalized_ftr_test\n",
        "y_test = df_test['severity']\n",
        "\n",
        "print(\"trainSet: \",X_train.shape, y_train.shape)\n",
        "print(\"validationSet: \",X_val.shape, y_val.shape)\n",
        "print(\"testSet: \",X_test.shape, y_test.shape)"
      ]
    },
    {
      "cell_type": "code",
      "execution_count": 12,
      "id": "54c7264c",
      "metadata": {
        "id": "54c7264c",
        "outputId": "727440e4-4fdc-4a29-a244-eb6bb404d45c",
        "colab": {
          "base_uri": "https://localhost:8080/"
        }
      },
      "outputs": [
        {
          "output_type": "execute_result",
          "data": {
            "text/plain": [
              "(64, 316, 3)"
            ]
          },
          "metadata": {},
          "execution_count": 12
        }
      ],
      "source": [
        "input_shape = X_train.shape[1:]\n",
        "input_shape"
      ]
    },
    {
      "cell_type": "code",
      "execution_count": null,
      "id": "627485f5",
      "metadata": {
        "id": "627485f5"
      },
      "outputs": [],
      "source": []
    },
    {
      "cell_type": "code",
      "execution_count": 13,
      "id": "fb14f8bf",
      "metadata": {
        "id": "fb14f8bf"
      },
      "outputs": [],
      "source": [
        "def plot_confusion_matrix(model, X_test):\n",
        "    \"\"\"\n",
        "    Plots confusion matrix for model prediction on test\n",
        "    \"\"\"\n",
        "\n",
        "    y_pred = model.predict(X_test)\n",
        "\n",
        "    y_pred = np.argmax(y_pred, axis=1)\n",
        "\n",
        "    y_true = y_test\n",
        "\n",
        "    confusion_mtx = tf.math.confusion_matrix(y_true, y_pred)\n",
        "\n",
        "    plt.figure(figsize=(8,6))\n",
        "    sns.heatmap(confusion_mtx,\n",
        "                #xticklabels=languages,\n",
        "                #yticklabels=languages,\n",
        "                annot=True, fmt='g')\n",
        "    plt.xlabel('Prediction')\n",
        "    plt.ylabel('Label')\n",
        "    plt.show()"
      ]
    },
    {
      "cell_type": "code",
      "execution_count": 14,
      "id": "69d6236d",
      "metadata": {
        "id": "69d6236d"
      },
      "outputs": [],
      "source": [
        "def plot_history(history):\n",
        "    \"\"\"\n",
        "    Plots accuracy/loss for training/validation set as a function of the epochs\n",
        "    \"\"\"\n",
        "\n",
        "    fig, ax = plt.subplots(figsize=(12,6), ncols=2)\n",
        "\n",
        "    # accuracy sublpot\n",
        "    ax[0].plot(history.history[\"accuracy\"], label=\"train accuracy\")\n",
        "    ax[0].plot(history.history[\"val_accuracy\"], label=\"val accuracy\")\n",
        "    ax[0].set_ylabel(\"Accuracy\")\n",
        "    ax[1].set_xlabel(\"Epoch\")\n",
        "    ax[0].set_ylim([0,1])\n",
        "    ax[0].set_title(\"Accuracy\")\n",
        "\n",
        "    # loss sublpot\n",
        "    ax[1].plot(history.history[\"loss\"], label=\"train error\")\n",
        "    ax[1].plot(history.history[\"val_loss\"], label=\"val error\")\n",
        "    ax[1].set_ylabel(\"Error\")\n",
        "    ax[1].set_xlabel(\"Epoch\")\n",
        "    ax[1].set_title(\"Loss\")\n",
        "    plt.legend()\n",
        "\n",
        "    plt.show()"
      ]
    },
    {
      "cell_type": "code",
      "execution_count": 15,
      "id": "e504da13",
      "metadata": {
        "id": "e504da13"
      },
      "outputs": [],
      "source": [
        "# CNN (https://github.com/vrwilm/accent-detection/blob/main/4.2_MelSpectogram%2BCNN_LANG_SET2.ipynb)\n",
        "\n",
        "num_lbl = 3\n",
        "\n",
        "tf.keras.backend.clear_session()\n",
        "model = Sequential()\n",
        "\n",
        "# 1st conv layer\n",
        "model.add(Conv2D(32, (3,3), activation='relu', input_shape=input_shape))\n",
        "model.add(BatchNormalization())\n",
        "model.add(MaxPooling2D((3,3), strides=(1,1), padding='same'))\n",
        "\n",
        "# 2nd conv layer\n",
        "model.add(Conv2D(64, (3,3), activation='relu'))\n",
        "model.add(BatchNormalization())\n",
        "model.add(AveragePooling2D((2,2), strides=(1,1), padding='same'))\n",
        "model.add(Dropout(0.1))\n",
        "\n",
        "# 3rd conv layer\n",
        "model.add(Conv2D(128, (2,2), activation='relu'))\n",
        "model.add(BatchNormalization())\n",
        "model.add(AveragePooling2D((2,2), strides=(1,1), padding='same'))\n",
        "model.add(Dropout(0.1))\n",
        "\n",
        "# flatten output and feed it into dense layer\n",
        "model.add(Flatten())\n",
        "model.add(Dense(128, activation='relu'))\n",
        "model.add(Dense(64, activation='relu'))\n",
        "model.add(Dropout(0.1))\n",
        "\n",
        "# output layer\n",
        "model.add(Dense(num_lbl, activation='softmax'))"
      ]
    },
    {
      "cell_type": "code",
      "execution_count": 16,
      "id": "134f051c",
      "metadata": {
        "id": "134f051c",
        "colab": {
          "base_uri": "https://localhost:8080/"
        },
        "outputId": "3fe51cca-88d6-4c6f-e44c-8959cbb48319"
      },
      "outputs": [
        {
          "output_type": "stream",
          "name": "stdout",
          "text": [
            "Model: \"sequential\"\n",
            "_________________________________________________________________\n",
            " Layer (type)                Output Shape              Param #   \n",
            "=================================================================\n",
            " conv2d (Conv2D)             (None, 62, 314, 32)       896       \n",
            "                                                                 \n",
            " batch_normalization (BatchN  (None, 62, 314, 32)      128       \n",
            " ormalization)                                                   \n",
            "                                                                 \n",
            " max_pooling2d (MaxPooling2D  (None, 62, 314, 32)      0         \n",
            " )                                                               \n",
            "                                                                 \n",
            " conv2d_1 (Conv2D)           (None, 60, 312, 64)       18496     \n",
            "                                                                 \n",
            " batch_normalization_1 (Batc  (None, 60, 312, 64)      256       \n",
            " hNormalization)                                                 \n",
            "                                                                 \n",
            " average_pooling2d (AverageP  (None, 60, 312, 64)      0         \n",
            " ooling2D)                                                       \n",
            "                                                                 \n",
            " dropout (Dropout)           (None, 60, 312, 64)       0         \n",
            "                                                                 \n",
            " conv2d_2 (Conv2D)           (None, 59, 311, 128)      32896     \n",
            "                                                                 \n",
            " batch_normalization_2 (Batc  (None, 59, 311, 128)     512       \n",
            " hNormalization)                                                 \n",
            "                                                                 \n",
            " average_pooling2d_1 (Averag  (None, 59, 311, 128)     0         \n",
            " ePooling2D)                                                     \n",
            "                                                                 \n",
            " dropout_1 (Dropout)         (None, 59, 311, 128)      0         \n",
            "                                                                 \n",
            " flatten (Flatten)           (None, 2348672)           0         \n",
            "                                                                 \n",
            " dense (Dense)               (None, 128)               300630144 \n",
            "                                                                 \n",
            " dense_1 (Dense)             (None, 64)                8256      \n",
            "                                                                 \n",
            " dropout_2 (Dropout)         (None, 64)                0         \n",
            "                                                                 \n",
            " dense_2 (Dense)             (None, 3)                 195       \n",
            "                                                                 \n",
            "=================================================================\n",
            "Total params: 300,691,779\n",
            "Trainable params: 300,691,331\n",
            "Non-trainable params: 448\n",
            "_________________________________________________________________\n"
          ]
        }
      ],
      "source": [
        "optimiser = Adam()\n",
        "model.compile(optimizer=optimiser, loss='sparse_categorical_crossentropy', metrics=['accuracy'])\n",
        "\n",
        "model.summary()"
      ]
    },
    {
      "cell_type": "code",
      "source": [
        "#train the model\n",
        "checkpoint_path = DATADIR + \"/omdenaLC-CoughSeverityDetection/checkpoints/\"\n",
        "checkpointer = tf.keras.callbacks.ModelCheckpoint(filepath= checkpoint_path+'model.weights.best.hdf5', verbose=1, save_best_only=True)\n",
        "hist = model.fit(X_train, y_train, validation_data=(X_val, y_val), batch_size=32, epochs=50,callbacks=[checkpointer], verbose=2, shuffle=True)"
      ],
      "metadata": {
        "colab": {
          "base_uri": "https://localhost:8080/"
        },
        "id": "E-8svhCl5wuZ",
        "outputId": "dbfd2825-d0d7-4d56-f442-a459b0954841"
      },
      "id": "E-8svhCl5wuZ",
      "execution_count": 17,
      "outputs": [
        {
          "output_type": "stream",
          "name": "stdout",
          "text": [
            "Epoch 1/50\n",
            "\n",
            "Epoch 1: val_loss improved from inf to 6.10629, saving model to /content/gdrive/MyDrive/omdenaLC-CoughSeverityDetection/checkpoints/model.weights.best.hdf5\n",
            "80/80 - 72s - loss: 152.0434 - accuracy: 0.3788 - val_loss: 6.1063 - val_accuracy: 0.6839 - 72s/epoch - 904ms/step\n",
            "Epoch 2/50\n",
            "\n",
            "Epoch 2: val_loss did not improve from 6.10629\n",
            "80/80 - 21s - loss: 65.5993 - accuracy: 0.4333 - val_loss: 16.2970 - val_accuracy: 0.2153 - 21s/epoch - 261ms/step\n",
            "Epoch 3/50\n",
            "\n",
            "Epoch 3: val_loss did not improve from 6.10629\n",
            "80/80 - 20s - loss: 17.4454 - accuracy: 0.4250 - val_loss: 7.2448 - val_accuracy: 0.2153 - 20s/epoch - 256ms/step\n",
            "Epoch 4/50\n",
            "\n",
            "Epoch 4: val_loss improved from 6.10629 to 1.01161, saving model to /content/gdrive/MyDrive/omdenaLC-CoughSeverityDetection/checkpoints/model.weights.best.hdf5\n",
            "80/80 - 79s - loss: 3.4092 - accuracy: 0.4586 - val_loss: 1.0116 - val_accuracy: 0.6839 - 79s/epoch - 989ms/step\n",
            "Epoch 5/50\n",
            "\n",
            "Epoch 5: val_loss did not improve from 1.01161\n",
            "80/80 - 20s - loss: 2.2579 - accuracy: 0.4696 - val_loss: 1.0178 - val_accuracy: 0.6839 - 20s/epoch - 254ms/step\n",
            "Epoch 6/50\n",
            "\n",
            "Epoch 6: val_loss did not improve from 1.01161\n",
            "80/80 - 20s - loss: 1.0911 - accuracy: 0.4724 - val_loss: 1.0331 - val_accuracy: 0.6785 - 20s/epoch - 256ms/step\n",
            "Epoch 7/50\n",
            "\n",
            "Epoch 7: val_loss did not improve from 1.01161\n",
            "80/80 - 21s - loss: 1.0614 - accuracy: 0.4740 - val_loss: 1.6451 - val_accuracy: 0.6512 - 21s/epoch - 257ms/step\n",
            "Epoch 8/50\n",
            "\n",
            "Epoch 8: val_loss did not improve from 1.01161\n",
            "80/80 - 21s - loss: 1.0607 - accuracy: 0.4743 - val_loss: 3.1990 - val_accuracy: 0.6131 - 21s/epoch - 257ms/step\n",
            "Epoch 9/50\n",
            "\n",
            "Epoch 9: val_loss did not improve from 1.01161\n",
            "80/80 - 21s - loss: 1.0633 - accuracy: 0.4759 - val_loss: 3.7947 - val_accuracy: 0.5613 - 21s/epoch - 261ms/step\n",
            "Epoch 10/50\n",
            "\n",
            "Epoch 10: val_loss did not improve from 1.01161\n",
            "80/80 - 21s - loss: 1.0548 - accuracy: 0.4751 - val_loss: 3.6532 - val_accuracy: 0.5695 - 21s/epoch - 266ms/step\n",
            "Epoch 11/50\n",
            "\n",
            "Epoch 11: val_loss did not improve from 1.01161\n",
            "80/80 - 21s - loss: 1.0475 - accuracy: 0.4795 - val_loss: 3.0481 - val_accuracy: 0.6131 - 21s/epoch - 263ms/step\n",
            "Epoch 12/50\n",
            "\n",
            "Epoch 12: val_loss did not improve from 1.01161\n",
            "80/80 - 21s - loss: 1.0503 - accuracy: 0.4755 - val_loss: 2.0573 - val_accuracy: 0.6540 - 21s/epoch - 262ms/step\n",
            "Epoch 13/50\n",
            "\n",
            "Epoch 13: val_loss did not improve from 1.01161\n",
            "80/80 - 21s - loss: 1.0478 - accuracy: 0.4803 - val_loss: 3.1198 - val_accuracy: 0.6185 - 21s/epoch - 262ms/step\n",
            "Epoch 14/50\n",
            "\n",
            "Epoch 14: val_loss did not improve from 1.01161\n",
            "80/80 - 21s - loss: 1.0960 - accuracy: 0.4834 - val_loss: 2.5399 - val_accuracy: 0.6431 - 21s/epoch - 261ms/step\n",
            "Epoch 15/50\n",
            "\n",
            "Epoch 15: val_loss did not improve from 1.01161\n",
            "80/80 - 21s - loss: 1.0494 - accuracy: 0.4854 - val_loss: 3.3048 - val_accuracy: 0.6267 - 21s/epoch - 263ms/step\n",
            "Epoch 16/50\n",
            "\n",
            "Epoch 16: val_loss did not improve from 1.01161\n",
            "80/80 - 21s - loss: 1.0259 - accuracy: 0.4964 - val_loss: 3.4757 - val_accuracy: 0.6240 - 21s/epoch - 263ms/step\n",
            "Epoch 17/50\n",
            "\n",
            "Epoch 17: val_loss did not improve from 1.01161\n",
            "80/80 - 21s - loss: 1.0209 - accuracy: 0.5036 - val_loss: 4.0185 - val_accuracy: 0.6294 - 21s/epoch - 263ms/step\n",
            "Epoch 18/50\n",
            "\n",
            "Epoch 18: val_loss did not improve from 1.01161\n",
            "80/80 - 21s - loss: 1.0128 - accuracy: 0.5114 - val_loss: 12.4890 - val_accuracy: 0.4850 - 21s/epoch - 262ms/step\n",
            "Epoch 19/50\n",
            "\n",
            "Epoch 19: val_loss did not improve from 1.01161\n",
            "80/80 - 21s - loss: 1.0542 - accuracy: 0.5075 - val_loss: 8.1292 - val_accuracy: 0.5177 - 21s/epoch - 262ms/step\n",
            "Epoch 20/50\n",
            "\n",
            "Epoch 20: val_loss did not improve from 1.01161\n",
            "80/80 - 21s - loss: 1.0146 - accuracy: 0.5189 - val_loss: 5.0912 - val_accuracy: 0.6376 - 21s/epoch - 263ms/step\n",
            "Epoch 21/50\n",
            "\n",
            "Epoch 21: val_loss did not improve from 1.01161\n",
            "80/80 - 21s - loss: 1.0221 - accuracy: 0.5028 - val_loss: 8.2340 - val_accuracy: 0.5913 - 21s/epoch - 262ms/step\n",
            "Epoch 22/50\n",
            "\n",
            "Epoch 22: val_loss did not improve from 1.01161\n",
            "80/80 - 21s - loss: 1.0104 - accuracy: 0.5091 - val_loss: 4.8024 - val_accuracy: 0.6403 - 21s/epoch - 262ms/step\n",
            "Epoch 23/50\n",
            "\n",
            "Epoch 23: val_loss did not improve from 1.01161\n",
            "80/80 - 21s - loss: 0.9830 - accuracy: 0.5264 - val_loss: 13.8060 - val_accuracy: 0.5341 - 21s/epoch - 262ms/step\n",
            "Epoch 24/50\n",
            "\n",
            "Epoch 24: val_loss did not improve from 1.01161\n",
            "80/80 - 21s - loss: 0.9795 - accuracy: 0.5391 - val_loss: 18.1943 - val_accuracy: 0.5095 - 21s/epoch - 262ms/step\n",
            "Epoch 25/50\n",
            "\n",
            "Epoch 25: val_loss did not improve from 1.01161\n",
            "80/80 - 21s - loss: 0.9553 - accuracy: 0.5462 - val_loss: 14.0699 - val_accuracy: 0.5422 - 21s/epoch - 263ms/step\n",
            "Epoch 26/50\n",
            "\n",
            "Epoch 26: val_loss did not improve from 1.01161\n",
            "80/80 - 21s - loss: 0.9689 - accuracy: 0.5375 - val_loss: 11.6348 - val_accuracy: 0.5504 - 21s/epoch - 263ms/step\n",
            "Epoch 27/50\n",
            "\n",
            "Epoch 27: val_loss did not improve from 1.01161\n",
            "80/80 - 21s - loss: 0.9314 - accuracy: 0.5556 - val_loss: 12.4670 - val_accuracy: 0.5613 - 21s/epoch - 264ms/step\n",
            "Epoch 28/50\n",
            "\n",
            "Epoch 28: val_loss did not improve from 1.01161\n",
            "80/80 - 21s - loss: 0.9300 - accuracy: 0.5572 - val_loss: 12.7589 - val_accuracy: 0.5613 - 21s/epoch - 264ms/step\n",
            "Epoch 29/50\n",
            "\n",
            "Epoch 29: val_loss did not improve from 1.01161\n",
            "80/80 - 21s - loss: 0.9551 - accuracy: 0.5552 - val_loss: 2.7034 - val_accuracy: 0.6431 - 21s/epoch - 262ms/step\n",
            "Epoch 30/50\n",
            "\n",
            "Epoch 30: val_loss did not improve from 1.01161\n",
            "80/80 - 21s - loss: 0.9342 - accuracy: 0.5576 - val_loss: 2.9197 - val_accuracy: 0.6403 - 21s/epoch - 264ms/step\n",
            "Epoch 31/50\n",
            "\n",
            "Epoch 31: val_loss did not improve from 1.01161\n",
            "80/80 - 21s - loss: 1.0453 - accuracy: 0.5280 - val_loss: 142.4774 - val_accuracy: 0.2316 - 21s/epoch - 263ms/step\n",
            "Epoch 32/50\n",
            "\n",
            "Epoch 32: val_loss did not improve from 1.01161\n",
            "80/80 - 21s - loss: 1.0081 - accuracy: 0.5288 - val_loss: 76.5461 - val_accuracy: 0.2371 - 21s/epoch - 265ms/step\n",
            "Epoch 33/50\n",
            "\n",
            "Epoch 33: val_loss did not improve from 1.01161\n",
            "80/80 - 21s - loss: 0.9805 - accuracy: 0.5403 - val_loss: 51.3242 - val_accuracy: 0.2561 - 21s/epoch - 263ms/step\n",
            "Epoch 34/50\n",
            "\n",
            "Epoch 34: val_loss did not improve from 1.01161\n",
            "80/80 - 21s - loss: 0.9418 - accuracy: 0.5608 - val_loss: 14.9774 - val_accuracy: 0.4005 - 21s/epoch - 265ms/step\n",
            "Epoch 35/50\n",
            "\n",
            "Epoch 35: val_loss did not improve from 1.01161\n",
            "80/80 - 21s - loss: 0.9983 - accuracy: 0.5568 - val_loss: 6.5819 - val_accuracy: 0.5177 - 21s/epoch - 263ms/step\n",
            "Epoch 36/50\n",
            "\n",
            "Epoch 36: val_loss did not improve from 1.01161\n",
            "80/80 - 21s - loss: 3.3553 - accuracy: 0.4767 - val_loss: 1432.4220 - val_accuracy: 0.6839 - 21s/epoch - 262ms/step\n",
            "Epoch 37/50\n",
            "\n",
            "Epoch 37: val_loss did not improve from 1.01161\n",
            "80/80 - 21s - loss: 1.1816 - accuracy: 0.4712 - val_loss: 157.8422 - val_accuracy: 0.6839 - 21s/epoch - 258ms/step\n",
            "Epoch 38/50\n",
            "\n",
            "Epoch 38: val_loss did not improve from 1.01161\n",
            "80/80 - 20s - loss: 1.0871 - accuracy: 0.4712 - val_loss: 11.8354 - val_accuracy: 0.6158 - 20s/epoch - 255ms/step\n",
            "Epoch 39/50\n",
            "\n",
            "Epoch 39: val_loss did not improve from 1.01161\n",
            "80/80 - 21s - loss: 1.1851 - accuracy: 0.4704 - val_loss: 6.9141 - val_accuracy: 0.6431 - 21s/epoch - 258ms/step\n",
            "Epoch 40/50\n",
            "\n",
            "Epoch 40: val_loss did not improve from 1.01161\n",
            "80/80 - 21s - loss: 1.0576 - accuracy: 0.4712 - val_loss: 3.8385 - val_accuracy: 0.6594 - 21s/epoch - 257ms/step\n",
            "Epoch 41/50\n",
            "\n",
            "Epoch 41: val_loss did not improve from 1.01161\n",
            "80/80 - 21s - loss: 1.0573 - accuracy: 0.4712 - val_loss: 2.9349 - val_accuracy: 0.6649 - 21s/epoch - 257ms/step\n",
            "Epoch 42/50\n",
            "\n",
            "Epoch 42: val_loss did not improve from 1.01161\n",
            "80/80 - 21s - loss: 1.0564 - accuracy: 0.4712 - val_loss: 2.9982 - val_accuracy: 0.6594 - 21s/epoch - 261ms/step\n",
            "Epoch 43/50\n",
            "\n",
            "Epoch 43: val_loss did not improve from 1.01161\n",
            "80/80 - 21s - loss: 1.0561 - accuracy: 0.4712 - val_loss: 2.8875 - val_accuracy: 0.6594 - 21s/epoch - 257ms/step\n",
            "Epoch 44/50\n",
            "\n",
            "Epoch 44: val_loss did not improve from 1.01161\n",
            "80/80 - 21s - loss: 1.0562 - accuracy: 0.4712 - val_loss: 2.7470 - val_accuracy: 0.6621 - 21s/epoch - 256ms/step\n",
            "Epoch 45/50\n",
            "\n",
            "Epoch 45: val_loss did not improve from 1.01161\n",
            "80/80 - 21s - loss: 1.0561 - accuracy: 0.4712 - val_loss: 2.5126 - val_accuracy: 0.6594 - 21s/epoch - 256ms/step\n",
            "Epoch 46/50\n",
            "\n",
            "Epoch 46: val_loss did not improve from 1.01161\n",
            "80/80 - 20s - loss: 1.0560 - accuracy: 0.4712 - val_loss: 2.4644 - val_accuracy: 0.6594 - 20s/epoch - 255ms/step\n",
            "Epoch 47/50\n",
            "\n",
            "Epoch 47: val_loss did not improve from 1.01161\n",
            "80/80 - 21s - loss: 1.0559 - accuracy: 0.4712 - val_loss: 2.4307 - val_accuracy: 0.6621 - 21s/epoch - 256ms/step\n",
            "Epoch 48/50\n",
            "\n",
            "Epoch 48: val_loss did not improve from 1.01161\n",
            "80/80 - 20s - loss: 1.0561 - accuracy: 0.4708 - val_loss: 2.7765 - val_accuracy: 0.6621 - 20s/epoch - 255ms/step\n",
            "Epoch 49/50\n",
            "\n",
            "Epoch 49: val_loss did not improve from 1.01161\n",
            "80/80 - 20s - loss: 1.0559 - accuracy: 0.4712 - val_loss: 2.7189 - val_accuracy: 0.6594 - 20s/epoch - 256ms/step\n",
            "Epoch 50/50\n",
            "\n",
            "Epoch 50: val_loss did not improve from 1.01161\n",
            "80/80 - 21s - loss: 1.0558 - accuracy: 0.4712 - val_loss: 2.9456 - val_accuracy: 0.6594 - 21s/epoch - 256ms/step\n"
          ]
        }
      ]
    },
    {
      "cell_type": "code",
      "source": [
        "plot_history(hist)"
      ],
      "metadata": {
        "colab": {
          "base_uri": "https://localhost:8080/",
          "height": 564
        },
        "id": "OGK91Vzz4CV7",
        "outputId": "26da4fa3-b120-4aaf-8f58-1f1cf9ee48f2"
      },
      "id": "OGK91Vzz4CV7",
      "execution_count": 18,
      "outputs": [
        {
          "output_type": "display_data",
          "data": {
            "text/plain": [
              "<Figure size 1200x600 with 2 Axes>"
            ],
            "image/png": "[encoded data removed]"
          },
          "metadata": {}
        }
      ]
    },
    {
      "cell_type": "code",
      "source": [
        "test_loss, test_acc = model.evaluate(X_test, y_test, verbose=2)"
      ],
      "metadata": {
        "colab": {
          "base_uri": "https://localhost:8080/"
        },
        "id": "AZE88LjN4GU7",
        "outputId": "0248a999-96f0-4d1a-95f8-d29bf5bc64c6"
      },
      "id": "AZE88LjN4GU7",
      "execution_count": 19,
      "outputs": [
        {
          "output_type": "stream",
          "name": "stdout",
          "text": [
            "12/12 - 1s - loss: 0.9352 - accuracy: 0.6658 - 1s/epoch - 90ms/step\n"
          ]
        }
      ]
    },
    {
      "cell_type": "code",
      "source": [
        "# load the weights that yielded the best validation accuracy\n",
        "model.load_weights(checkpoint_path+'model.weights.best.hdf5')\n",
        "# evaluate and print test accuracy\n",
        "score = model.evaluate(X_test, y_test, verbose=0)\n",
        "print('\\n', 'Test accuracy:', score[1])\n",
        "score # loss and acc"
      ],
      "metadata": {
        "colab": {
          "base_uri": "https://localhost:8080/"
        },
        "id": "cUtHoEkMAp-S",
        "outputId": "64574253-076a-4755-d7d6-f4c220a0d993"
      },
      "id": "cUtHoEkMAp-S",
      "execution_count": 22,
      "outputs": [
        {
          "output_type": "stream",
          "name": "stdout",
          "text": [
            "\n",
            " Test accuracy: 0.66847825050354\n"
          ]
        },
        {
          "output_type": "execute_result",
          "data": {
            "text/plain": [
              "[1.0178730487823486, 0.66847825050354]"
            ]
          },
          "metadata": {},
          "execution_count": 22
        }
      ]
    }
  ],
  "metadata": {
    "kernelspec": {
      "display_name": "Python 3",
      "name": "python3"
    },
    "language_info": {
      "codemirror_mode": {
        "name": "ipython",
        "version": 3
      },
      "file_extension": ".py",
      "mimetype": "text/x-python",
      "name": "python",
      "nbconvert_exporter": "python",
      "pygments_lexer": "ipython3",
      "version": "3.10.0"
    },
    "colab": {
      "provenance": [],
      "gpuType": "T4",
      "include_colab_link": true
    },
    "accelerator": "GPU"
  },
  "nbformat": 4,
  "nbformat_minor": 5
}