{
  "cells": [
    {
      "cell_type": "markdown",
      "metadata": {
        "id": "view-in-github",
        "colab_type": "text"
      },
      "source": [
        "<a href=\"https://colab.research.google.com/github/neelakshij/Cough_Analysis/blob/main/EDA_coughvid_with_Severity_labels.ipynb\" target=\"_parent\"><img src=\"https://colab.research.google.com/assets/colab-badge.svg\" alt=\"Open In Colab\"/></a>"
      ]
    },
    {
      "cell_type": "markdown",
      "source": [
        "Dataset:\n",
        "The COUGHVID crowdsourcing dataset, a corpus for the study of large-scale cough analysis algorithms. Sci Data 8, 156 (2021).\n",
        "authors: Orlandic, L., Teijeiro, T. & Atienza, D.\n",
        "https://doi.org/10.1038/s41597-021-00937-4\n",
        "\n",
        "Coughvid dataset has been preprocessed and respective cleaned_dataset file has been provided by Dharvi. Find notebook at following link.\n",
        "Ref: https://github.com/CodeItD5/Cough-Severity-Prediction/blob/main/COUGHVID-DATASET-ANALYSIS.ipynb\n",
        "\n",
        "Let's consider only those audios that are labeled with cough severity prediction for EDA."
      ],
      "metadata": {
        "id": "-Vtbgm3bspSK"
      },
      "id": "-Vtbgm3bspSK"
    },
    {
      "cell_type": "code",
      "source": [
        "import os\n",
        "from google.colab import drive\n",
        "\n",
        "MOUNTPOINT = \"/content/gdrive\"\n",
        "DATADIR = os.path.join(MOUNTPOINT, \"MyDrive\")\n",
        "drive.mount(MOUNTPOINT)"
      ],
      "metadata": {
        "colab": {
          "base_uri": "https://localhost:8080/"
        },
        "id": "8JIPZUzCIZRy",
        "outputId": "3852903c-961d-4cfe-e13e-843d03cfac3e"
      },
      "id": "8JIPZUzCIZRy",
      "execution_count": 45,
      "outputs": [
        {
          "output_type": "stream",
          "name": "stdout",
          "text": [
            "Drive already mounted at /content/gdrive; to attempt to forcibly remount, call drive.mount(\"/content/gdrive\", force_remount=True).\n"
          ]
        }
      ]
    },
    {
      "cell_type": "code",
      "execution_count": 46,
      "id": "6ef54905",
      "metadata": {
        "id": "6ef54905"
      },
      "outputs": [],
      "source": [
        "# import libraries\n",
        "import os\n",
        "import pandas as pd\n",
        "import numpy as np\n",
        "import seaborn as sns\n",
        "import matplotlib.pyplot as plt\n",
        "%matplotlib inline\n",
        "import librosa\n",
        "import subprocess\n",
        "from pathlib import Path\n",
        "from scipy.stats import kurtosis, skew"
      ]
    },
    {
      "cell_type": "code",
      "execution_count": 47,
      "id": "a93fc07c",
      "metadata": {
        "id": "a93fc07c",
        "outputId": "e9dfd74c-963b-42ce-d318-aed7b0908bee",
        "colab": {
          "base_uri": "https://localhost:8080/"
        }
      },
      "outputs": [
        {
          "output_type": "stream",
          "name": "stdout",
          "text": [
            "(2587, 17)\n"
          ]
        },
        {
          "output_type": "execute_result",
          "data": {
            "text/plain": [
              "mild           1691\n",
              "pseudocough     526\n",
              "severe          230\n",
              "unknown         138\n",
              "Name: severity, dtype: int64"
            ]
          },
          "metadata": {},
          "execution_count": 47
        }
      ],
      "source": [
        "# import cleaned data file and check severity column\n",
        "df_cleaned_for_severityPrediction = pd.read_csv('/content/gdrive/MyDrive/omdenaLC-CoughSeverityDetection/cleaned_coughvid_data.csv')\n",
        "print(df_cleaned_for_severityPrediction.shape)\n",
        "df_cleaned_for_severityPrediction['severity'].value_counts()"
      ]
    },
    {
      "cell_type": "code",
      "source": [
        "# drop records where severity==unknown\n",
        "df_severity_notnull = df_cleaned_for_severityPrediction[df_cleaned_for_severityPrediction.severity != 'unknown']\n",
        "print(df_severity_notnull.shape)\n",
        "df_severity_notnull['severity'].value_counts()"
      ],
      "metadata": {
        "colab": {
          "base_uri": "https://localhost:8080/"
        },
        "id": "dwRXAQhFxLSk",
        "outputId": "08be414f-a2bf-4635-e028-7087e9c03c99"
      },
      "id": "dwRXAQhFxLSk",
      "execution_count": 48,
      "outputs": [
        {
          "output_type": "stream",
          "name": "stdout",
          "text": [
            "(2449, 17)\n"
          ]
        },
        {
          "output_type": "execute_result",
          "data": {
            "text/plain": [
              "mild           1691\n",
              "pseudocough     526\n",
              "severe          230\n",
              "Name: severity, dtype: int64"
            ]
          },
          "metadata": {},
          "execution_count": 48
        }
      ]
    },
    {
      "cell_type": "code",
      "source": [
        "df_severity_notnull.tail()"
      ],
      "metadata": {
        "colab": {
          "base_uri": "https://localhost:8080/",
          "height": 357
        },
        "id": "UW-fmesUsKjV",
        "outputId": "17187afe-7c3e-4c9d-c873-881ecb8c3e02"
      },
      "id": "UW-fmesUsKjV",
      "execution_count": 16,
      "outputs": [
        {
          "output_type": "execute_result",
          "data": {
            "text/plain": [
              "                                      uuid  cough_detected   age  gender  \\\n",
              "2582  fed255ec-4829-4f4a-b22d-9bb23f2dd89f          0.9502   NaN     NaN   \n",
              "2583  ff1234d7-7837-4ba7-842f-99fdc916baa9          0.9947  29.0    male   \n",
              "2584  ff8363d2-016d-4738-9499-4c62480886fb          0.9933   NaN  female   \n",
              "2585  ffd18a56-096d-40fc-9862-e5c5a8ca1fcd          0.9953  25.0  female   \n",
              "2586  ffedc843-bfc2-4ad6-a749-2bc86bdac84a          0.9498  23.0    male   \n",
              "\n",
              "     respiratory_condition fever_muscle_pain       status status_SSL  \\\n",
              "2582                   NaN               NaN          NaN   COVID-19   \n",
              "2583                 False              True  symptomatic        NaN   \n",
              "2584                 False             False     COVID-19        NaN   \n",
              "2585                 False             False      healthy    healthy   \n",
              "2586                 False             False      healthy    healthy   \n",
              "\n",
              "     cough_type  dyspnea  wheezing  stridor  choking  congestion  nothing  \\\n",
              "2582        dry    False     False    False    False       False     True   \n",
              "2583        dry    False     False    False    False       False     True   \n",
              "2584        dry    False     False    False    False       False     True   \n",
              "2585        dry    False     False    False    False       False     True   \n",
              "2586        dry    False     False    False    False       False     True   \n",
              "\n",
              "            diagnosis     severity  \n",
              "2582  upper_infection         mild  \n",
              "2583  upper_infection         mild  \n",
              "2584         COVID-19         mild  \n",
              "2585         COVID-19         mild  \n",
              "2586    healthy_cough  pseudocough  "
            ],
            "text/html": [
              "\n",
              "  <div id=\"df-3c4e0299-e86a-41be-8fac-1684cbf9d173\">\n",
              "    <div class=\"colab-df-container\">\n",
              "      <div>\n",
              "<style scoped>\n",
              "    .dataframe tbody tr th:only-of-type {\n",
              "        vertical-align: middle;\n",
              "    }\n",
              "\n",
              "    .dataframe tbody tr th {\n",
              "        vertical-align: top;\n",
              "    }\n",
              "\n",
              "    .dataframe thead th {\n",
              "        text-align: right;\n",
              "    }\n",
              "</style>\n",
              "<table border=\"1\" class=\"dataframe\">\n",
              "  <thead>\n",
              "    <tr style=\"text-align: right;\">\n",
              "      <th></th>\n",
              "      <th>uuid</th>\n",
              "      <th>cough_detected</th>\n",
              "      <th>age</th>\n",
              "      <th>gender</th>\n",
              "      <th>respiratory_condition</th>\n",
              "      <th>fever_muscle_pain</th>\n",
              "      <th>status</th>\n",
              "      <th>status_SSL</th>\n",
              "      <th>cough_type</th>\n",
              "      <th>dyspnea</th>\n",
              "      <th>wheezing</th>\n",
              "      <th>stridor</th>\n",
              "      <th>choking</th>\n",
              "      <th>congestion</th>\n",
              "      <th>nothing</th>\n",
              "      <th>diagnosis</th>\n",
              "      <th>severity</th>\n",
              "    </tr>\n",
              "  </thead>\n",
              "  <tbody>\n",
              "    <tr>\n",
              "      <th>2582</th>\n",
              "      <td>fed255ec-4829-4f4a-b22d-9bb23f2dd89f</td>\n",
              "      <td>0.9502</td>\n",
              "      <td>NaN</td>\n",
              "      <td>NaN</td>\n",
              "      <td>NaN</td>\n",
              "      <td>NaN</td>\n",
              "      <td>NaN</td>\n",
              "      <td>COVID-19</td>\n",
              "      <td>dry</td>\n",
              "      <td>False</td>\n",
              "      <td>False</td>\n",
              "      <td>False</td>\n",
              "      <td>False</td>\n",
              "      <td>False</td>\n",
              "      <td>True</td>\n",
              "      <td>upper_infection</td>\n",
              "      <td>mild</td>\n",
              "    </tr>\n",
              "    <tr>\n",
              "      <th>2583</th>\n",
              "      <td>ff1234d7-7837-4ba7-842f-99fdc916baa9</td>\n",
              "      <td>0.9947</td>\n",
              "      <td>29.0</td>\n",
              "      <td>male</td>\n",
              "      <td>False</td>\n",
              "      <td>True</td>\n",
              "      <td>symptomatic</td>\n",
              "      <td>NaN</td>\n",
              "      <td>dry</td>\n",
              "      <td>False</td>\n",
              "      <td>False</td>\n",
              "      <td>False</td>\n",
              "      <td>False</td>\n",
              "      <td>False</td>\n",
              "      <td>True</td>\n",
              "      <td>upper_infection</td>\n",
              "      <td>mild</td>\n",
              "    </tr>\n",
              "    <tr>\n",
              "      <th>2584</th>\n",
              "      <td>ff8363d2-016d-4738-9499-4c62480886fb</td>\n",
              "      <td>0.9933</td>\n",
              "      <td>NaN</td>\n",
              "      <td>female</td>\n",
              "      <td>False</td>\n",
              "      <td>False</td>\n",
              "      <td>COVID-19</td>\n",
              "      <td>NaN</td>\n",
              "      <td>dry</td>\n",
              "      <td>False</td>\n",
              "      <td>False</td>\n",
              "      <td>False</td>\n",
              "      <td>False</td>\n",
              "      <td>False</td>\n",
              "      <td>True</td>\n",
              "      <td>COVID-19</td>\n",
              "      <td>mild</td>\n",
              "    </tr>\n",
              "    <tr>\n",
              "      <th>2585</th>\n",
              "      <td>ffd18a56-096d-40fc-9862-e5c5a8ca1fcd</td>\n",
              "      <td>0.9953</td>\n",
              "      <td>25.0</td>\n",
              "      <td>female</td>\n",
              "      <td>False</td>\n",
              "      <td>False</td>\n",
              "      <td>healthy</td>\n",
              "      <td>healthy</td>\n",
              "      <td>dry</td>\n",
              "      <td>False</td>\n",
              "      <td>False</td>\n",
              "      <td>False</td>\n",
              "      <td>False</td>\n",
              "      <td>False</td>\n",
              "      <td>True</td>\n",
              "      <td>COVID-19</td>\n",
              "      <td>mild</td>\n",
              "    </tr>\n",
              "    <tr>\n",
              "      <th>2586</th>\n",
              "      <td>ffedc843-bfc2-4ad6-a749-2bc86bdac84a</td>\n",
              "      <td>0.9498</td>\n",
              "      <td>23.0</td>\n",
              "      <td>male</td>\n",
              "      <td>False</td>\n",
              "      <td>False</td>\n",
              "      <td>healthy</td>\n",
              "      <td>healthy</td>\n",
              "      <td>dry</td>\n",
              "      <td>False</td>\n",
              "      <td>False</td>\n",
              "      <td>False</td>\n",
              "      <td>False</td>\n",
              "      <td>False</td>\n",
              "      <td>True</td>\n",
              "      <td>healthy_cough</td>\n",
              "      <td>pseudocough</td>\n",
              "    </tr>\n",
              "  </tbody>\n",
              "</table>\n",
              "</div>\n",
              "      <button class=\"colab-df-convert\" onclick=\"convertToInteractive('df-3c4e0299-e86a-41be-8fac-1684cbf9d173')\"\n",
              "              title=\"Convert this dataframe to an interactive table.\"\n",
              "              style=\"display:none;\">\n",
              "        \n",
              "  <svg xmlns=\"http://www.w3.org/2000/svg\" height=\"24px\"viewBox=\"0 0 24 24\"\n",
              "       width=\"24px\">\n",
              "    <path d=\"M0 0h24v24H0V0z\" fill=\"none\"/>\n",
              "    <path d=\"M18.56 5.44l.94 2.06.94-2.06 2.06-.94-2.06-.94-.94-2.06-.94 2.06-2.06.94zm-11 1L8.5 8.5l.94-2.06 2.06-.94-2.06-.94L8.5 2.5l-.94 2.06-2.06.94zm10 10l.94 2.06.94-2.06 2.06-.94-2.06-.94-.94-2.06-.94 2.06-2.06.94z\"/><path d=\"M17.41 7.96l-1.37-1.37c-.4-.4-.92-.59-1.43-.59-.52 0-1.04.2-1.43.59L10.3 9.45l-7.72 7.72c-.78.78-.78 2.05 0 2.83L4 21.41c.39.39.9.59 1.41.59.51 0 1.02-.2 1.41-.59l7.78-7.78 2.81-2.81c.8-.78.8-2.07 0-2.86zM5.41 20L4 18.59l7.72-7.72 1.47 1.35L5.41 20z\"/>\n",
              "  </svg>\n",
              "      </button>\n",
              "      \n",
              "  <style>\n",
              "    .colab-df-container {\n",
              "      display:flex;\n",
              "      flex-wrap:wrap;\n",
              "      gap: 12px;\n",
              "    }\n",
              "\n",
              "    .colab-df-convert {\n",
              "      background-color: #E8F0FE;\n",
              "      border: none;\n",
              "      border-radius: 50%;\n",
              "      cursor: pointer;\n",
              "      display: none;\n",
              "      fill: #1967D2;\n",
              "      height: 32px;\n",
              "      padding: 0 0 0 0;\n",
              "      width: 32px;\n",
              "    }\n",
              "\n",
              "    .colab-df-convert:hover {\n",
              "      background-color: #E2EBFA;\n",
              "      box-shadow: 0px 1px 2px rgba(60, 64, 67, 0.3), 0px 1px 3px 1px rgba(60, 64, 67, 0.15);\n",
              "      fill: #174EA6;\n",
              "    }\n",
              "\n",
              "    [theme=dark] .colab-df-convert {\n",
              "      background-color: #3B4455;\n",
              "      fill: #D2E3FC;\n",
              "    }\n",
              "\n",
              "    [theme=dark] .colab-df-convert:hover {\n",
              "      background-color: #434B5C;\n",
              "      box-shadow: 0px 1px 3px 1px rgba(0, 0, 0, 0.15);\n",
              "      filter: drop-shadow(0px 1px 2px rgba(0, 0, 0, 0.3));\n",
              "      fill: #FFFFFF;\n",
              "    }\n",
              "  </style>\n",
              "\n",
              "      <script>\n",
              "        const buttonEl =\n",
              "          document.querySelector('#df-3c4e0299-e86a-41be-8fac-1684cbf9d173 button.colab-df-convert');\n",
              "        buttonEl.style.display =\n",
              "          google.colab.kernel.accessAllowed ? 'block' : 'none';\n",
              "\n",
              "        async function convertToInteractive(key) {\n",
              "          const element = document.querySelector('#df-3c4e0299-e86a-41be-8fac-1684cbf9d173');\n",
              "          const dataTable =\n",
              "            await google.colab.kernel.invokeFunction('convertToInteractive',\n",
              "                                                     [key], {});\n",
              "          if (!dataTable) return;\n",
              "\n",
              "          const docLinkHtml = 'Like what you see? Visit the ' +\n",
              "            '<a target=\"_blank\" href=https://colab.research.google.com/notebooks/data_table.ipynb>data table notebook</a>'\n",
              "            + ' to learn more about interactive tables.';\n",
              "          element.innerHTML = '';\n",
              "          dataTable['output_type'] = 'display_data';\n",
              "          await google.colab.output.renderOutput(dataTable, element);\n",
              "          const docLink = document.createElement('div');\n",
              "          docLink.innerHTML = docLinkHtml;\n",
              "          element.appendChild(docLink);\n",
              "        }\n",
              "      </script>\n",
              "    </div>\n",
              "  </div>\n",
              "  "
            ]
          },
          "metadata": {},
          "execution_count": 16
        }
      ]
    },
    {
      "cell_type": "markdown",
      "source": [
        "get information about data. info() function lists column names along with notnull value count and data type.\n",
        "\n",
        "Dtype informs how many variables are categorical (object & bool), numerical (float). This dataset has total 15 categorical and 2 numerical variables.\n",
        "\n",
        "Non-Null count informs out of 2449 records how many records are useful for further analysis. All boolean, one categorical (uuid) and one nuerical (cough_detected) variables have all not-null values. \"uuid\" are unique ids and we have selected cough_detected>0.8 for this dataset. Though previously, we have removed nan and unknown labeled records from data, severity column still has 2 records of null values, Out of 2449 records, 2447 are not null records."
      ],
      "metadata": {
        "id": "3BUPkBsS01Sm"
      },
      "id": "3BUPkBsS01Sm"
    },
    {
      "cell_type": "code",
      "source": [
        "df_severity_notnull.info()"
      ],
      "metadata": {
        "colab": {
          "base_uri": "https://localhost:8080/"
        },
        "id": "nrU-cff1vgZO",
        "outputId": "0b090704-2815-424a-d58e-a55c627d491f"
      },
      "id": "nrU-cff1vgZO",
      "execution_count": 18,
      "outputs": [
        {
          "output_type": "stream",
          "name": "stdout",
          "text": [
            "<class 'pandas.core.frame.DataFrame'>\n",
            "Int64Index: 2449 entries, 0 to 2586\n",
            "Data columns (total 17 columns):\n",
            " #   Column                 Non-Null Count  Dtype  \n",
            "---  ------                 --------------  -----  \n",
            " 0   uuid                   2449 non-null   object \n",
            " 1   cough_detected         2449 non-null   float64\n",
            " 2   age                    2063 non-null   float64\n",
            " 3   gender                 2194 non-null   object \n",
            " 4   respiratory_condition  2194 non-null   object \n",
            " 5   fever_muscle_pain      2194 non-null   object \n",
            " 6   status                 2194 non-null   object \n",
            " 7   status_SSL             1024 non-null   object \n",
            " 8   cough_type             2449 non-null   object \n",
            " 9   dyspnea                2449 non-null   bool   \n",
            " 10  wheezing               2449 non-null   bool   \n",
            " 11  stridor                2449 non-null   bool   \n",
            " 12  choking                2449 non-null   bool   \n",
            " 13  congestion             2449 non-null   bool   \n",
            " 14  nothing                2449 non-null   bool   \n",
            " 15  diagnosis              2449 non-null   object \n",
            " 16  severity               2447 non-null   object \n",
            "dtypes: bool(6), float64(2), object(9)\n",
            "memory usage: 243.9+ KB\n"
          ]
        }
      ]
    },
    {
      "cell_type": "code",
      "source": [
        "# calculate the percentage of missing values in each column.\n",
        "\n",
        "(df_severity_notnull.isnull().sum()/(len(df_severity_notnull)))*100"
      ],
      "metadata": {
        "colab": {
          "base_uri": "https://localhost:8080/"
        },
        "id": "XOoKafszv2MX",
        "outputId": "64a66bcc-6ba7-48ec-a487-916746e5842c"
      },
      "id": "XOoKafszv2MX",
      "execution_count": 19,
      "outputs": [
        {
          "output_type": "execute_result",
          "data": {
            "text/plain": [
              "uuid                      0.000000\n",
              "cough_detected            0.000000\n",
              "age                      15.761535\n",
              "gender                   10.412413\n",
              "respiratory_condition    10.412413\n",
              "fever_muscle_pain        10.412413\n",
              "status                   10.412413\n",
              "status_SSL               58.187015\n",
              "cough_type                0.000000\n",
              "dyspnea                   0.000000\n",
              "wheezing                  0.000000\n",
              "stridor                   0.000000\n",
              "choking                   0.000000\n",
              "congestion                0.000000\n",
              "nothing                   0.000000\n",
              "diagnosis                 0.000000\n",
              "severity                  0.081666\n",
              "dtype: float64"
            ]
          },
          "metadata": {},
          "execution_count": 19
        }
      ]
    },
    {
      "cell_type": "markdown",
      "source": [
        "Among two numerical variables, cough_detected ia always True as on that condition we have current subset. Another numerical variable is age which is not going to affect our prediction label, i.e., severity of cough.\n",
        "\n",
        "Now among shown 9 categorical variables, one is our prediction label. Rest 8 variables are:\n",
        "'uuid', 'gender', 'respiratory_condition', 'fever_muscle_pain', 'status', 'status_SSL', 'cough_type', 'diagnosis'.\n",
        "uuid is unique and gender won't bias our label.\n",
        "Other 5 variables are important to explore, except status_SSL which has 58% null values.\n",
        "Though haven't shown here boolean variables are also important."
      ],
      "metadata": {
        "id": "0wXvRAjszFVM"
      },
      "id": "0wXvRAjszFVM"
    },
    {
      "cell_type": "code",
      "source": [
        "# how many Numerical and categorical variables this data have\n",
        "cat_cols=df_severity_notnull.select_dtypes(include=['object']).columns\n",
        "num_cols = df_severity_notnull.select_dtypes(include=np.number).columns.tolist()\n",
        "print(\"Categorical Variables:\")\n",
        "print(cat_cols)\n",
        "print(\"Numerical Variables:\")\n",
        "print(num_cols)"
      ],
      "metadata": {
        "colab": {
          "base_uri": "https://localhost:8080/"
        },
        "id": "wL62MSgQwA3H",
        "outputId": "7b2f3d9c-75a9-40de-db8d-b4ae609408b7"
      },
      "id": "wL62MSgQwA3H",
      "execution_count": 20,
      "outputs": [
        {
          "output_type": "stream",
          "name": "stdout",
          "text": [
            "Categorical Variables:\n",
            "Index(['uuid', 'gender', 'respiratory_condition', 'fever_muscle_pain',\n",
            "       'status', 'status_SSL', 'cough_type', 'diagnosis', 'severity'],\n",
            "      dtype='object')\n",
            "Numerical Variables:\n",
            "['cough_detected', 'age']\n"
          ]
        }
      ]
    },
    {
      "cell_type": "code",
      "source": [
        "# let's create the subset of this dataset including useful columns.\n",
        "subset = df_severity_notnull.loc[:,['respiratory_condition', 'fever_muscle_pain',\n",
        "       'status', 'cough_type','dyspnea', 'wheezing', 'stridor', 'choking', 'congestion', 'diagnosis', 'severity']]\n",
        "print(subset.shape)\n",
        "subset.head()"
      ],
      "metadata": {
        "colab": {
          "base_uri": "https://localhost:8080/",
          "height": 224
        },
        "id": "prfCt7KDykjj",
        "outputId": "b849ff4e-d32e-4bd0-cf8f-eef50ec4544a"
      },
      "id": "prfCt7KDykjj",
      "execution_count": 49,
      "outputs": [
        {
          "output_type": "stream",
          "name": "stdout",
          "text": [
            "(2449, 11)\n"
          ]
        },
        {
          "output_type": "execute_result",
          "data": {
            "text/plain": [
              "  respiratory_condition fever_muscle_pain       status cough_type  dyspnea  \\\n",
              "0                   NaN               NaN          NaN        dry    False   \n",
              "1                   NaN               NaN          NaN        wet    False   \n",
              "2                 False             False  symptomatic        dry    False   \n",
              "3                  True             False     COVID-19        dry    False   \n",
              "4                 False             False      healthy        dry    False   \n",
              "\n",
              "   wheezing  stridor  choking  congestion        diagnosis     severity  \n",
              "0     False    False     True       False         COVID-19         mild  \n",
              "1     False    False    False       False  lower_infection         mild  \n",
              "2     False    False    False       False    healthy_cough  pseudocough  \n",
              "3     False    False    False       False    healthy_cough  pseudocough  \n",
              "4     False    False    False       False         COVID-19         mild  "
            ],
            "text/html": [
              "\n",
              "  <div id=\"df-93a0a96e-5dd5-408e-a8f8-f6628026426c\">\n",
              "    <div class=\"colab-df-container\">\n",
              "      <div>\n",
              "<style scoped>\n",
              "    .dataframe tbody tr th:only-of-type {\n",
              "        vertical-align: middle;\n",
              "    }\n",
              "\n",
              "    .dataframe tbody tr th {\n",
              "        vertical-align: top;\n",
              "    }\n",
              "\n",
              "    .dataframe thead th {\n",
              "        text-align: right;\n",
              "    }\n",
              "</style>\n",
              "<table border=\"1\" class=\"dataframe\">\n",
              "  <thead>\n",
              "    <tr style=\"text-align: right;\">\n",
              "      <th></th>\n",
              "      <th>respiratory_condition</th>\n",
              "      <th>fever_muscle_pain</th>\n",
              "      <th>status</th>\n",
              "      <th>cough_type</th>\n",
              "      <th>dyspnea</th>\n",
              "      <th>wheezing</th>\n",
              "      <th>stridor</th>\n",
              "      <th>choking</th>\n",
              "      <th>congestion</th>\n",
              "      <th>diagnosis</th>\n",
              "      <th>severity</th>\n",
              "    </tr>\n",
              "  </thead>\n",
              "  <tbody>\n",
              "    <tr>\n",
              "      <th>0</th>\n",
              "      <td>NaN</td>\n",
              "      <td>NaN</td>\n",
              "      <td>NaN</td>\n",
              "      <td>dry</td>\n",
              "      <td>False</td>\n",
              "      <td>False</td>\n",
              "      <td>False</td>\n",
              "      <td>True</td>\n",
              "      <td>False</td>\n",
              "      <td>COVID-19</td>\n",
              "      <td>mild</td>\n",
              "    </tr>\n",
              "    <tr>\n",
              "      <th>1</th>\n",
              "      <td>NaN</td>\n",
              "      <td>NaN</td>\n",
              "      <td>NaN</td>\n",
              "      <td>wet</td>\n",
              "      <td>False</td>\n",
              "      <td>False</td>\n",
              "      <td>False</td>\n",
              "      <td>False</td>\n",
              "      <td>False</td>\n",
              "      <td>lower_infection</td>\n",
              "      <td>mild</td>\n",
              "    </tr>\n",
              "    <tr>\n",
              "      <th>2</th>\n",
              "      <td>False</td>\n",
              "      <td>False</td>\n",
              "      <td>symptomatic</td>\n",
              "      <td>dry</td>\n",
              "      <td>False</td>\n",
              "      <td>False</td>\n",
              "      <td>False</td>\n",
              "      <td>False</td>\n",
              "      <td>False</td>\n",
              "      <td>healthy_cough</td>\n",
              "      <td>pseudocough</td>\n",
              "    </tr>\n",
              "    <tr>\n",
              "      <th>3</th>\n",
              "      <td>True</td>\n",
              "      <td>False</td>\n",
              "      <td>COVID-19</td>\n",
              "      <td>dry</td>\n",
              "      <td>False</td>\n",
              "      <td>False</td>\n",
              "      <td>False</td>\n",
              "      <td>False</td>\n",
              "      <td>False</td>\n",
              "      <td>healthy_cough</td>\n",
              "      <td>pseudocough</td>\n",
              "    </tr>\n",
              "    <tr>\n",
              "      <th>4</th>\n",
              "      <td>False</td>\n",
              "      <td>False</td>\n",
              "      <td>healthy</td>\n",
              "      <td>dry</td>\n",
              "      <td>False</td>\n",
              "      <td>False</td>\n",
              "      <td>False</td>\n",
              "      <td>False</td>\n",
              "      <td>False</td>\n",
              "      <td>COVID-19</td>\n",
              "      <td>mild</td>\n",
              "    </tr>\n",
              "  </tbody>\n",
              "</table>\n",
              "</div>\n",
              "      <button class=\"colab-df-convert\" onclick=\"convertToInteractive('df-93a0a96e-5dd5-408e-a8f8-f6628026426c')\"\n",
              "              title=\"Convert this dataframe to an interactive table.\"\n",
              "              style=\"display:none;\">\n",
              "        \n",
              "  <svg xmlns=\"http://www.w3.org/2000/svg\" height=\"24px\"viewBox=\"0 0 24 24\"\n",
              "       width=\"24px\">\n",
              "    <path d=\"M0 0h24v24H0V0z\" fill=\"none\"/>\n",
              "    <path d=\"M18.56 5.44l.94 2.06.94-2.06 2.06-.94-2.06-.94-.94-2.06-.94 2.06-2.06.94zm-11 1L8.5 8.5l.94-2.06 2.06-.94-2.06-.94L8.5 2.5l-.94 2.06-2.06.94zm10 10l.94 2.06.94-2.06 2.06-.94-2.06-.94-.94-2.06-.94 2.06-2.06.94z\"/><path d=\"M17.41 7.96l-1.37-1.37c-.4-.4-.92-.59-1.43-.59-.52 0-1.04.2-1.43.59L10.3 9.45l-7.72 7.72c-.78.78-.78 2.05 0 2.83L4 21.41c.39.39.9.59 1.41.59.51 0 1.02-.2 1.41-.59l7.78-7.78 2.81-2.81c.8-.78.8-2.07 0-2.86zM5.41 20L4 18.59l7.72-7.72 1.47 1.35L5.41 20z\"/>\n",
              "  </svg>\n",
              "      </button>\n",
              "      \n",
              "  <style>\n",
              "    .colab-df-container {\n",
              "      display:flex;\n",
              "      flex-wrap:wrap;\n",
              "      gap: 12px;\n",
              "    }\n",
              "\n",
              "    .colab-df-convert {\n",
              "      background-color: #E8F0FE;\n",
              "      border: none;\n",
              "      border-radius: 50%;\n",
              "      cursor: pointer;\n",
              "      display: none;\n",
              "      fill: #1967D2;\n",
              "      height: 32px;\n",
              "      padding: 0 0 0 0;\n",
              "      width: 32px;\n",
              "    }\n",
              "\n",
              "    .colab-df-convert:hover {\n",
              "      background-color: #E2EBFA;\n",
              "      box-shadow: 0px 1px 2px rgba(60, 64, 67, 0.3), 0px 1px 3px 1px rgba(60, 64, 67, 0.15);\n",
              "      fill: #174EA6;\n",
              "    }\n",
              "\n",
              "    [theme=dark] .colab-df-convert {\n",
              "      background-color: #3B4455;\n",
              "      fill: #D2E3FC;\n",
              "    }\n",
              "\n",
              "    [theme=dark] .colab-df-convert:hover {\n",
              "      background-color: #434B5C;\n",
              "      box-shadow: 0px 1px 3px 1px rgba(0, 0, 0, 0.15);\n",
              "      filter: drop-shadow(0px 1px 2px rgba(0, 0, 0, 0.3));\n",
              "      fill: #FFFFFF;\n",
              "    }\n",
              "  </style>\n",
              "\n",
              "      <script>\n",
              "        const buttonEl =\n",
              "          document.querySelector('#df-93a0a96e-5dd5-408e-a8f8-f6628026426c button.colab-df-convert');\n",
              "        buttonEl.style.display =\n",
              "          google.colab.kernel.accessAllowed ? 'block' : 'none';\n",
              "\n",
              "        async function convertToInteractive(key) {\n",
              "          const element = document.querySelector('#df-93a0a96e-5dd5-408e-a8f8-f6628026426c');\n",
              "          const dataTable =\n",
              "            await google.colab.kernel.invokeFunction('convertToInteractive',\n",
              "                                                     [key], {});\n",
              "          if (!dataTable) return;\n",
              "\n",
              "          const docLinkHtml = 'Like what you see? Visit the ' +\n",
              "            '<a target=\"_blank\" href=https://colab.research.google.com/notebooks/data_table.ipynb>data table notebook</a>'\n",
              "            + ' to learn more about interactive tables.';\n",
              "          element.innerHTML = '';\n",
              "          dataTable['output_type'] = 'display_data';\n",
              "          await google.colab.output.renderOutput(dataTable, element);\n",
              "          const docLink = document.createElement('div');\n",
              "          docLink.innerHTML = docLinkHtml;\n",
              "          element.appendChild(docLink);\n",
              "        }\n",
              "      </script>\n",
              "    </div>\n",
              "  </div>\n",
              "  "
            ]
          },
          "metadata": {},
          "execution_count": 49
        }
      ]
    },
    {
      "cell_type": "code",
      "source": [
        "subset.describe()"
      ],
      "metadata": {
        "colab": {
          "base_uri": "https://localhost:8080/",
          "height": 175
        },
        "id": "jvnnO3to4eHZ",
        "outputId": "f0605a8b-d784-488f-eff4-18f1aaff4bd7"
      },
      "id": "jvnnO3to4eHZ",
      "execution_count": 28,
      "outputs": [
        {
          "output_type": "execute_result",
          "data": {
            "text/plain": [
              "       respiratory_condition fever_muscle_pain       status cough_type  \\\n",
              "count                   2194              2194         2194       2449   \n",
              "unique                     2                 2            3          3   \n",
              "top                    False             False  symptomatic        dry   \n",
              "freq                    1619              1759          909       1648   \n",
              "\n",
              "       dyspnea wheezing stridor choking congestion        diagnosis severity  \n",
              "count     2449     2449    2449    2449       2449             2449     2447  \n",
              "unique       2        2       2       2          2                5        3  \n",
              "top      False    False   False   False      False  upper_infection     mild  \n",
              "freq      2358     2321    2417    2430       2339              695     1691  "
            ],
            "text/html": [
              "\n",
              "  <div id=\"df-6859bd42-e084-4c2b-bbae-e3b3282fcffc\">\n",
              "    <div class=\"colab-df-container\">\n",
              "      <div>\n",
              "<style scoped>\n",
              "    .dataframe tbody tr th:only-of-type {\n",
              "        vertical-align: middle;\n",
              "    }\n",
              "\n",
              "    .dataframe tbody tr th {\n",
              "        vertical-align: top;\n",
              "    }\n",
              "\n",
              "    .dataframe thead th {\n",
              "        text-align: right;\n",
              "    }\n",
              "</style>\n",
              "<table border=\"1\" class=\"dataframe\">\n",
              "  <thead>\n",
              "    <tr style=\"text-align: right;\">\n",
              "      <th></th>\n",
              "      <th>respiratory_condition</th>\n",
              "      <th>fever_muscle_pain</th>\n",
              "      <th>status</th>\n",
              "      <th>cough_type</th>\n",
              "      <th>dyspnea</th>\n",
              "      <th>wheezing</th>\n",
              "      <th>stridor</th>\n",
              "      <th>choking</th>\n",
              "      <th>congestion</th>\n",
              "      <th>diagnosis</th>\n",
              "      <th>severity</th>\n",
              "    </tr>\n",
              "  </thead>\n",
              "  <tbody>\n",
              "    <tr>\n",
              "      <th>count</th>\n",
              "      <td>2194</td>\n",
              "      <td>2194</td>\n",
              "      <td>2194</td>\n",
              "      <td>2449</td>\n",
              "      <td>2449</td>\n",
              "      <td>2449</td>\n",
              "      <td>2449</td>\n",
              "      <td>2449</td>\n",
              "      <td>2449</td>\n",
              "      <td>2449</td>\n",
              "      <td>2447</td>\n",
              "    </tr>\n",
              "    <tr>\n",
              "      <th>unique</th>\n",
              "      <td>2</td>\n",
              "      <td>2</td>\n",
              "      <td>3</td>\n",
              "      <td>3</td>\n",
              "      <td>2</td>\n",
              "      <td>2</td>\n",
              "      <td>2</td>\n",
              "      <td>2</td>\n",
              "      <td>2</td>\n",
              "      <td>5</td>\n",
              "      <td>3</td>\n",
              "    </tr>\n",
              "    <tr>\n",
              "      <th>top</th>\n",
              "      <td>False</td>\n",
              "      <td>False</td>\n",
              "      <td>symptomatic</td>\n",
              "      <td>dry</td>\n",
              "      <td>False</td>\n",
              "      <td>False</td>\n",
              "      <td>False</td>\n",
              "      <td>False</td>\n",
              "      <td>False</td>\n",
              "      <td>upper_infection</td>\n",
              "      <td>mild</td>\n",
              "    </tr>\n",
              "    <tr>\n",
              "      <th>freq</th>\n",
              "      <td>1619</td>\n",
              "      <td>1759</td>\n",
              "      <td>909</td>\n",
              "      <td>1648</td>\n",
              "      <td>2358</td>\n",
              "      <td>2321</td>\n",
              "      <td>2417</td>\n",
              "      <td>2430</td>\n",
              "      <td>2339</td>\n",
              "      <td>695</td>\n",
              "      <td>1691</td>\n",
              "    </tr>\n",
              "  </tbody>\n",
              "</table>\n",
              "</div>\n",
              "      <button class=\"colab-df-convert\" onclick=\"convertToInteractive('df-6859bd42-e084-4c2b-bbae-e3b3282fcffc')\"\n",
              "              title=\"Convert this dataframe to an interactive table.\"\n",
              "              style=\"display:none;\">\n",
              "        \n",
              "  <svg xmlns=\"http://www.w3.org/2000/svg\" height=\"24px\"viewBox=\"0 0 24 24\"\n",
              "       width=\"24px\">\n",
              "    <path d=\"M0 0h24v24H0V0z\" fill=\"none\"/>\n",
              "    <path d=\"M18.56 5.44l.94 2.06.94-2.06 2.06-.94-2.06-.94-.94-2.06-.94 2.06-2.06.94zm-11 1L8.5 8.5l.94-2.06 2.06-.94-2.06-.94L8.5 2.5l-.94 2.06-2.06.94zm10 10l.94 2.06.94-2.06 2.06-.94-2.06-.94-.94-2.06-.94 2.06-2.06.94z\"/><path d=\"M17.41 7.96l-1.37-1.37c-.4-.4-.92-.59-1.43-.59-.52 0-1.04.2-1.43.59L10.3 9.45l-7.72 7.72c-.78.78-.78 2.05 0 2.83L4 21.41c.39.39.9.59 1.41.59.51 0 1.02-.2 1.41-.59l7.78-7.78 2.81-2.81c.8-.78.8-2.07 0-2.86zM5.41 20L4 18.59l7.72-7.72 1.47 1.35L5.41 20z\"/>\n",
              "  </svg>\n",
              "      </button>\n",
              "      \n",
              "  <style>\n",
              "    .colab-df-container {\n",
              "      display:flex;\n",
              "      flex-wrap:wrap;\n",
              "      gap: 12px;\n",
              "    }\n",
              "\n",
              "    .colab-df-convert {\n",
              "      background-color: #E8F0FE;\n",
              "      border: none;\n",
              "      border-radius: 50%;\n",
              "      cursor: pointer;\n",
              "      display: none;\n",
              "      fill: #1967D2;\n",
              "      height: 32px;\n",
              "      padding: 0 0 0 0;\n",
              "      width: 32px;\n",
              "    }\n",
              "\n",
              "    .colab-df-convert:hover {\n",
              "      background-color: #E2EBFA;\n",
              "      box-shadow: 0px 1px 2px rgba(60, 64, 67, 0.3), 0px 1px 3px 1px rgba(60, 64, 67, 0.15);\n",
              "      fill: #174EA6;\n",
              "    }\n",
              "\n",
              "    [theme=dark] .colab-df-convert {\n",
              "      background-color: #3B4455;\n",
              "      fill: #D2E3FC;\n",
              "    }\n",
              "\n",
              "    [theme=dark] .colab-df-convert:hover {\n",
              "      background-color: #434B5C;\n",
              "      box-shadow: 0px 1px 3px 1px rgba(0, 0, 0, 0.15);\n",
              "      filter: drop-shadow(0px 1px 2px rgba(0, 0, 0, 0.3));\n",
              "      fill: #FFFFFF;\n",
              "    }\n",
              "  </style>\n",
              "\n",
              "      <script>\n",
              "        const buttonEl =\n",
              "          document.querySelector('#df-6859bd42-e084-4c2b-bbae-e3b3282fcffc button.colab-df-convert');\n",
              "        buttonEl.style.display =\n",
              "          google.colab.kernel.accessAllowed ? 'block' : 'none';\n",
              "\n",
              "        async function convertToInteractive(key) {\n",
              "          const element = document.querySelector('#df-6859bd42-e084-4c2b-bbae-e3b3282fcffc');\n",
              "          const dataTable =\n",
              "            await google.colab.kernel.invokeFunction('convertToInteractive',\n",
              "                                                     [key], {});\n",
              "          if (!dataTable) return;\n",
              "\n",
              "          const docLinkHtml = 'Like what you see? Visit the ' +\n",
              "            '<a target=\"_blank\" href=https://colab.research.google.com/notebooks/data_table.ipynb>data table notebook</a>'\n",
              "            + ' to learn more about interactive tables.';\n",
              "          element.innerHTML = '';\n",
              "          dataTable['output_type'] = 'display_data';\n",
              "          await google.colab.output.renderOutput(dataTable, element);\n",
              "          const docLink = document.createElement('div');\n",
              "          docLink.innerHTML = docLinkHtml;\n",
              "          element.appendChild(docLink);\n",
              "        }\n",
              "      </script>\n",
              "    </div>\n",
              "  </div>\n",
              "  "
            ]
          },
          "metadata": {},
          "execution_count": 28
        }
      ]
    },
    {
      "cell_type": "markdown",
      "source": [
        "From the discription of subset, as shown in above cell,\n",
        "* we know how many non-null records are\n",
        "* how many unique values each column has\n",
        "* which value occured frequently as top and its count as freq."
      ],
      "metadata": {
        "id": "P7t05dLiu39_"
      },
      "id": "P7t05dLiu39_"
    },
    {
      "cell_type": "code",
      "source": [
        "# calculate the correlation matrix on the numeric columns\n",
        "correlation = subset.corr()\n",
        "\n",
        "print(correlation)\n",
        "\n",
        "# plotting correlation heatmap\n",
        "sns.heatmap(correlation, cmap=\"YlGnBu\", annot=True)"
      ],
      "metadata": {
        "colab": {
          "base_uri": "https://localhost:8080/",
          "height": 560
        },
        "id": "BmdNOjdq_NGE",
        "outputId": "e873c6dd-abb9-497e-bb94-2390e6b2b424"
      },
      "id": "BmdNOjdq_NGE",
      "execution_count": 34,
      "outputs": [
        {
          "output_type": "stream",
          "name": "stdout",
          "text": [
            "             dyspnea  wheezing   stridor   choking  congestion\n",
            "dyspnea     1.000000  0.118760  0.205516  0.031838    0.009512\n",
            "wheezing    0.118760  1.000000 -0.027021  0.083788   -0.024353\n",
            "stridor     0.205516 -0.027021  1.000000 -0.010174   -0.007592\n",
            "choking     0.031838  0.083788 -0.010174  1.000000   -0.019176\n",
            "congestion  0.009512 -0.024353 -0.007592 -0.019176    1.000000\n"
          ]
        },
        {
          "output_type": "execute_result",
          "data": {
            "text/plain": [
              "<Axes: >"
            ]
          },
          "metadata": {},
          "execution_count": 34
        },
        {
          "output_type": "display_data",
          "data": {
            "text/plain": [
              "<Figure size 640x480 with 2 Axes>"
            ],
            "image/png": "[encoded data removed]"
          },
          "metadata": {}
        }
      ]
    },
    {
      "cell_type": "markdown",
      "source": [
        "Pairwise correlation have shown for \"dyspnea, wheezing, stridor, choking and congestion\".\n",
        "Most of these variables are not or poorly correlated.\n",
        "Only choking and wheezing are highly correlated (0.84)."
      ],
      "metadata": {
        "id": "fN8-8Azz9-Ic"
      },
      "id": "fN8-8Azz9-Ic"
    },
    {
      "cell_type": "code",
      "source": [
        "# Dendrogram reveals correlation between all variable as a tree diagram, a hierarchical clustering algorithm.\n",
        "import missingno as msno\n",
        "msno.dendrogram(subset, figsize=(6,4), fontsize=10);"
      ],
      "metadata": {
        "colab": {
          "base_uri": "https://localhost:8080/",
          "height": 469
        },
        "id": "XE97tTWy74i-",
        "outputId": "49be0fd8-365c-4387-deb0-ce4e6ef4c435"
      },
      "id": "XE97tTWy74i-",
      "execution_count": 44,
      "outputs": [
        {
          "output_type": "display_data",
          "data": {
            "text/plain": [
              "<Figure size 600x400 with 1 Axes>"
            ],
            "image/png": "[encoded data removed]"
          },
          "metadata": {}
        }
      ]
    },
    {
      "cell_type": "markdown",
      "source": [
        "Dendogram represents the similarity relationships among a group of\n",
        "entities. Vetical orientation (Y-axis) represents the clossness (similarity) within attributes or the clusters. Greater the y-axis value, i.e., height, larger the difference within the leafs that are on horizontal orientation (x-axis).\n",
        "\n",
        "We can see clearly two simplicifolious clusters. Simplicifolious means single leafed.\n",
        "\n",
        "The first cluster contains attributes from dyspnea till diagnosis, are close together (similar to each other), as y-axis is zero. The second cluster helds fever_muscle_pain till status at zeroth level. First cluster closer (at level 2) to prediction label than latter one (at level 16). Attributes in the cluster 1 are less similar than the attributes in the cluster 2.\n",
        "\n",
        "{Ref: https://wheatoncollege.edu/wp-content/uploads/2012/08/How-to-Read-a-Dendrogram-Web-Ready.pdf}"
      ],
      "metadata": {
        "id": "S3NPt8UsB_L4"
      },
      "id": "S3NPt8UsB_L4"
    },
    {
      "cell_type": "code",
      "source": [
        "# Now following cluster grouping, let' findout correlation between diagnosis and severity\n",
        "# Cross tabulation between diagnosis and severity\n",
        "CrosstabResult=pd.crosstab(index=subset['diagnosis'],columns=subset['severity'])\n",
        "print(CrosstabResult)"
      ],
      "metadata": {
        "colab": {
          "base_uri": "https://localhost:8080/"
        },
        "id": "KB7E_7K6-rmY",
        "outputId": "6c9e9232-8504-4050-fd58-a4aa4fd7ad73"
      },
      "id": "KB7E_7K6-rmY",
      "execution_count": 50,
      "outputs": [
        {
          "output_type": "stream",
          "name": "stdout",
          "text": [
            "severity             mild  pseudocough  severe\n",
            "diagnosis                                     \n",
            "COVID-19              439            0      58\n",
            "healthy_cough           6          517       0\n",
            "lower_infection       466            0      93\n",
            "obstructive_disease   134            0      40\n",
            "upper_infection       646            9      39\n"
          ]
        }
      ]
    },
    {
      "cell_type": "code",
      "source": [
        "from scipy.stats import chi2_contingency\n",
        "\n",
        "# Performing Chi-sq test\n",
        "ChiSqResult = chi2_contingency(CrosstabResult)\n",
        "\n",
        "# P-Value = the Probability of null hypothesis H0, where H0 = variables are NOT correlated to each other.\n",
        "# If P-Value > 0.05 then only H0 is True\n",
        "\n",
        "print('The P-Value of the ChiSq Test is:', ChiSqResult[1])"
      ],
      "metadata": {
        "colab": {
          "base_uri": "https://localhost:8080/"
        },
        "id": "h1jntFER-rpP",
        "outputId": "fdba6de4-2022-422a-af2a-2df443d9d9e5"
      },
      "id": "h1jntFER-rpP",
      "execution_count": 51,
      "outputs": [
        {
          "output_type": "stream",
          "name": "stdout",
          "text": [
            "The P-Value of the ChiSq Test is: 0.0\n"
          ]
        }
      ]
    },
    {
      "cell_type": "code",
      "source": [
        "# Now following cluster grouping, let' findout correlation between respiratory_condition and severity\n",
        "# Cross tabulation between diagnosis and severity\n",
        "CrosstabResult1=pd.crosstab(index=subset['respiratory_condition'],columns=subset['severity'])\n",
        "print(CrosstabResult1)"
      ],
      "metadata": {
        "colab": {
          "base_uri": "https://localhost:8080/"
        },
        "id": "a_vfXUc9-rsS",
        "outputId": "fe8bba7e-62c0-4cdc-c26d-c37308d261e6"
      },
      "id": "a_vfXUc9-rsS",
      "execution_count": 52,
      "outputs": [
        {
          "output_type": "stream",
          "name": "stdout",
          "text": [
            "severity               mild  pseudocough  severe\n",
            "respiratory_condition                           \n",
            "False                  1123          342     153\n",
            "True                    389          122      63\n"
          ]
        }
      ]
    },
    {
      "cell_type": "code",
      "source": [
        "from scipy.stats import chi2_contingency\n",
        "\n",
        "# Performing Chi-sq test\n",
        "ChiSqResult1 = chi2_contingency(CrosstabResult1)\n",
        "\n",
        "# P-Value = the Probability of null hypothesis H0, where H0 = variables are NOT correlated to each other.\n",
        "# If P-Value > 0.05 then only H0 is True\n",
        "\n",
        "print('The P-Value of the ChiSq Test is:', ChiSqResult1[1])"
      ],
      "metadata": {
        "colab": {
          "base_uri": "https://localhost:8080/"
        },
        "id": "ZRT9x4HZ-rv4",
        "outputId": "37e4d327-6728-409b-b266-65b82d302c75"
      },
      "id": "ZRT9x4HZ-rv4",
      "execution_count": 53,
      "outputs": [
        {
          "output_type": "stream",
          "name": "stdout",
          "text": [
            "The P-Value of the ChiSq Test is: 0.5598952662841431\n"
          ]
        }
      ]
    },
    {
      "cell_type": "markdown",
      "source": [
        "Above chi square test results: ChiSqResult1 with p value> 0.5 confirms the dissimilarity between one of the cluster 2 attribute, respiratory_condition and severity. Whereas diagnosis, one onf the attribute from the cluster 1 is correlated (more similarity) to attribute severity as p value < 0.5.\n",
        "\n",
        "When variables are correlated, tracking change or behavior of one of the correlated variable, we may observe similar change or behaviour in other correlated variables.\n",
        "if variables are highly correlated then advise is to retain only one of them."
      ],
      "metadata": {
        "id": "8SOYnIx9VjVv"
      },
      "id": "8SOYnIx9VjVv"
    }
  ],
  "metadata": {
    "kernelspec": {
      "display_name": "Python 3 (ipykernel)",
      "language": "python",
      "name": "python3"
    },
    "language_info": {
      "codemirror_mode": {
        "name": "ipython",
        "version": 3
      },
      "file_extension": ".py",
      "mimetype": "text/x-python",
      "name": "python",
      "nbconvert_exporter": "python",
      "pygments_lexer": "ipython3",
      "version": "3.10.9"
    },
    "colab": {
      "provenance": [],
      "include_colab_link": true
    }
  },
  "nbformat": 4,
  "nbformat_minor": 5
}