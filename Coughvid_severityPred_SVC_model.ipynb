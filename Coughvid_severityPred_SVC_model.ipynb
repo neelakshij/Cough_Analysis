{
 "cells": [
  {
   "cell_type": "markdown",
   "id": "554ccc87",
   "metadata": {},
   "source": [
    "data: coughvid dataset with severity classification as labels\n",
    "Features: Log-Mel-Spectogram and derivatives \n",
    "ML model: SVC \n",
    "accuracy: 68%  "
   ]
  },
  {
   "cell_type": "code",
   "execution_count": 1,
   "id": "6ef54905",
   "metadata": {},
   "outputs": [],
   "source": [
    "# import libraries\n",
    "import os\n",
    "import pandas as pd\n",
    "import numpy as np\n",
    "import seaborn as sns\n",
    "import matplotlib.pyplot as plt\n",
    "%matplotlib inline\n",
    "import librosa\n",
    "import subprocess\n",
    "from pathlib import Path\n",
    "from scipy.stats import kurtosis, skew"
   ]
  },
  {
   "cell_type": "code",
   "execution_count": 2,
   "id": "f92a45ec",
   "metadata": {},
   "outputs": [],
   "source": [
    "# sklearn\n",
    "from sklearn.metrics import confusion_matrix, accuracy_score, classification_report\n",
    "from sklearn.model_selection import train_test_split\n",
    "from sklearn.preprocessing import LabelEncoder, StandardScaler\n",
    "from sklearn.neural_network import MLPClassifier\n",
    "from sklearn import svm, metrics\n",
    "from sklearn.svm import SVC\n",
    "from sklearn.ensemble import RandomForestClassifier\n",
    "from sklearn import neighbors\n",
    "\n",
    "from sklearn.model_selection import cross_val_score\n",
    "from sklearn.model_selection import StratifiedKFold, KFold, RepeatedStratifiedKFold\n",
    "\n",
    "from sklearn.model_selection import cross_val_predict\n",
    "from sklearn.metrics import confusion_matrix, classification_report, precision_score, recall_score, f1_score, balanced_accuracy_score\n",
    "from sklearn.metrics import cohen_kappa_score, matthews_corrcoef\n"
   ]
  },
  {
   "cell_type": "code",
   "execution_count": 3,
   "id": "7370a38e",
   "metadata": {},
   "outputs": [],
   "source": [
    "# features to extract\n",
    "def extract_audio_feature(path):\n",
    "    features =[]\n",
    "    # load audio\n",
    "    y, sr = librosa.load(path, mono=True, sr=None)\n",
    "    # extract features  \n",
    "    msp = librosa.feature.melspectrogram(y=y, sr=sr, n_mels=64, fmax=9000)\n",
    "    log_msp = librosa.power_to_db(msp)\n",
    "    log_msp_d1 = librosa.feature.delta(log_msp)\n",
    "    log_msp_d2 = librosa.feature.delta(log_msp, order=2)\n",
    "        \n",
    "    features = np.hstack([log_msp.mean(axis=1),log_msp_d1.mean(axis=1),log_msp_d2.mean(axis=1)])\n",
    "    \n",
    "    return features"
   ]
  },
  {
   "cell_type": "code",
   "execution_count": null,
   "id": "41cdb387",
   "metadata": {},
   "outputs": [],
   "source": []
  },
  {
   "cell_type": "code",
   "execution_count": 9,
   "id": "a93fc07c",
   "metadata": {},
   "outputs": [
    {
     "name": "stdout",
     "output_type": "stream",
     "text": [
      "(2449, 17)\n"
     ]
    },
    {
     "data": {
      "text/plain": [
       "mild           1691\n",
       "pseudocough     526\n",
       "severe          230\n",
       "Name: severity, dtype: int64"
      ]
     },
     "execution_count": 9,
     "metadata": {},
     "output_type": "execute_result"
    }
   ],
   "source": [
    "# import cleaned data file and check severity column\n",
    "df = pd.read_csv('cleaned_coughvid_data.csv')\n",
    "\n",
    "# drop records where severity==unknown\n",
    "df1 = df[df.severity != 'unknown']\n",
    "print(df1.shape)\n",
    "df1['severity'].value_counts()"
   ]
  },
  {
   "cell_type": "code",
   "execution_count": 10,
   "id": "a1e14ef7",
   "metadata": {},
   "outputs": [
    {
     "name": "stdout",
     "output_type": "stream",
     "text": [
      "True\n"
     ]
    },
    {
     "data": {
      "text/plain": [
       "2"
      ]
     },
     "execution_count": 10,
     "metadata": {},
     "output_type": "execute_result"
    }
   ],
   "source": [
    "# check for NaN values in Severity column\n",
    "print(df1['severity'].isnull().values.any())\n",
    "df['severity'].isnull().values.sum()"
   ]
  },
  {
   "cell_type": "code",
   "execution_count": 11,
   "id": "a71b4188",
   "metadata": {},
   "outputs": [
    {
     "name": "stdout",
     "output_type": "stream",
     "text": [
      "(2447, 17)\n",
      "confirming nanvalues:  0\n"
     ]
    }
   ],
   "source": [
    "# drop NaN values\n",
    "withoutNan_df = df1.dropna(subset=['severity'])\n",
    "print(withoutNan_df.shape)\n",
    "\n",
    "# confirming\n",
    "print(\"confirming nanvalues: \",withoutNan_df['severity'].isnull().values.sum())"
   ]
  },
  {
   "cell_type": "code",
   "execution_count": null,
   "id": "836d17ef",
   "metadata": {},
   "outputs": [],
   "source": [
    "### load data and extract features"
   ]
  },
  {
   "cell_type": "code",
   "execution_count": 12,
   "id": "cb8fd8a9",
   "metadata": {
    "scrolled": true
   },
   "outputs": [
    {
     "name": "stdout",
     "output_type": "stream",
     "text": [
      " Processed 2447/2447 audio samples"
     ]
    }
   ],
   "source": [
    "# load audio using uuid and extract features\n",
    "opath =  \"./wavFiles/\"\n",
    "\n",
    "labels_dict = {\n",
    "     '0':'mild',\n",
    "     '1':'pseudocough',\n",
    "     '2':'severe'\n",
    "}\n",
    "# key and val emotion list\n",
    "key_l = list(labels_dict.keys())\n",
    "val_l = list(labels_dict.values())\n",
    "\n",
    "dfids, labels, features_stat = [], [], []\n",
    "\n",
    "# progress counter\n",
    "file_count = 0\n",
    "\n",
    "for index, ids in enumerate(withoutNan_df.uuid):\n",
    "    dfids.append(ids)\n",
    "    #labels.append((df1.severity).iloc[index])  #string label values\n",
    "    \n",
    "    # get severity label from the sample file\n",
    "    lbl_str = (withoutNan_df.severity).iloc[index]\n",
    "    lbl_num = int(key_l[val_l.index(lbl_str)])\n",
    "    labels.append(lbl_num)\n",
    "    \n",
    "    filepath = opath+ids+'.wav'\n",
    "    ftr = extract_audio_feature(filepath)\n",
    "    features_stat.append(ftr)\n",
    "    \n",
    "    file_count += 1\n",
    "    # keep track of data loader's progress\n",
    "    print('\\r'+f' Processed {file_count}/{len(withoutNan_df)} audio samples',end='')"
   ]
  },
  {
   "cell_type": "code",
   "execution_count": 13,
   "id": "a8954c0c",
   "metadata": {},
   "outputs": [
    {
     "name": "stdout",
     "output_type": "stream",
     "text": [
      "features np array shape:  (2447, 192)\n"
     ]
    }
   ],
   "source": [
    "dt = np.array(features_stat)\n",
    "print(\"features np array shape: \",dt.shape)"
   ]
  },
  {
   "cell_type": "code",
   "execution_count": 15,
   "id": "2b10e662",
   "metadata": {},
   "outputs": [
    {
     "name": "stdout",
     "output_type": "stream",
     "text": [
      "(2447,)\n",
      "(2447,)\n"
     ]
    },
    {
     "data": {
      "text/plain": [
       "((2447, 1), (2447, 1))"
      ]
     },
     "execution_count": 15,
     "metadata": {},
     "output_type": "execute_result"
    }
   ],
   "source": [
    "dfids = np.asarray(dfids)\n",
    "print(dfids.shape)\n",
    "df_ids = np.reshape(dfids,(len(dfids),1))\n",
    "\n",
    "labels = np.asarray(labels)\n",
    "print(labels.shape)\n",
    "df_lbl = np.reshape(labels,(len(labels),1))\n",
    "\n",
    "df_ids.shape, df_lbl.shape"
   ]
  },
  {
   "cell_type": "code",
   "execution_count": 16,
   "id": "752c6cdb",
   "metadata": {},
   "outputs": [
    {
     "name": "stdout",
     "output_type": "stream",
     "text": [
      "(2447, 194)\n",
      "(2447, 194)\n"
     ]
    },
    {
     "data": {
      "text/html": [
       "<div>\n",
       "<style scoped>\n",
       "    .dataframe tbody tr th:only-of-type {\n",
       "        vertical-align: middle;\n",
       "    }\n",
       "\n",
       "    .dataframe tbody tr th {\n",
       "        vertical-align: top;\n",
       "    }\n",
       "\n",
       "    .dataframe thead th {\n",
       "        text-align: right;\n",
       "    }\n",
       "</style>\n",
       "<table border=\"1\" class=\"dataframe\">\n",
       "  <thead>\n",
       "    <tr style=\"text-align: right;\">\n",
       "      <th></th>\n",
       "      <th>0</th>\n",
       "      <th>1</th>\n",
       "      <th>2</th>\n",
       "      <th>3</th>\n",
       "      <th>4</th>\n",
       "      <th>5</th>\n",
       "      <th>6</th>\n",
       "      <th>7</th>\n",
       "      <th>8</th>\n",
       "      <th>9</th>\n",
       "      <th>...</th>\n",
       "      <th>184</th>\n",
       "      <th>185</th>\n",
       "      <th>186</th>\n",
       "      <th>187</th>\n",
       "      <th>188</th>\n",
       "      <th>189</th>\n",
       "      <th>190</th>\n",
       "      <th>191</th>\n",
       "      <th>192</th>\n",
       "      <th>193</th>\n",
       "    </tr>\n",
       "  </thead>\n",
       "  <tbody>\n",
       "    <tr>\n",
       "      <th>0</th>\n",
       "      <td>01567151-7bb2-45ee-9aa8-a1332b5941ea</td>\n",
       "      <td>-43.55661</td>\n",
       "      <td>-41.480846</td>\n",
       "      <td>-39.643368</td>\n",
       "      <td>-37.628273</td>\n",
       "      <td>-36.043907</td>\n",
       "      <td>-35.137222</td>\n",
       "      <td>-35.187443</td>\n",
       "      <td>-35.9417</td>\n",
       "      <td>-36.021473</td>\n",
       "      <td>...</td>\n",
       "      <td>0.0</td>\n",
       "      <td>-5.105323e-10</td>\n",
       "      <td>0.0</td>\n",
       "      <td>2.5526614e-09</td>\n",
       "      <td>-6.1263874e-09</td>\n",
       "      <td>-3.0631937e-09</td>\n",
       "      <td>0.0</td>\n",
       "      <td>-1.0210646e-09</td>\n",
       "      <td>3.573726e-09</td>\n",
       "      <td>0</td>\n",
       "    </tr>\n",
       "    <tr>\n",
       "      <th>1</th>\n",
       "      <td>018b40a1-c109-459a-9e31-86cbd2cb3918</td>\n",
       "      <td>-47.525455</td>\n",
       "      <td>-45.16427</td>\n",
       "      <td>-43.575325</td>\n",
       "      <td>-42.80686</td>\n",
       "      <td>-42.198696</td>\n",
       "      <td>-41.441845</td>\n",
       "      <td>-40.36228</td>\n",
       "      <td>-39.576687</td>\n",
       "      <td>-39.364807</td>\n",
       "      <td>...</td>\n",
       "      <td>-0.0105933435</td>\n",
       "      <td>-0.012727754</td>\n",
       "      <td>-0.010147403</td>\n",
       "      <td>-0.0088438075</td>\n",
       "      <td>-0.0063309865</td>\n",
       "      <td>-0.0011459514</td>\n",
       "      <td>-9.099946e-10</td>\n",
       "      <td>1.2999922e-10</td>\n",
       "      <td>-8.1249495e-12</td>\n",
       "      <td>0</td>\n",
       "    </tr>\n",
       "    <tr>\n",
       "      <th>2</th>\n",
       "      <td>01ff40e8-63e6-4570-a463-9778ea30cad7</td>\n",
       "      <td>-43.39546</td>\n",
       "      <td>-42.701763</td>\n",
       "      <td>-40.86465</td>\n",
       "      <td>-38.634872</td>\n",
       "      <td>-37.64142</td>\n",
       "      <td>-37.915543</td>\n",
       "      <td>-37.97829</td>\n",
       "      <td>-37.030876</td>\n",
       "      <td>-36.4715</td>\n",
       "      <td>...</td>\n",
       "      <td>-0.0020552296</td>\n",
       "      <td>0.0001683656</td>\n",
       "      <td>0.00077547267</td>\n",
       "      <td>-6.659739e-10</td>\n",
       "      <td>-7.991686e-10</td>\n",
       "      <td>1.5983366e-09</td>\n",
       "      <td>-2.663897e-10</td>\n",
       "      <td>1.0988561e-09</td>\n",
       "      <td>1.664871e-11</td>\n",
       "      <td>1</td>\n",
       "    </tr>\n",
       "    <tr>\n",
       "      <th>3</th>\n",
       "      <td>0379c586-c500-483c-83a6-95b63afe6931</td>\n",
       "      <td>-44.38546</td>\n",
       "      <td>-41.391323</td>\n",
       "      <td>-38.90425</td>\n",
       "      <td>-37.738556</td>\n",
       "      <td>-37.81213</td>\n",
       "      <td>-37.559288</td>\n",
       "      <td>-37.387947</td>\n",
       "      <td>-37.905132</td>\n",
       "      <td>-39.083096</td>\n",
       "      <td>...</td>\n",
       "      <td>5.3277865e-10</td>\n",
       "      <td>-6.6597394e-10</td>\n",
       "      <td>2.6638916e-10</td>\n",
       "      <td>5.3277865e-10</td>\n",
       "      <td>-2.1644175e-10</td>\n",
       "      <td>-1.997924e-10</td>\n",
       "      <td>1.165451e-10</td>\n",
       "      <td>-4.0828132e-16</td>\n",
       "      <td>-4.0828132e-16</td>\n",
       "      <td>1</td>\n",
       "    </tr>\n",
       "    <tr>\n",
       "      <th>4</th>\n",
       "      <td>038592cb-c8db-4f55-8052-e20059146cb5</td>\n",
       "      <td>-36.38642</td>\n",
       "      <td>-29.606733</td>\n",
       "      <td>-24.499537</td>\n",
       "      <td>-20.719791</td>\n",
       "      <td>-18.646845</td>\n",
       "      <td>-19.742687</td>\n",
       "      <td>-20.62541</td>\n",
       "      <td>-21.448437</td>\n",
       "      <td>-21.218958</td>\n",
       "      <td>...</td>\n",
       "      <td>-0.0037539268</td>\n",
       "      <td>-0.0015414153</td>\n",
       "      <td>-0.007497791</td>\n",
       "      <td>-0.009733099</td>\n",
       "      <td>-0.012369485</td>\n",
       "      <td>-0.0073576695</td>\n",
       "      <td>-0.0005173074</td>\n",
       "      <td>6.1846583e-10</td>\n",
       "      <td>-7.730821e-11</td>\n",
       "      <td>0</td>\n",
       "    </tr>\n",
       "  </tbody>\n",
       "</table>\n",
       "<p>5 rows × 194 columns</p>\n",
       "</div>"
      ],
      "text/plain": [
       "                                    0           1           2           3    \\\n",
       "0  01567151-7bb2-45ee-9aa8-a1332b5941ea   -43.55661  -41.480846  -39.643368   \n",
       "1  018b40a1-c109-459a-9e31-86cbd2cb3918  -47.525455   -45.16427  -43.575325   \n",
       "2  01ff40e8-63e6-4570-a463-9778ea30cad7   -43.39546  -42.701763   -40.86465   \n",
       "3  0379c586-c500-483c-83a6-95b63afe6931   -44.38546  -41.391323   -38.90425   \n",
       "4  038592cb-c8db-4f55-8052-e20059146cb5   -36.38642  -29.606733  -24.499537   \n",
       "\n",
       "          4           5           6           7           8           9    \\\n",
       "0  -37.628273  -36.043907  -35.137222  -35.187443    -35.9417  -36.021473   \n",
       "1   -42.80686  -42.198696  -41.441845   -40.36228  -39.576687  -39.364807   \n",
       "2  -38.634872   -37.64142  -37.915543   -37.97829  -37.030876    -36.4715   \n",
       "3  -37.738556   -37.81213  -37.559288  -37.387947  -37.905132  -39.083096   \n",
       "4  -20.719791  -18.646845  -19.742687   -20.62541  -21.448437  -21.218958   \n",
       "\n",
       "   ...            184             185            186            187  \\\n",
       "0  ...            0.0   -5.105323e-10            0.0  2.5526614e-09   \n",
       "1  ...  -0.0105933435    -0.012727754   -0.010147403  -0.0088438075   \n",
       "2  ...  -0.0020552296    0.0001683656  0.00077547267  -6.659739e-10   \n",
       "3  ...  5.3277865e-10  -6.6597394e-10  2.6638916e-10  5.3277865e-10   \n",
       "4  ...  -0.0037539268   -0.0015414153   -0.007497791   -0.009733099   \n",
       "\n",
       "              188             189            190             191  \\\n",
       "0  -6.1263874e-09  -3.0631937e-09            0.0  -1.0210646e-09   \n",
       "1   -0.0063309865   -0.0011459514  -9.099946e-10   1.2999922e-10   \n",
       "2   -7.991686e-10   1.5983366e-09  -2.663897e-10   1.0988561e-09   \n",
       "3  -2.1644175e-10   -1.997924e-10   1.165451e-10  -4.0828132e-16   \n",
       "4    -0.012369485   -0.0073576695  -0.0005173074   6.1846583e-10   \n",
       "\n",
       "              192 193  \n",
       "0    3.573726e-09   0  \n",
       "1  -8.1249495e-12   0  \n",
       "2    1.664871e-11   1  \n",
       "3  -4.0828132e-16   1  \n",
       "4   -7.730821e-11   0  \n",
       "\n",
       "[5 rows x 194 columns]"
      ]
     },
     "execution_count": 16,
     "metadata": {},
     "output_type": "execute_result"
    }
   ],
   "source": [
    "# be careful, first column is uuid for refernce and last column is severity labels\n",
    "all_col = np.hstack(([df_ids, dt, df_lbl]))\n",
    "print(all_col.shape)\n",
    "\n",
    "df_dt = pd.DataFrame(all_col)\n",
    "print(df_dt.shape)\n",
    "df_dt.head()"
   ]
  },
  {
   "cell_type": "code",
   "execution_count": 17,
   "id": "09129407",
   "metadata": {},
   "outputs": [],
   "source": [
    "# save df\n",
    "#df_dt.to_csv('df_mean-log-mel-spectogram-coughvid.csv', index=False)"
   ]
  },
  {
   "cell_type": "code",
   "execution_count": null,
   "id": "894b4e7d",
   "metadata": {},
   "outputs": [],
   "source": [
    "###  Analysis of Log-Mel-Spectogram + 1st & 2nd order derivatives with mean stat measures"
   ]
  },
  {
   "cell_type": "code",
   "execution_count": 18,
   "id": "77c821f8",
   "metadata": {},
   "outputs": [],
   "source": [
    "# ML analysis :  remember, first col is uuid\n",
    "scaler = StandardScaler().fit(df_dt.iloc[:,1:-1].values)\n",
    "X = scaler.transform(df_dt.iloc[:,1:-1].values)\n",
    "y = df_dt.iloc[:,-1].values\n",
    "\n",
    "skf = StratifiedKFold(n_splits=10, random_state=None, shuffle=True)"
   ]
  },
  {
   "cell_type": "code",
   "execution_count": 19,
   "id": "501687b4",
   "metadata": {},
   "outputs": [
    {
     "name": "stdout",
     "output_type": "stream",
     "text": [
      "with SVM: 0.6661241217798596\n"
     ]
    },
    {
     "data": {
      "text/plain": [
       "array([0.66938776, 0.67346939, 0.65306122, 0.68163265, 0.68979592,\n",
       "       0.64897959, 0.64081633, 0.69262295, 0.66803279, 0.64344262])"
      ]
     },
     "execution_count": 19,
     "metadata": {},
     "output_type": "execute_result"
    }
   ],
   "source": [
    "# check with SVM\n",
    "\n",
    "clf = SVC(decision_function_shape='ovo',C=21, gamma='scale' ,kernel='poly', degree=5, class_weight=None)  \n",
    "\n",
    "scores = cross_val_score(clf, X, y, scoring='accuracy', cv=skf)        \n",
    "print('with SVM:', scores.mean())\n",
    "scores"
   ]
  },
  {
   "cell_type": "code",
   "execution_count": 25,
   "id": "1c069b59",
   "metadata": {},
   "outputs": [
    {
     "name": "stdout",
     "output_type": "stream",
     "text": [
      "with SVM: 0.6877835396453664\n"
     ]
    },
    {
     "data": {
      "text/plain": [
       "array([0.68163265, 0.69795918, 0.68163265, 0.67346939, 0.68163265,\n",
       "       0.68979592, 0.70204082, 0.68852459, 0.69262295, 0.68852459])"
      ]
     },
     "execution_count": 25,
     "metadata": {},
     "output_type": "execute_result"
    }
   ],
   "source": [
    "# check with SVM\n",
    "\n",
    "clf = SVC(decision_function_shape='ovo',C=3, gamma='auto' ,kernel='rbf', class_weight=None)  \n",
    "\n",
    "scores = cross_val_score(clf, X, y, scoring='accuracy', cv=skf)        \n",
    "print('with SVM:', scores.mean())\n",
    "scores"
   ]
  },
  {
   "cell_type": "code",
   "execution_count": 27,
   "id": "6f92eb36",
   "metadata": {},
   "outputs": [
    {
     "name": "stdout",
     "output_type": "stream",
     "text": [
      "with SVC, 20% test accuracy:  0.6979591836734694\n"
     ]
    }
   ],
   "source": [
    "# check with SVM using split sets to create model\n",
    "\n",
    "X_train, X_test, y_train, y_test = train_test_split(X,y,test_size=0.2, random_state=1, shuffle=True)\n",
    "\n",
    "clf = SVC(decision_function_shape='ovo',C=3, gamma='auto' ,kernel='rbf', degree=3, class_weight=None)\n",
    " \n",
    "clf.fit(X_train, y_train)\n",
    "preds = clf.predict(X_test)\n",
    "val_acc = accuracy_score(y_test, preds)\n",
    "print(\"with SVC, 20% test accuracy: \",val_acc)"
   ]
  },
  {
   "cell_type": "code",
   "execution_count": 28,
   "id": "389f6a0b",
   "metadata": {},
   "outputs": [],
   "source": [
    "# save model\n",
    "import pickle\n",
    "filename = 'Coughvid_severityPred_svc_model.sav'\n",
    "pickle.dump(clf, open(filename, 'wb'))"
   ]
  },
  {
   "cell_type": "code",
   "execution_count": null,
   "id": "bdd56515",
   "metadata": {},
   "outputs": [],
   "source": []
  },
  {
   "cell_type": "code",
   "execution_count": null,
   "id": "e67ff157",
   "metadata": {},
   "outputs": [],
   "source": []
  },
  {
   "cell_type": "code",
   "execution_count": null,
   "id": "619ea5c9",
   "metadata": {},
   "outputs": [],
   "source": [
    "#  -------------------- below is MelSpectogram+derivatives with mean"
   ]
  },
  {
   "cell_type": "code",
   "execution_count": 39,
   "id": "a27b251c",
   "metadata": {},
   "outputs": [
    {
     "name": "stdout",
     "output_type": "stream",
     "text": [
      "with SVM: 0.6869722315155571\n"
     ]
    },
    {
     "data": {
      "text/plain": [
       "array([0.68571429, 0.68163265, 0.66938776, 0.68571429, 0.69387755,\n",
       "       0.68163265, 0.68979592, 0.67622951, 0.70081967, 0.70491803])"
      ]
     },
     "execution_count": 39,
     "metadata": {},
     "output_type": "execute_result"
    }
   ],
   "source": [
    "# check with SVM\n",
    "\n",
    "clf = SVC(decision_function_shape='ovo',C=3, gamma='auto' ,kernel='rbf', class_weight=None)  \n",
    "\n",
    "scores = cross_val_score(clf, X, y, scoring='accuracy', cv=skf)        \n",
    "print('with SVM:', scores.mean())\n",
    "scores"
   ]
  },
  {
   "cell_type": "code",
   "execution_count": 63,
   "id": "9acc57f5",
   "metadata": {},
   "outputs": [
    {
     "name": "stdout",
     "output_type": "stream",
     "text": [
      "with SVM: 0.6632619605219137\n"
     ]
    },
    {
     "data": {
      "text/plain": [
       "array([0.65306122, 0.66530612, 0.66530612, 0.64897959, 0.68163265,\n",
       "       0.64489796, 0.68163265, 0.68032787, 0.63114754, 0.68032787])"
      ]
     },
     "execution_count": 63,
     "metadata": {},
     "output_type": "execute_result"
    }
   ],
   "source": [
    "# apply MLP\n",
    "mlpc = MLPClassifier(solver='adam', alpha=1e-5, hidden_layer_sizes=(512,256,128,64,32),activation='relu')\n",
    "\n",
    "scores = cross_val_score(knn, X, y, scoring='accuracy', cv=skf)        \n",
    "print('with SVM:', scores.mean())\n",
    "scores"
   ]
  },
  {
   "cell_type": "code",
   "execution_count": 59,
   "id": "d7f6132f",
   "metadata": {},
   "outputs": [
    {
     "name": "stdout",
     "output_type": "stream",
     "text": [
      "with SVM: 0.6657042489126799\n"
     ]
    },
    {
     "data": {
      "text/plain": [
       "array([0.67346939, 0.66938776, 0.69795918, 0.64897959, 0.65714286,\n",
       "       0.67755102, 0.65714286, 0.65983607, 0.6557377 , 0.65983607])"
      ]
     },
     "execution_count": 59,
     "metadata": {},
     "output_type": "execute_result"
    }
   ],
   "source": [
    "# apply RF\n",
    "rfc = RandomForestClassifier(bootstrap = True, max_depth=20, min_samples_split=3, min_samples_leaf=3, \n",
    "                             max_features='log2', n_estimators=1900)\n",
    "scores = cross_val_score(knn, X, y, scoring='accuracy', cv=skf)        \n",
    "print('with SVM:', scores.mean())\n",
    "scores"
   ]
  },
  {
   "cell_type": "code",
   "execution_count": 49,
   "id": "5fdc9124",
   "metadata": {},
   "outputs": [
    {
     "name": "stdout",
     "output_type": "stream",
     "text": [
      "with SVM: 0.6645065239210439\n"
     ]
    },
    {
     "data": {
      "text/plain": [
       "array([0.66122449, 0.65306122, 0.65306122, 0.68571429, 0.64489796,\n",
       "       0.64081633, 0.66530612, 0.67213115, 0.68032787, 0.68852459])"
      ]
     },
     "execution_count": 49,
     "metadata": {},
     "output_type": "execute_result"
    }
   ],
   "source": [
    "# apply KNN\n",
    "knn = neighbors.KNeighborsClassifier(algorithm='kd_tree', leaf_size= 30, n_neighbors= 7, weights= 'uniform')\n",
    "scores = cross_val_score(knn, X, y, scoring='accuracy', cv=skf)        \n",
    "print('with SVM:', scores.mean())\n",
    "scores"
   ]
  },
  {
   "cell_type": "code",
   "execution_count": null,
   "id": "99cbe5f1",
   "metadata": {},
   "outputs": [],
   "source": []
  }
 ],
 "metadata": {
  "kernelspec": {
   "display_name": "Python 3 (ipykernel)",
   "language": "python",
   "name": "python3"
  },
  "language_info": {
   "codemirror_mode": {
    "name": "ipython",
    "version": 3
   },
   "file_extension": ".py",
   "mimetype": "text/x-python",
   "name": "python",
   "nbconvert_exporter": "python",
   "pygments_lexer": "ipython3",
   "version": "3.10.0"
  }
 },
 "nbformat": 4,
 "nbformat_minor": 5
}
